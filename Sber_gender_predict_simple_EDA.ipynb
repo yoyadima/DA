{
  "nbformat": 4,
  "nbformat_minor": 0,
  "metadata": {
    "colab": {
      "name": "Sber_gender_predict_simple_EDA.ipynb",
      "provenance": [],
      "collapsed_sections": [],
      "mount_file_id": "1MpqUujAw8g_ljRnwLbndmqjhAg5_a29j",
      "authorship_tag": "ABX9TyN9+J9HQaa1iY45qkDJfUfr",
      "include_colab_link": true
    },
    "kernelspec": {
      "name": "python3",
      "display_name": "Python 3"
    }
  },
  "cells": [
    {
      "cell_type": "markdown",
      "metadata": {
        "id": "view-in-github",
        "colab_type": "text"
      },
      "source": [
        "<a href=\"https://colab.research.google.com/github/yoyadima/DA/blob/main/Sber_gender_predict_simple_EDA.ipynb\" target=\"_parent\"><img src=\"https://colab.research.google.com/assets/colab-badge.svg\" alt=\"Open In Colab\"/></a>"
      ]
    },
    {
      "cell_type": "markdown",
      "metadata": {
        "id": "19R-HD0lYmBV"
      },
      "source": [
        "## Описание данных\r\n",
        "### Таблица ```transactions```\r\n",
        "##### Описание\r\n",
        "Таблица содержит историю транзакций клиентов банка за один год и три месяца.\r\n",
        "\r\n",
        "##### Формат данных\r\n",
        "\r\n",
        "```\r\n",
        "customer_id,tr_datetime,mcc_code,tr_type,amount,term_id\r\n",
        "111111,15 01:40:52,1111,1000,-5224,111111\r\n",
        "111112,15 15:18:32,3333,2000,-100,11122233\r\n",
        "...\r\n",
        "```\r\n",
        "##### Описание полей\r\n",
        "\r\n",
        " - ```customer_id``` — идентификатор клиента;\r\n",
        " - ```tr_datetime``` — день и время совершения транзакции (дни нумеруются с начала данных);\r\n",
        " - ```mcc_code``` — mcc-код транзакции;\r\n",
        " - ```tr_type``` — тип транзакции;\r\n",
        " - ```amount``` — сумма транзакции в условных единицах со знаком; ```+``` — начисление средств клиенту (приходная транзакция), ```-``` — списание средств (расходная транзакция);\r\n",
        " - ```term_id``` — идентификатор терминала;\r\n",
        "\r\n",
        "\r\n",
        "### Таблица ```gender_train```\r\n",
        "\r\n",
        "##### Описание\r\n",
        "Данная таблица содержит информацию по полу для части клиентов, для которых он известен. Для остальных клиентов пол неизвестен.\r\n",
        "\r\n",
        "##### Формат данных\r\n",
        "```\r\n",
        "customer_id,gender\r\n",
        "111111,0\r\n",
        "111112,1\r\n",
        "...\r\n",
        "```\r\n",
        "\r\n",
        "##### Описание полей\r\n",
        " - ```customer_id``` — идентификатор клиента;\r\n",
        " - ```gender``` — пол клиента;\r\n",
        "\r\n",
        "### Таблица ```tr_mcc_codes```\r\n",
        "\r\n",
        "##### Описание\r\n",
        "Данная таблица содержит описание mcc-кодов транзакций.\r\n",
        "\r\n",
        "##### Формат данных\r\n",
        "```\r\n",
        "mcc_code;mcc_description\r\n",
        "1000;словесное описание mcc-кода 1000\r\n",
        "2000;словесное описание mcc-кода 2000\r\n",
        "...\r\n",
        "```\r\n",
        "\r\n",
        "##### Описание полей\r\n",
        " - ```mcc_code``` – mcc-код транзакции;\r\n",
        " - ```mcc_description``` — описание mcc-кода транзакции.\r\n",
        "\r\n",
        "### Таблица ```tr_types```\r\n",
        "\r\n",
        "##### Описание\r\n",
        "Данная таблица содержит описание типов транзакций.\r\n",
        "\r\n",
        "##### Формат данных\r\n",
        "```\r\n",
        "tr_type;tr_description\r\n",
        "1000;словесное описание типа транзакции 1000\r\n",
        "2000;словесное описание типа транзакции 2000\r\n",
        "...\r\n",
        "```\r\n",
        "\r\n",
        "##### Описание полей\r\n",
        " - ```tr_type``` – тип транзакции;\r\n",
        " - ```tr_description``` — описание типа транзакции;"
      ]
    },
    {
      "cell_type": "markdown",
      "metadata": {
        "id": "17Rd7z3_Yt--"
      },
      "source": [
        "##EDA"
      ]
    },
    {
      "cell_type": "code",
      "metadata": {
        "id": "L8MYhMcb7_0y"
      },
      "source": [
        "import pandas as pd\r\n",
        "import numpy as np\r\n",
        "import re\r\n",
        "import matplotlib.pyplot as plt\r\n",
        "import seaborn as sns\r\n",
        "from scipy.signal import find_peaks\r\n",
        "\r\n",
        "from warnings import filterwarnings\r\n",
        "\r\n",
        "%matplotlib inline\r\n",
        "filterwarnings('ignore')"
      ],
      "execution_count": 1,
      "outputs": []
    },
    {
      "cell_type": "code",
      "metadata": {
        "id": "cEXJG_y39dQG"
      },
      "source": [
        "# Считываем данные\r\n",
        "tr_mcc_codes = pd.read_csv('/content/drive/MyDrive/Python_And_Data_Analysis/data/tr_mcc_codes.csv', sep=';', index_col='mcc_code')\r\n",
        "tr_types = pd.read_csv('/content/drive/MyDrive/Python_And_Data_Analysis/data/tr_types.csv', sep=';', index_col='tr_type')\r\n",
        "\r\n",
        "transactions = pd.read_csv('/content/drive/MyDrive/Python_And_Data_Analysis/data/transactions.csv', index_col='customer_id')\r\n",
        "gender_train = pd.read_csv('/content/drive/MyDrive/Python_And_Data_Analysis/data/gender_train.csv', index_col='customer_id')\r\n",
        "transactions = transactions.join(gender_train, how='inner')\r\n"
      ],
      "execution_count": 2,
      "outputs": []
    },
    {
      "cell_type": "code",
      "metadata": {
        "id": "DHg8iZR3KCCR"
      },
      "source": [
        "transactions.dropna(subset=['gender'], inplace=True)"
      ],
      "execution_count": 3,
      "outputs": []
    },
    {
      "cell_type": "code",
      "metadata": {
        "colab": {
          "base_uri": "https://localhost:8080/"
        },
        "id": "sTazcPJm2CPC",
        "outputId": "6f92cf89-1e13-4a8e-95ce-4ba61d10834e"
      },
      "source": [
        "transactions.info()"
      ],
      "execution_count": 4,
      "outputs": [
        {
          "output_type": "stream",
          "text": [
            "<class 'pandas.core.frame.DataFrame'>\n",
            "Int64Index: 3751083 entries, 22899 to 99999680\n",
            "Data columns (total 6 columns):\n",
            " #   Column       Dtype  \n",
            "---  ------       -----  \n",
            " 0   tr_datetime  object \n",
            " 1   mcc_code     int64  \n",
            " 2   tr_type      int64  \n",
            " 3   amount       float64\n",
            " 4   term_id      object \n",
            " 5   gender       int64  \n",
            "dtypes: float64(1), int64(3), object(2)\n",
            "memory usage: 200.3+ MB\n"
          ],
          "name": "stdout"
        }
      ]
    },
    {
      "cell_type": "code",
      "metadata": {
        "colab": {
          "base_uri": "https://localhost:8080/",
          "height": 297
        },
        "id": "vAbp9i7Y2GZj",
        "outputId": "b57bba78-742c-4ad2-d6c4-45951cb4ec7d"
      },
      "source": [
        "transactions.describe()"
      ],
      "execution_count": 5,
      "outputs": [
        {
          "output_type": "execute_result",
          "data": {
            "text/html": [
              "<div>\n",
              "<style scoped>\n",
              "    .dataframe tbody tr th:only-of-type {\n",
              "        vertical-align: middle;\n",
              "    }\n",
              "\n",
              "    .dataframe tbody tr th {\n",
              "        vertical-align: top;\n",
              "    }\n",
              "\n",
              "    .dataframe thead th {\n",
              "        text-align: right;\n",
              "    }\n",
              "</style>\n",
              "<table border=\"1\" class=\"dataframe\">\n",
              "  <thead>\n",
              "    <tr style=\"text-align: right;\">\n",
              "      <th></th>\n",
              "      <th>mcc_code</th>\n",
              "      <th>tr_type</th>\n",
              "      <th>amount</th>\n",
              "      <th>gender</th>\n",
              "    </tr>\n",
              "  </thead>\n",
              "  <tbody>\n",
              "    <tr>\n",
              "      <th>count</th>\n",
              "      <td>3.751083e+06</td>\n",
              "      <td>3.751083e+06</td>\n",
              "      <td>3.751083e+06</td>\n",
              "      <td>3.751083e+06</td>\n",
              "    </tr>\n",
              "    <tr>\n",
              "      <th>mean</th>\n",
              "      <td>5.586440e+03</td>\n",
              "      <td>2.439805e+03</td>\n",
              "      <td>-2.138264e+04</td>\n",
              "      <td>4.769004e-01</td>\n",
              "    </tr>\n",
              "    <tr>\n",
              "      <th>std</th>\n",
              "      <td>6.040523e+02</td>\n",
              "      <td>2.215249e+03</td>\n",
              "      <td>5.438054e+05</td>\n",
              "      <td>4.994662e-01</td>\n",
              "    </tr>\n",
              "    <tr>\n",
              "      <th>min</th>\n",
              "      <td>7.420000e+02</td>\n",
              "      <td>1.000000e+03</td>\n",
              "      <td>-1.459845e+08</td>\n",
              "      <td>0.000000e+00</td>\n",
              "    </tr>\n",
              "    <tr>\n",
              "      <th>25%</th>\n",
              "      <td>5.211000e+03</td>\n",
              "      <td>1.030000e+03</td>\n",
              "      <td>-2.245916e+04</td>\n",
              "      <td>0.000000e+00</td>\n",
              "    </tr>\n",
              "    <tr>\n",
              "      <th>50%</th>\n",
              "      <td>5.541000e+03</td>\n",
              "      <td>1.110000e+03</td>\n",
              "      <td>-5.614790e+03</td>\n",
              "      <td>0.000000e+00</td>\n",
              "    </tr>\n",
              "    <tr>\n",
              "      <th>75%</th>\n",
              "      <td>6.010000e+03</td>\n",
              "      <td>2.370000e+03</td>\n",
              "      <td>-1.122960e+03</td>\n",
              "      <td>1.000000e+00</td>\n",
              "    </tr>\n",
              "    <tr>\n",
              "      <th>max</th>\n",
              "      <td>9.402000e+03</td>\n",
              "      <td>8.146000e+03</td>\n",
              "      <td>1.459845e+08</td>\n",
              "      <td>1.000000e+00</td>\n",
              "    </tr>\n",
              "  </tbody>\n",
              "</table>\n",
              "</div>"
            ],
            "text/plain": [
              "           mcc_code       tr_type        amount        gender\n",
              "count  3.751083e+06  3.751083e+06  3.751083e+06  3.751083e+06\n",
              "mean   5.586440e+03  2.439805e+03 -2.138264e+04  4.769004e-01\n",
              "std    6.040523e+02  2.215249e+03  5.438054e+05  4.994662e-01\n",
              "min    7.420000e+02  1.000000e+03 -1.459845e+08  0.000000e+00\n",
              "25%    5.211000e+03  1.030000e+03 -2.245916e+04  0.000000e+00\n",
              "50%    5.541000e+03  1.110000e+03 -5.614790e+03  0.000000e+00\n",
              "75%    6.010000e+03  2.370000e+03 -1.122960e+03  1.000000e+00\n",
              "max    9.402000e+03  8.146000e+03  1.459845e+08  1.000000e+00"
            ]
          },
          "metadata": {
            "tags": []
          },
          "execution_count": 5
        }
      ]
    },
    {
      "cell_type": "code",
      "metadata": {
        "colab": {
          "base_uri": "https://localhost:8080/",
          "height": 390
        },
        "id": "cdEbjE2hmvEq",
        "outputId": "46791f32-204d-4f9f-e420-800cb969e892"
      },
      "source": [
        "transactions.head(10)"
      ],
      "execution_count": 6,
      "outputs": [
        {
          "output_type": "execute_result",
          "data": {
            "text/html": [
              "<div>\n",
              "<style scoped>\n",
              "    .dataframe tbody tr th:only-of-type {\n",
              "        vertical-align: middle;\n",
              "    }\n",
              "\n",
              "    .dataframe tbody tr th {\n",
              "        vertical-align: top;\n",
              "    }\n",
              "\n",
              "    .dataframe thead th {\n",
              "        text-align: right;\n",
              "    }\n",
              "</style>\n",
              "<table border=\"1\" class=\"dataframe\">\n",
              "  <thead>\n",
              "    <tr style=\"text-align: right;\">\n",
              "      <th></th>\n",
              "      <th>tr_datetime</th>\n",
              "      <th>mcc_code</th>\n",
              "      <th>tr_type</th>\n",
              "      <th>amount</th>\n",
              "      <th>term_id</th>\n",
              "      <th>gender</th>\n",
              "    </tr>\n",
              "    <tr>\n",
              "      <th>customer_id</th>\n",
              "      <th></th>\n",
              "      <th></th>\n",
              "      <th></th>\n",
              "      <th></th>\n",
              "      <th></th>\n",
              "      <th></th>\n",
              "    </tr>\n",
              "  </thead>\n",
              "  <tbody>\n",
              "    <tr>\n",
              "      <th>22899</th>\n",
              "      <td>1 15:26:45</td>\n",
              "      <td>4814</td>\n",
              "      <td>1030</td>\n",
              "      <td>-4491.83</td>\n",
              "      <td>NaN</td>\n",
              "      <td>1</td>\n",
              "    </tr>\n",
              "    <tr>\n",
              "      <th>22899</th>\n",
              "      <td>2 20:52:48</td>\n",
              "      <td>4814</td>\n",
              "      <td>1030</td>\n",
              "      <td>-2245.92</td>\n",
              "      <td>NaN</td>\n",
              "      <td>1</td>\n",
              "    </tr>\n",
              "    <tr>\n",
              "      <th>22899</th>\n",
              "      <td>5 18:52:19</td>\n",
              "      <td>6011</td>\n",
              "      <td>2010</td>\n",
              "      <td>-44918.32</td>\n",
              "      <td>NaN</td>\n",
              "      <td>1</td>\n",
              "    </tr>\n",
              "    <tr>\n",
              "      <th>22899</th>\n",
              "      <td>6 12:28:22</td>\n",
              "      <td>6011</td>\n",
              "      <td>2010</td>\n",
              "      <td>-150476.36</td>\n",
              "      <td>NaN</td>\n",
              "      <td>1</td>\n",
              "    </tr>\n",
              "    <tr>\n",
              "      <th>22899</th>\n",
              "      <td>28 10:41:01</td>\n",
              "      <td>6010</td>\n",
              "      <td>7030</td>\n",
              "      <td>33688.74</td>\n",
              "      <td>NaN</td>\n",
              "      <td>1</td>\n",
              "    </tr>\n",
              "    <tr>\n",
              "      <th>22899</th>\n",
              "      <td>28 11:34:38</td>\n",
              "      <td>6011</td>\n",
              "      <td>2010</td>\n",
              "      <td>-31442.82</td>\n",
              "      <td>NaN</td>\n",
              "      <td>1</td>\n",
              "    </tr>\n",
              "    <tr>\n",
              "      <th>22899</th>\n",
              "      <td>48 13:41:12</td>\n",
              "      <td>6011</td>\n",
              "      <td>7010</td>\n",
              "      <td>112295.79</td>\n",
              "      <td>NaN</td>\n",
              "      <td>1</td>\n",
              "    </tr>\n",
              "    <tr>\n",
              "      <th>22899</th>\n",
              "      <td>52 01:13:37</td>\n",
              "      <td>4814</td>\n",
              "      <td>1030</td>\n",
              "      <td>-2245.92</td>\n",
              "      <td>NaN</td>\n",
              "      <td>1</td>\n",
              "    </tr>\n",
              "    <tr>\n",
              "      <th>22899</th>\n",
              "      <td>53 11:03:38</td>\n",
              "      <td>6011</td>\n",
              "      <td>2010</td>\n",
              "      <td>-42672.40</td>\n",
              "      <td>NaN</td>\n",
              "      <td>1</td>\n",
              "    </tr>\n",
              "    <tr>\n",
              "      <th>22899</th>\n",
              "      <td>56 10:10:60</td>\n",
              "      <td>4814</td>\n",
              "      <td>1030</td>\n",
              "      <td>-449.18</td>\n",
              "      <td>NaN</td>\n",
              "      <td>1</td>\n",
              "    </tr>\n",
              "  </tbody>\n",
              "</table>\n",
              "</div>"
            ],
            "text/plain": [
              "             tr_datetime  mcc_code  tr_type     amount term_id  gender\n",
              "customer_id                                                           \n",
              "22899         1 15:26:45      4814     1030   -4491.83     NaN       1\n",
              "22899         2 20:52:48      4814     1030   -2245.92     NaN       1\n",
              "22899         5 18:52:19      6011     2010  -44918.32     NaN       1\n",
              "22899         6 12:28:22      6011     2010 -150476.36     NaN       1\n",
              "22899        28 10:41:01      6010     7030   33688.74     NaN       1\n",
              "22899        28 11:34:38      6011     2010  -31442.82     NaN       1\n",
              "22899        48 13:41:12      6011     7010  112295.79     NaN       1\n",
              "22899        52 01:13:37      4814     1030   -2245.92     NaN       1\n",
              "22899        53 11:03:38      6011     2010  -42672.40     NaN       1\n",
              "22899        56 10:10:60      4814     1030    -449.18     NaN       1"
            ]
          },
          "metadata": {
            "tags": []
          },
          "execution_count": 6
        }
      ]
    },
    {
      "cell_type": "code",
      "metadata": {
        "colab": {
          "base_uri": "https://localhost:8080/"
        },
        "id": "a9hUVweox6zr",
        "outputId": "22f75906-8974-4964-babf-3acbd18cd502"
      },
      "source": [
        "transactions.dtypes"
      ],
      "execution_count": 7,
      "outputs": [
        {
          "output_type": "execute_result",
          "data": {
            "text/plain": [
              "tr_datetime     object\n",
              "mcc_code         int64\n",
              "tr_type          int64\n",
              "amount         float64\n",
              "term_id         object\n",
              "gender           int64\n",
              "dtype: object"
            ]
          },
          "metadata": {
            "tags": []
          },
          "execution_count": 7
        }
      ]
    },
    {
      "cell_type": "code",
      "metadata": {
        "colab": {
          "base_uri": "https://localhost:8080/"
        },
        "id": "T9AlPRT05DoB",
        "outputId": "b13339b3-36ee-4566-c2b6-7d7c7b3e8b2e"
      },
      "source": [
        "transactions.isnull().sum()"
      ],
      "execution_count": 8,
      "outputs": [
        {
          "output_type": "execute_result",
          "data": {
            "text/plain": [
              "tr_datetime          0\n",
              "mcc_code             0\n",
              "tr_type              0\n",
              "amount               0\n",
              "term_id        1519541\n",
              "gender               0\n",
              "dtype: int64"
            ]
          },
          "metadata": {
            "tags": []
          },
          "execution_count": 8
        }
      ]
    },
    {
      "cell_type": "markdown",
      "metadata": {
        "id": "13lo0jnjyNtN"
      },
      "source": [
        "В первую очередь переопределим дату и время и попробуем привязать точные даты к каждой транзакции"
      ]
    },
    {
      "cell_type": "code",
      "metadata": {
        "id": "0o6s1qKvRz6T",
        "colab": {
          "base_uri": "https://localhost:8080/",
          "height": 450
        },
        "outputId": "7d6aaee4-8aa7-47db-86bb-a2120e3902ee"
      },
      "source": [
        "transactions['day'] = transactions['tr_datetime'].str.split().apply(lambda x: int(x[0]))\r\n",
        "transactions['hour'] = transactions['tr_datetime'].apply(lambda x: re.search(' \\d*', x).group(0)).astype(int)\r\n",
        "transactions.drop(columns=['tr_datetime'], axis=1, inplace=True)\r\n",
        "transactions"
      ],
      "execution_count": 9,
      "outputs": [
        {
          "output_type": "execute_result",
          "data": {
            "text/html": [
              "<div>\n",
              "<style scoped>\n",
              "    .dataframe tbody tr th:only-of-type {\n",
              "        vertical-align: middle;\n",
              "    }\n",
              "\n",
              "    .dataframe tbody tr th {\n",
              "        vertical-align: top;\n",
              "    }\n",
              "\n",
              "    .dataframe thead th {\n",
              "        text-align: right;\n",
              "    }\n",
              "</style>\n",
              "<table border=\"1\" class=\"dataframe\">\n",
              "  <thead>\n",
              "    <tr style=\"text-align: right;\">\n",
              "      <th></th>\n",
              "      <th>mcc_code</th>\n",
              "      <th>tr_type</th>\n",
              "      <th>amount</th>\n",
              "      <th>term_id</th>\n",
              "      <th>gender</th>\n",
              "      <th>day</th>\n",
              "      <th>hour</th>\n",
              "    </tr>\n",
              "    <tr>\n",
              "      <th>customer_id</th>\n",
              "      <th></th>\n",
              "      <th></th>\n",
              "      <th></th>\n",
              "      <th></th>\n",
              "      <th></th>\n",
              "      <th></th>\n",
              "      <th></th>\n",
              "    </tr>\n",
              "  </thead>\n",
              "  <tbody>\n",
              "    <tr>\n",
              "      <th>22899</th>\n",
              "      <td>4814</td>\n",
              "      <td>1030</td>\n",
              "      <td>-4491.83</td>\n",
              "      <td>NaN</td>\n",
              "      <td>1</td>\n",
              "      <td>1</td>\n",
              "      <td>15</td>\n",
              "    </tr>\n",
              "    <tr>\n",
              "      <th>22899</th>\n",
              "      <td>4814</td>\n",
              "      <td>1030</td>\n",
              "      <td>-2245.92</td>\n",
              "      <td>NaN</td>\n",
              "      <td>1</td>\n",
              "      <td>2</td>\n",
              "      <td>20</td>\n",
              "    </tr>\n",
              "    <tr>\n",
              "      <th>22899</th>\n",
              "      <td>6011</td>\n",
              "      <td>2010</td>\n",
              "      <td>-44918.32</td>\n",
              "      <td>NaN</td>\n",
              "      <td>1</td>\n",
              "      <td>5</td>\n",
              "      <td>18</td>\n",
              "    </tr>\n",
              "    <tr>\n",
              "      <th>22899</th>\n",
              "      <td>6011</td>\n",
              "      <td>2010</td>\n",
              "      <td>-150476.36</td>\n",
              "      <td>NaN</td>\n",
              "      <td>1</td>\n",
              "      <td>6</td>\n",
              "      <td>12</td>\n",
              "    </tr>\n",
              "    <tr>\n",
              "      <th>22899</th>\n",
              "      <td>6010</td>\n",
              "      <td>7030</td>\n",
              "      <td>33688.74</td>\n",
              "      <td>NaN</td>\n",
              "      <td>1</td>\n",
              "      <td>28</td>\n",
              "      <td>10</td>\n",
              "    </tr>\n",
              "    <tr>\n",
              "      <th>...</th>\n",
              "      <td>...</td>\n",
              "      <td>...</td>\n",
              "      <td>...</td>\n",
              "      <td>...</td>\n",
              "      <td>...</td>\n",
              "      <td>...</td>\n",
              "      <td>...</td>\n",
              "    </tr>\n",
              "    <tr>\n",
              "      <th>99999680</th>\n",
              "      <td>5411</td>\n",
              "      <td>1110</td>\n",
              "      <td>-5659.71</td>\n",
              "      <td>31190432</td>\n",
              "      <td>1</td>\n",
              "      <td>444</td>\n",
              "      <td>0</td>\n",
              "    </tr>\n",
              "    <tr>\n",
              "      <th>99999680</th>\n",
              "      <td>6011</td>\n",
              "      <td>2110</td>\n",
              "      <td>-134754.95</td>\n",
              "      <td>406826</td>\n",
              "      <td>1</td>\n",
              "      <td>444</td>\n",
              "      <td>0</td>\n",
              "    </tr>\n",
              "    <tr>\n",
              "      <th>99999680</th>\n",
              "      <td>5541</td>\n",
              "      <td>1110</td>\n",
              "      <td>-11229.58</td>\n",
              "      <td>J038003</td>\n",
              "      <td>1</td>\n",
              "      <td>446</td>\n",
              "      <td>0</td>\n",
              "    </tr>\n",
              "    <tr>\n",
              "      <th>99999680</th>\n",
              "      <td>6010</td>\n",
              "      <td>7070</td>\n",
              "      <td>1122.96</td>\n",
              "      <td>945022</td>\n",
              "      <td>1</td>\n",
              "      <td>451</td>\n",
              "      <td>9</td>\n",
              "    </tr>\n",
              "    <tr>\n",
              "      <th>99999680</th>\n",
              "      <td>4814</td>\n",
              "      <td>1030</td>\n",
              "      <td>-6737.75</td>\n",
              "      <td>171703</td>\n",
              "      <td>1</td>\n",
              "      <td>456</td>\n",
              "      <td>6</td>\n",
              "    </tr>\n",
              "  </tbody>\n",
              "</table>\n",
              "<p>3751083 rows × 7 columns</p>\n",
              "</div>"
            ],
            "text/plain": [
              "             mcc_code  tr_type     amount   term_id  gender  day  hour\n",
              "customer_id                                                           \n",
              "22899            4814     1030   -4491.83       NaN       1    1    15\n",
              "22899            4814     1030   -2245.92       NaN       1    2    20\n",
              "22899            6011     2010  -44918.32       NaN       1    5    18\n",
              "22899            6011     2010 -150476.36       NaN       1    6    12\n",
              "22899            6010     7030   33688.74       NaN       1   28    10\n",
              "...               ...      ...        ...       ...     ...  ...   ...\n",
              "99999680         5411     1110   -5659.71  31190432       1  444     0\n",
              "99999680         6011     2110 -134754.95    406826       1  444     0\n",
              "99999680         5541     1110  -11229.58   J038003       1  446     0\n",
              "99999680         6010     7070    1122.96    945022       1  451     9\n",
              "99999680         4814     1030   -6737.75    171703       1  456     6\n",
              "\n",
              "[3751083 rows x 7 columns]"
            ]
          },
          "metadata": {
            "tags": []
          },
          "execution_count": 9
        }
      ]
    },
    {
      "cell_type": "markdown",
      "metadata": {
        "id": "B12LYbRIH4Ij"
      },
      "source": [
        "Теперь попробуем узнать какой период времени отражен в наших данных. Для этого построим график кол-ва трат mcc-кода \"Флористика\" от номера дня."
      ]
    },
    {
      "cell_type": "code",
      "metadata": {
        "colab": {
          "base_uri": "https://localhost:8080/",
          "height": 584
        },
        "id": "y2HyP2Nnmj0u",
        "outputId": "d74e0852-6bd8-4e35-e0b3-fcdb06525e58"
      },
      "source": [
        "mcc_flor = tr_mcc_codes[tr_mcc_codes['mcc_description'].str.contains('Флор')].index[0]\r\n",
        "flor_by_days = transactions[(transactions['mcc_code'] == mcc_flor) & (transactions['amount'] < 0)][['amount', 'day']]\r\n",
        "flor_by_days = flor_by_days.groupby('day').count()\r\n",
        "\r\n",
        "\r\n",
        "plt.figure(figsize=(28, 9))\r\n",
        "sns.lineplot(data=flor_by_days, x='day', y='amount').set_title('Количество трат по категории \"Флористика\"')\r\n",
        "\r\n",
        "#найдем пиковые значения кол-ва трат и отобразим их на графике\r\n",
        "x = flor_by_days['amount'].values\r\n",
        "peaks, _ = find_peaks(x, prominence=17)\r\n",
        "plt.plot(peaks, x[peaks], \"o\")"
      ],
      "execution_count": 10,
      "outputs": [
        {
          "output_type": "execute_result",
          "data": {
            "text/plain": [
              "[<matplotlib.lines.Line2D at 0x7f8d8cd60f50>]"
            ]
          },
          "metadata": {
            "tags": []
          },
          "execution_count": 10
        },
        {
          "output_type": "display_data",
          "data": {
            "image/png": "[encoded data removed]",
            "text/plain": [
              "<Figure size 2016x648 with 1 Axes>"
            ]
          },
          "metadata": {
            "tags": [],
            "needs_background": "light"
          }
        }
      ]
    },
    {
      "cell_type": "code",
      "metadata": {
        "colab": {
          "base_uri": "https://localhost:8080/",
          "height": 235
        },
        "id": "UY6YPkhIKV7U",
        "outputId": "7862b0cd-8b5a-4609-9933-38cf2d0379d4"
      },
      "source": [
        "#найдем дни, в которые были пиковые значения кол-ва трат\r\n",
        "peak_days = flor_by_days[flor_by_days['amount'].isin(x[peaks])]\r\n",
        "peak_days.drop(index=301, inplace=True)\r\n",
        "peak_days_lst = peak_days.index.tolist()\r\n",
        "peak_days"
      ],
      "execution_count": 11,
      "outputs": [
        {
          "output_type": "execute_result",
          "data": {
            "text/html": [
              "<div>\n",
              "<style scoped>\n",
              "    .dataframe tbody tr th:only-of-type {\n",
              "        vertical-align: middle;\n",
              "    }\n",
              "\n",
              "    .dataframe tbody tr th {\n",
              "        vertical-align: top;\n",
              "    }\n",
              "\n",
              "    .dataframe thead th {\n",
              "        text-align: right;\n",
              "    }\n",
              "</style>\n",
              "<table border=\"1\" class=\"dataframe\">\n",
              "  <thead>\n",
              "    <tr style=\"text-align: right;\">\n",
              "      <th></th>\n",
              "      <th>amount</th>\n",
              "    </tr>\n",
              "    <tr>\n",
              "      <th>day</th>\n",
              "      <th></th>\n",
              "    </tr>\n",
              "  </thead>\n",
              "  <tbody>\n",
              "    <tr>\n",
              "      <th>30</th>\n",
              "      <td>18</td>\n",
              "    </tr>\n",
              "    <tr>\n",
              "      <th>121</th>\n",
              "      <td>18</td>\n",
              "    </tr>\n",
              "    <tr>\n",
              "      <th>197</th>\n",
              "      <td>33</td>\n",
              "    </tr>\n",
              "    <tr>\n",
              "      <th>219</th>\n",
              "      <td>100</td>\n",
              "    </tr>\n",
              "    <tr>\n",
              "      <th>395</th>\n",
              "      <td>37</td>\n",
              "    </tr>\n",
              "  </tbody>\n",
              "</table>\n",
              "</div>"
            ],
            "text/plain": [
              "     amount\n",
              "day        \n",
              "30       18\n",
              "121      18\n",
              "197      33\n",
              "219     100\n",
              "395      37"
            ]
          },
          "metadata": {
            "tags": []
          },
          "execution_count": 11
        }
      ]
    },
    {
      "cell_type": "markdown",
      "metadata": {
        "id": "31oplk3Rh1_T"
      },
      "source": [
        "Можно предположить в какой день в году люди тратят больше всего на цветы и получить точнst даты остальных пиков (предположим, что данные за 2014-2015 годы)."
      ]
    },
    {
      "cell_type": "code",
      "metadata": {
        "colab": {
          "base_uri": "https://localhost:8080/"
        },
        "id": "Nug1vQT2aiPT",
        "outputId": "658e86d7-6663-479a-9df1-c25249f800cb"
      },
      "source": [
        "#transactions['date'] = transactions['day']\r\n",
        "import datetime \r\n",
        "import time\r\n",
        "\r\n",
        "day_0 = datetime.date(2015, 3, 8) - datetime.timedelta(days=219)\r\n",
        "for i in peak_days_lst:\r\n",
        "  day_i = day_0 + datetime.timedelta(days=i)\r\n",
        "  print('Дата: {}, номер дня: {}'.format(day_i, i))"
      ],
      "execution_count": 67,
      "outputs": [
        {
          "output_type": "stream",
          "text": [
            "Дата: 2014-08-31, номер дня: 30\n",
            "Дата: 2014-11-30, номер дня: 121\n",
            "Дата: 2015-02-14, номер дня: 197\n",
            "Дата: 2015-03-08, номер дня: 219\n",
            "Дата: 2015-08-31, номер дня: 395\n"
          ],
          "name": "stdout"
        }
      ]
    },
    {
      "cell_type": "markdown",
      "metadata": {
        "id": "NlXYLzv1p7ww"
      },
      "source": [
        "Логично будет предположить, что мужчины 8 марта тратят на цветы гораздо больше женщин, проверим это и посмотрим как соотносятся траты в этот день в целом."
      ]
    },
    {
      "cell_type": "code",
      "metadata": {
        "colab": {
          "base_uri": "https://localhost:8080/",
          "height": 365
        },
        "id": "v-pBDcjBqDw-",
        "outputId": "707b9df9-9b8a-4e04-be9c-d257f3738477"
      },
      "source": [
        "march_8_mcc_flor = transactions[(transactions['day'] == 219) & (transactions['amount'] < 0) & (transactions['mcc_code'] == mcc_flor)]\r\n",
        "march_8_mcc_all = transactions[(transactions['day'] == 219) & (transactions['amount'] < 0)]\r\n",
        "march_8_mcc_flor['amount'] = march_8_mcc_flor['amount'] * (-1)\r\n",
        "march_8_mcc_all['amount'] = march_8_mcc_all['amount'] * (-1)\r\n",
        "\r\n",
        "fig, ax = plt.subplots(1,2, figsize=(12, 5))\r\n",
        "sns.barplot(data=march_8_mcc_flor, x='gender', y='amount', ax=ax[0]).set_title('Суммарные траты женщин и мужчин 8 марта \\n по категории \"Флористика\"')\r\n",
        "sns.barplot(data=march_8_mcc_all, x='gender', y='amount', ax=ax[1]).set_title('Cуммарные траты женщин и мужчин 8 марта \\n по всем категориям')\r\n",
        "fig.show()"
      ],
      "execution_count": 13,
      "outputs": [
        {
          "output_type": "display_data",
          "data": {
            "image/png": "[encoded data removed]",
            "text/plain": [
              "<Figure size 864x360 with 2 Axes>"
            ]
          },
          "metadata": {
            "tags": [],
            "needs_background": "light"
          }
        }
      ]
    },
    {
      "cell_type": "markdown",
      "metadata": {
        "id": "iNULak_eDVVL"
      },
      "source": [
        "Найдем самые популярные категории среди женщин и мужчин."
      ]
    },
    {
      "cell_type": "code",
      "metadata": {
        "colab": {
          "base_uri": "https://localhost:8080/",
          "height": 591
        },
        "id": "0afqu1iNrFVz",
        "outputId": "968501c1-2056-44a5-81ec-192b7109a687"
      },
      "source": [
        "mcc_count_m = transactions[(transactions['amount'] < 0) & (transactions['gender'] == 1)].groupby(['mcc_code'])['mcc_code'].count()\r\n",
        "mcc_count_m = mcc_count_m.to_frame()\r\n",
        "mcc_count_m.rename(columns = {'mcc_code' : 'count_mcc'}, inplace = True)\r\n",
        "mcc_count_m.reset_index(inplace=True)\r\n",
        "mcc_count_m.sort_values(by=['count_mcc'], ascending=False, inplace=True)\r\n",
        "\r\n",
        "\r\n",
        "labels = mcc_count_m['mcc_code'].head(15)\r\n",
        "sizes = mcc_count_m['count_mcc'].head(15)\r\n",
        "explode = (0, 0, 0, 0 , 0, 0, 0, 0, 0, 0.1, 0.2, 0.3, 0.4, 0.5, 0.6)  # only \"explode\" the 2nd slice (i.e. 'Hogs')\r\n",
        "\r\n",
        "fig1, ax1 = plt.subplots(figsize=(12, 10))\r\n",
        "ax1.pie(sizes, explode=explode, labels=labels, autopct='%1.1f%%',\r\n",
        "        shadow=True, startangle=90)\r\n",
        "ax1.axis('equal')  # Equal aspect ratio ensures that pie is drawn as a circle.\r\n",
        "plt.title(\"Топ-15 самых популярных категорий по кол-ву транзакций у мужчин\") \r\n",
        "plt.show()"
      ],
      "execution_count": 60,
      "outputs": [
        {
          "output_type": "display_data",
          "data": {
            "image/png": "[encoded data removed]",
            "text/plain": [
              "<Figure size 864x720 with 1 Axes>"
            ]
          },
          "metadata": {
            "tags": []
          }
        }
      ]
    },
    {
      "cell_type": "code",
      "metadata": {
        "colab": {
          "base_uri": "https://localhost:8080/",
          "height": 545
        },
        "id": "-ioQVS1ouemJ",
        "outputId": "0fe4c798-6eb5-4d3d-a877-dc7f506793c3"
      },
      "source": [
        " tr_mcc_codes.loc[mcc_count_m['mcc_code'].head(15).tolist()]"
      ],
      "execution_count": 64,
      "outputs": [
        {
          "output_type": "execute_result",
          "data": {
            "text/html": [
              "<div>\n",
              "<style scoped>\n",
              "    .dataframe tbody tr th:only-of-type {\n",
              "        vertical-align: middle;\n",
              "    }\n",
              "\n",
              "    .dataframe tbody tr th {\n",
              "        vertical-align: top;\n",
              "    }\n",
              "\n",
              "    .dataframe thead th {\n",
              "        text-align: right;\n",
              "    }\n",
              "</style>\n",
              "<table border=\"1\" class=\"dataframe\">\n",
              "  <thead>\n",
              "    <tr style=\"text-align: right;\">\n",
              "      <th></th>\n",
              "      <th>mcc_description</th>\n",
              "    </tr>\n",
              "    <tr>\n",
              "      <th>mcc_code</th>\n",
              "      <th></th>\n",
              "    </tr>\n",
              "  </thead>\n",
              "  <tbody>\n",
              "    <tr>\n",
              "      <th>6011</th>\n",
              "      <td>Финансовые институты — снятие наличности автом...</td>\n",
              "    </tr>\n",
              "    <tr>\n",
              "      <th>5411</th>\n",
              "      <td>Бакалейные магазины, супермаркеты</td>\n",
              "    </tr>\n",
              "    <tr>\n",
              "      <th>4814</th>\n",
              "      <td>Звонки с использованием телефонов, считывающих...</td>\n",
              "    </tr>\n",
              "    <tr>\n",
              "      <th>4829</th>\n",
              "      <td>Денежные переводы</td>\n",
              "    </tr>\n",
              "    <tr>\n",
              "      <th>5499</th>\n",
              "      <td>Различные продовольственные магазины — рынки, ...</td>\n",
              "    </tr>\n",
              "    <tr>\n",
              "      <th>5541</th>\n",
              "      <td>Станции техобслуживания</td>\n",
              "    </tr>\n",
              "    <tr>\n",
              "      <th>5812</th>\n",
              "      <td>Места общественного питания, рестораны</td>\n",
              "    </tr>\n",
              "    <tr>\n",
              "      <th>5331</th>\n",
              "      <td>Универсальные магазины</td>\n",
              "    </tr>\n",
              "    <tr>\n",
              "      <th>5814</th>\n",
              "      <td>Рестораны, закусочные</td>\n",
              "    </tr>\n",
              "    <tr>\n",
              "      <th>5912</th>\n",
              "      <td>Аптеки</td>\n",
              "    </tr>\n",
              "    <tr>\n",
              "      <th>5921</th>\n",
              "      <td>Магазины с продажей спиртных напитков на вынос...</td>\n",
              "    </tr>\n",
              "    <tr>\n",
              "      <th>5999</th>\n",
              "      <td>Плавательные бассейны — распродажа</td>\n",
              "    </tr>\n",
              "    <tr>\n",
              "      <th>5983</th>\n",
              "      <td>Горючее топливо — уголь, нефть, разжиженный бе...</td>\n",
              "    </tr>\n",
              "    <tr>\n",
              "      <th>7995</th>\n",
              "      <td>Транзакции по азартным играм</td>\n",
              "    </tr>\n",
              "    <tr>\n",
              "      <th>5211</th>\n",
              "      <td>Лесо- и строительный материал</td>\n",
              "    </tr>\n",
              "  </tbody>\n",
              "</table>\n",
              "</div>"
            ],
            "text/plain": [
              "                                            mcc_description\n",
              "mcc_code                                                   \n",
              "6011      Финансовые институты — снятие наличности автом...\n",
              "5411                      Бакалейные магазины, супермаркеты\n",
              "4814      Звонки с использованием телефонов, считывающих...\n",
              "4829                                      Денежные переводы\n",
              "5499      Различные продовольственные магазины — рынки, ...\n",
              "5541                                Станции техобслуживания\n",
              "5812                 Места общественного питания, рестораны\n",
              "5331                                 Универсальные магазины\n",
              "5814                                  Рестораны, закусочные\n",
              "5912                                                 Аптеки\n",
              "5921      Магазины с продажей спиртных напитков на вынос...\n",
              "5999                     Плавательные бассейны — распродажа\n",
              "5983      Горючее топливо — уголь, нефть, разжиженный бе...\n",
              "7995                           Транзакции по азартным играм\n",
              "5211                          Лесо- и строительный материал"
            ]
          },
          "metadata": {
            "tags": []
          },
          "execution_count": 64
        }
      ]
    },
    {
      "cell_type": "code",
      "metadata": {
        "colab": {
          "base_uri": "https://localhost:8080/",
          "height": 591
        },
        "id": "MlfaPoQAoZ5y",
        "outputId": "4356bf6d-a940-4f9a-de58-383d41a4c426"
      },
      "source": [
        "mcc_count_f = transactions[(transactions['amount'] < 0) & (transactions['gender'] == 0)].groupby(['mcc_code'])['mcc_code'].count()\r\n",
        "mcc_count_f = mcc_count_f.to_frame()\r\n",
        "mcc_count_f.rename(columns = {'mcc_code' : 'count_mcc'}, inplace = True)\r\n",
        "mcc_count_f.reset_index(inplace=True)\r\n",
        "mcc_count_f.sort_values(by=['count_mcc'], ascending=False, inplace=True)\r\n",
        "\r\n",
        "\r\n",
        "labels = mcc_count_f['mcc_code'].head(15)\r\n",
        "sizes = mcc_count_f['count_mcc'].head(15)\r\n",
        "explode = (0, 0, 0, 0 , 0, 0, 0, 0, 0, 0.1, 0.2, 0.3, 0.4, 0.5, 0.6)  # only \"explode\" the 2nd slice (i.e. 'Hogs')\r\n",
        "\r\n",
        "fig1, ax1 = plt.subplots(figsize=(12, 10))\r\n",
        "ax1.pie(sizes, explode=explode, labels=labels, autopct='%1.1f%%',\r\n",
        "        shadow=True, startangle=90)\r\n",
        "ax1.axis('equal')  # Equal aspect ratio ensures that pie is drawn as a circle.\r\n",
        "plt.title(\"Топ-15 самых популярных категорий по кол-ву транзакций у женщин\") \r\n",
        "plt.show()"
      ],
      "execution_count": 61,
      "outputs": [
        {
          "output_type": "display_data",
          "data": {
            "image/png": "[encoded data removed]",
            "text/plain": [
              "<Figure size 864x720 with 1 Axes>"
            ]
          },
          "metadata": {
            "tags": []
          }
        }
      ]
    },
    {
      "cell_type": "code",
      "metadata": {
        "colab": {
          "base_uri": "https://localhost:8080/",
          "height": 545
        },
        "id": "u5MPtbk7uvWq",
        "outputId": "2dcaa726-1ffe-4851-8f0c-38ead4841784"
      },
      "source": [
        " tr_mcc_codes.loc[mcc_count_f['mcc_code'].head(15).tolist()]"
      ],
      "execution_count": 65,
      "outputs": [
        {
          "output_type": "execute_result",
          "data": {
            "text/html": [
              "<div>\n",
              "<style scoped>\n",
              "    .dataframe tbody tr th:only-of-type {\n",
              "        vertical-align: middle;\n",
              "    }\n",
              "\n",
              "    .dataframe tbody tr th {\n",
              "        vertical-align: top;\n",
              "    }\n",
              "\n",
              "    .dataframe thead th {\n",
              "        text-align: right;\n",
              "    }\n",
              "</style>\n",
              "<table border=\"1\" class=\"dataframe\">\n",
              "  <thead>\n",
              "    <tr style=\"text-align: right;\">\n",
              "      <th></th>\n",
              "      <th>mcc_description</th>\n",
              "    </tr>\n",
              "    <tr>\n",
              "      <th>mcc_code</th>\n",
              "      <th></th>\n",
              "    </tr>\n",
              "  </thead>\n",
              "  <tbody>\n",
              "    <tr>\n",
              "      <th>6011</th>\n",
              "      <td>Финансовые институты — снятие наличности автом...</td>\n",
              "    </tr>\n",
              "    <tr>\n",
              "      <th>4814</th>\n",
              "      <td>Звонки с использованием телефонов, считывающих...</td>\n",
              "    </tr>\n",
              "    <tr>\n",
              "      <th>5411</th>\n",
              "      <td>Бакалейные магазины, супермаркеты</td>\n",
              "    </tr>\n",
              "    <tr>\n",
              "      <th>4829</th>\n",
              "      <td>Денежные переводы</td>\n",
              "    </tr>\n",
              "    <tr>\n",
              "      <th>5499</th>\n",
              "      <td>Различные продовольственные магазины — рынки, ...</td>\n",
              "    </tr>\n",
              "    <tr>\n",
              "      <th>5912</th>\n",
              "      <td>Аптеки</td>\n",
              "    </tr>\n",
              "    <tr>\n",
              "      <th>5331</th>\n",
              "      <td>Универсальные магазины</td>\n",
              "    </tr>\n",
              "    <tr>\n",
              "      <th>5812</th>\n",
              "      <td>Места общественного питания, рестораны</td>\n",
              "    </tr>\n",
              "    <tr>\n",
              "      <th>5814</th>\n",
              "      <td>Рестораны, закусочные</td>\n",
              "    </tr>\n",
              "    <tr>\n",
              "      <th>5541</th>\n",
              "      <td>Станции техобслуживания</td>\n",
              "    </tr>\n",
              "    <tr>\n",
              "      <th>5999</th>\n",
              "      <td>Плавательные бассейны — распродажа</td>\n",
              "    </tr>\n",
              "    <tr>\n",
              "      <th>5977</th>\n",
              "      <td>Магазины косметики</td>\n",
              "    </tr>\n",
              "    <tr>\n",
              "      <th>5691</th>\n",
              "      <td>Магазины мужской и женской одежды</td>\n",
              "    </tr>\n",
              "    <tr>\n",
              "      <th>5964</th>\n",
              "      <td>Прямой маркетинг — торговля через каталог</td>\n",
              "    </tr>\n",
              "    <tr>\n",
              "      <th>5921</th>\n",
              "      <td>Магазины с продажей спиртных напитков на вынос...</td>\n",
              "    </tr>\n",
              "  </tbody>\n",
              "</table>\n",
              "</div>"
            ],
            "text/plain": [
              "                                            mcc_description\n",
              "mcc_code                                                   \n",
              "6011      Финансовые институты — снятие наличности автом...\n",
              "4814      Звонки с использованием телефонов, считывающих...\n",
              "5411                      Бакалейные магазины, супермаркеты\n",
              "4829                                      Денежные переводы\n",
              "5499      Различные продовольственные магазины — рынки, ...\n",
              "5912                                                 Аптеки\n",
              "5331                                 Универсальные магазины\n",
              "5812                 Места общественного питания, рестораны\n",
              "5814                                  Рестораны, закусочные\n",
              "5541                                Станции техобслуживания\n",
              "5999                     Плавательные бассейны — распродажа\n",
              "5977                                     Магазины косметики\n",
              "5691                      Магазины мужской и женской одежды\n",
              "5964              Прямой маркетинг — торговля через каталог\n",
              "5921      Магазины с продажей спиртных напитков на вынос..."
            ]
          },
          "metadata": {
            "tags": []
          },
          "execution_count": 65
        }
      ]
    },
    {
      "cell_type": "markdown",
      "metadata": {
        "id": "JzQgf2YuwHW8"
      },
      "source": [
        "Посмотрим как распределены траты по дням недели"
      ]
    },
    {
      "cell_type": "code",
      "metadata": {
        "colab": {
          "base_uri": "https://localhost:8080/",
          "height": 450
        },
        "id": "C615N7SHwGDT",
        "outputId": "c87741fa-f339-4baf-d20a-5d945f5a5d6f"
      },
      "source": [
        "transactions['day_of_week'] = transactions['day'].apply(lambda x: x % 7)\r\n",
        "transactions"
      ],
      "execution_count": 73,
      "outputs": [
        {
          "output_type": "execute_result",
          "data": {
            "text/html": [
              "<div>\n",
              "<style scoped>\n",
              "    .dataframe tbody tr th:only-of-type {\n",
              "        vertical-align: middle;\n",
              "    }\n",
              "\n",
              "    .dataframe tbody tr th {\n",
              "        vertical-align: top;\n",
              "    }\n",
              "\n",
              "    .dataframe thead th {\n",
              "        text-align: right;\n",
              "    }\n",
              "</style>\n",
              "<table border=\"1\" class=\"dataframe\">\n",
              "  <thead>\n",
              "    <tr style=\"text-align: right;\">\n",
              "      <th></th>\n",
              "      <th>mcc_code</th>\n",
              "      <th>tr_type</th>\n",
              "      <th>amount</th>\n",
              "      <th>term_id</th>\n",
              "      <th>gender</th>\n",
              "      <th>day</th>\n",
              "      <th>hour</th>\n",
              "      <th>night</th>\n",
              "      <th>day_of_week</th>\n",
              "    </tr>\n",
              "    <tr>\n",
              "      <th>customer_id</th>\n",
              "      <th></th>\n",
              "      <th></th>\n",
              "      <th></th>\n",
              "      <th></th>\n",
              "      <th></th>\n",
              "      <th></th>\n",
              "      <th></th>\n",
              "      <th></th>\n",
              "      <th></th>\n",
              "    </tr>\n",
              "  </thead>\n",
              "  <tbody>\n",
              "    <tr>\n",
              "      <th>22899</th>\n",
              "      <td>4814</td>\n",
              "      <td>1030</td>\n",
              "      <td>-4491.83</td>\n",
              "      <td>NaN</td>\n",
              "      <td>1</td>\n",
              "      <td>1</td>\n",
              "      <td>15</td>\n",
              "      <td>-2</td>\n",
              "      <td>1</td>\n",
              "    </tr>\n",
              "    <tr>\n",
              "      <th>22899</th>\n",
              "      <td>4814</td>\n",
              "      <td>1030</td>\n",
              "      <td>-2245.92</td>\n",
              "      <td>NaN</td>\n",
              "      <td>1</td>\n",
              "      <td>2</td>\n",
              "      <td>20</td>\n",
              "      <td>-2</td>\n",
              "      <td>2</td>\n",
              "    </tr>\n",
              "    <tr>\n",
              "      <th>22899</th>\n",
              "      <td>6011</td>\n",
              "      <td>2010</td>\n",
              "      <td>-44918.32</td>\n",
              "      <td>NaN</td>\n",
              "      <td>1</td>\n",
              "      <td>5</td>\n",
              "      <td>18</td>\n",
              "      <td>-2</td>\n",
              "      <td>5</td>\n",
              "    </tr>\n",
              "    <tr>\n",
              "      <th>22899</th>\n",
              "      <td>6011</td>\n",
              "      <td>2010</td>\n",
              "      <td>-150476.36</td>\n",
              "      <td>NaN</td>\n",
              "      <td>1</td>\n",
              "      <td>6</td>\n",
              "      <td>12</td>\n",
              "      <td>-2</td>\n",
              "      <td>6</td>\n",
              "    </tr>\n",
              "    <tr>\n",
              "      <th>22899</th>\n",
              "      <td>6010</td>\n",
              "      <td>7030</td>\n",
              "      <td>33688.74</td>\n",
              "      <td>NaN</td>\n",
              "      <td>1</td>\n",
              "      <td>28</td>\n",
              "      <td>10</td>\n",
              "      <td>-2</td>\n",
              "      <td>0</td>\n",
              "    </tr>\n",
              "    <tr>\n",
              "      <th>...</th>\n",
              "      <td>...</td>\n",
              "      <td>...</td>\n",
              "      <td>...</td>\n",
              "      <td>...</td>\n",
              "      <td>...</td>\n",
              "      <td>...</td>\n",
              "      <td>...</td>\n",
              "      <td>...</td>\n",
              "      <td>...</td>\n",
              "    </tr>\n",
              "    <tr>\n",
              "      <th>99999680</th>\n",
              "      <td>5411</td>\n",
              "      <td>1110</td>\n",
              "      <td>-5659.71</td>\n",
              "      <td>31190432</td>\n",
              "      <td>1</td>\n",
              "      <td>444</td>\n",
              "      <td>0</td>\n",
              "      <td>-1</td>\n",
              "      <td>3</td>\n",
              "    </tr>\n",
              "    <tr>\n",
              "      <th>99999680</th>\n",
              "      <td>6011</td>\n",
              "      <td>2110</td>\n",
              "      <td>-134754.95</td>\n",
              "      <td>406826</td>\n",
              "      <td>1</td>\n",
              "      <td>444</td>\n",
              "      <td>0</td>\n",
              "      <td>-1</td>\n",
              "      <td>3</td>\n",
              "    </tr>\n",
              "    <tr>\n",
              "      <th>99999680</th>\n",
              "      <td>5541</td>\n",
              "      <td>1110</td>\n",
              "      <td>-11229.58</td>\n",
              "      <td>J038003</td>\n",
              "      <td>1</td>\n",
              "      <td>446</td>\n",
              "      <td>0</td>\n",
              "      <td>-1</td>\n",
              "      <td>5</td>\n",
              "    </tr>\n",
              "    <tr>\n",
              "      <th>99999680</th>\n",
              "      <td>6010</td>\n",
              "      <td>7070</td>\n",
              "      <td>1122.96</td>\n",
              "      <td>945022</td>\n",
              "      <td>1</td>\n",
              "      <td>451</td>\n",
              "      <td>9</td>\n",
              "      <td>-2</td>\n",
              "      <td>3</td>\n",
              "    </tr>\n",
              "    <tr>\n",
              "      <th>99999680</th>\n",
              "      <td>4814</td>\n",
              "      <td>1030</td>\n",
              "      <td>-6737.75</td>\n",
              "      <td>171703</td>\n",
              "      <td>1</td>\n",
              "      <td>456</td>\n",
              "      <td>6</td>\n",
              "      <td>-2</td>\n",
              "      <td>1</td>\n",
              "    </tr>\n",
              "  </tbody>\n",
              "</table>\n",
              "<p>3751083 rows × 9 columns</p>\n",
              "</div>"
            ],
            "text/plain": [
              "             mcc_code  tr_type     amount  ... hour  night  day_of_week\n",
              "customer_id                                ...                         \n",
              "22899            4814     1030   -4491.83  ...   15     -2            1\n",
              "22899            4814     1030   -2245.92  ...   20     -2            2\n",
              "22899            6011     2010  -44918.32  ...   18     -2            5\n",
              "22899            6011     2010 -150476.36  ...   12     -2            6\n",
              "22899            6010     7030   33688.74  ...   10     -2            0\n",
              "...               ...      ...        ...  ...  ...    ...          ...\n",
              "99999680         5411     1110   -5659.71  ...    0     -1            3\n",
              "99999680         6011     2110 -134754.95  ...    0     -1            3\n",
              "99999680         5541     1110  -11229.58  ...    0     -1            5\n",
              "99999680         6010     7070    1122.96  ...    9     -2            3\n",
              "99999680         4814     1030   -6737.75  ...    6     -2            1\n",
              "\n",
              "[3751083 rows x 9 columns]"
            ]
          },
          "metadata": {
            "tags": []
          },
          "execution_count": 73
        }
      ]
    },
    {
      "cell_type": "code",
      "metadata": {
        "colab": {
          "base_uri": "https://localhost:8080/",
          "height": 474
        },
        "id": "e04g6jsKweza",
        "outputId": "f1ce23bb-ae0d-4bb9-dc70-05215f0c873b"
      },
      "source": [
        "\r\n",
        "\r\n",
        "sum_neg_amount_by_day  = transactions[transactions['amount'] < 0].groupby(['day_of_week', 'gender'])['amount'].sum().unstack(-1)\r\n",
        "sum_pos_amount_by_day  = transactions[transactions['amount'] > 0].groupby(['day_of_week', 'gender'])['amount'].sum().unstack(-1)\r\n",
        "\r\n",
        "'''sum_amount_by_day = sum_amount_by_day.to_frame()\r\n",
        "sum_amount_by_day.reset_index(inplace=True)\r\n",
        "sum_amount_by_day['amount'] = -sum_amount_by_day['amount']'''\r\n",
        "sum_neg_amount_by_day.reset_index(inplace=True)\r\n",
        "sum_pos_amount_by_day.reset_index(inplace=True)\r\n",
        "\r\n",
        "fig, ax = plt.subplots(2,2, figsize=(15, 7),  sharex=True)\r\n",
        "sns.barplot(data=sum_neg_amount_by_day, x='day_of_week', y=0, ax=ax[0,0]).set_title('Суммарные траты женщин \\n по дням недели')\r\n",
        "sns.barplot(data=sum_neg_amount_by_day, x='day_of_week', y=1, ax=ax[0,1]).set_title('Cуммарные траты мужчин \\n по дням недели')\r\n",
        "sns.barplot(data=sum_pos_amount_by_day, x='day_of_week', y=0, ax=ax[1,0]).set_title('Суммарные поступления женщинам по дням недели')\r\n",
        "sns.barplot(data=sum_pos_amount_by_day, x='day_of_week', y=1, ax=ax[1,1]).set_title('Cуммарные поступления мужчинам по дням недели')\r\n",
        "fig.show()"
      ],
      "execution_count": 100,
      "outputs": [
        {
          "output_type": "display_data",
          "data": {
            "image/png": "[encoded data removed]",
            "text/plain": [
              "<Figure size 1080x504 with 4 Axes>"
            ]
          },
          "metadata": {
            "tags": [],
            "needs_background": "light"
          }
        }
      ]
    },
    {
      "cell_type": "markdown",
      "metadata": {
        "id": "OnYehhU35psW"
      },
      "source": [
        "Кто больше тратит в ночное время?"
      ]
    },
    {
      "cell_type": "code",
      "metadata": {
        "colab": {
          "base_uri": "https://localhost:8080/",
          "height": 450
        },
        "id": "bB3L9IuGX5xP",
        "outputId": "b93693c6-95dd-496f-e181-8b5839d67365"
      },
      "source": [
        "transactions['night'] = ~transactions['hour'].between(6, 22).astype(int)\r\n",
        "transactions"
      ],
      "execution_count": 102,
      "outputs": [
        {
          "output_type": "execute_result",
          "data": {
            "text/html": [
              "<div>\n",
              "<style scoped>\n",
              "    .dataframe tbody tr th:only-of-type {\n",
              "        vertical-align: middle;\n",
              "    }\n",
              "\n",
              "    .dataframe tbody tr th {\n",
              "        vertical-align: top;\n",
              "    }\n",
              "\n",
              "    .dataframe thead th {\n",
              "        text-align: right;\n",
              "    }\n",
              "</style>\n",
              "<table border=\"1\" class=\"dataframe\">\n",
              "  <thead>\n",
              "    <tr style=\"text-align: right;\">\n",
              "      <th></th>\n",
              "      <th>mcc_code</th>\n",
              "      <th>tr_type</th>\n",
              "      <th>amount</th>\n",
              "      <th>term_id</th>\n",
              "      <th>gender</th>\n",
              "      <th>day</th>\n",
              "      <th>hour</th>\n",
              "      <th>day_of_week</th>\n",
              "      <th>night</th>\n",
              "    </tr>\n",
              "    <tr>\n",
              "      <th>customer_id</th>\n",
              "      <th></th>\n",
              "      <th></th>\n",
              "      <th></th>\n",
              "      <th></th>\n",
              "      <th></th>\n",
              "      <th></th>\n",
              "      <th></th>\n",
              "      <th></th>\n",
              "      <th></th>\n",
              "    </tr>\n",
              "  </thead>\n",
              "  <tbody>\n",
              "    <tr>\n",
              "      <th>22899</th>\n",
              "      <td>4814</td>\n",
              "      <td>1030</td>\n",
              "      <td>-4491.83</td>\n",
              "      <td>NaN</td>\n",
              "      <td>1</td>\n",
              "      <td>1</td>\n",
              "      <td>15</td>\n",
              "      <td>1</td>\n",
              "      <td>-2</td>\n",
              "    </tr>\n",
              "    <tr>\n",
              "      <th>22899</th>\n",
              "      <td>4814</td>\n",
              "      <td>1030</td>\n",
              "      <td>-2245.92</td>\n",
              "      <td>NaN</td>\n",
              "      <td>1</td>\n",
              "      <td>2</td>\n",
              "      <td>20</td>\n",
              "      <td>2</td>\n",
              "      <td>-2</td>\n",
              "    </tr>\n",
              "    <tr>\n",
              "      <th>22899</th>\n",
              "      <td>6011</td>\n",
              "      <td>2010</td>\n",
              "      <td>-44918.32</td>\n",
              "      <td>NaN</td>\n",
              "      <td>1</td>\n",
              "      <td>5</td>\n",
              "      <td>18</td>\n",
              "      <td>5</td>\n",
              "      <td>-2</td>\n",
              "    </tr>\n",
              "    <tr>\n",
              "      <th>22899</th>\n",
              "      <td>6011</td>\n",
              "      <td>2010</td>\n",
              "      <td>-150476.36</td>\n",
              "      <td>NaN</td>\n",
              "      <td>1</td>\n",
              "      <td>6</td>\n",
              "      <td>12</td>\n",
              "      <td>6</td>\n",
              "      <td>-2</td>\n",
              "    </tr>\n",
              "    <tr>\n",
              "      <th>22899</th>\n",
              "      <td>6010</td>\n",
              "      <td>7030</td>\n",
              "      <td>33688.74</td>\n",
              "      <td>NaN</td>\n",
              "      <td>1</td>\n",
              "      <td>28</td>\n",
              "      <td>10</td>\n",
              "      <td>0</td>\n",
              "      <td>-2</td>\n",
              "    </tr>\n",
              "    <tr>\n",
              "      <th>...</th>\n",
              "      <td>...</td>\n",
              "      <td>...</td>\n",
              "      <td>...</td>\n",
              "      <td>...</td>\n",
              "      <td>...</td>\n",
              "      <td>...</td>\n",
              "      <td>...</td>\n",
              "      <td>...</td>\n",
              "      <td>...</td>\n",
              "    </tr>\n",
              "    <tr>\n",
              "      <th>99999680</th>\n",
              "      <td>5411</td>\n",
              "      <td>1110</td>\n",
              "      <td>-5659.71</td>\n",
              "      <td>31190432</td>\n",
              "      <td>1</td>\n",
              "      <td>444</td>\n",
              "      <td>0</td>\n",
              "      <td>3</td>\n",
              "      <td>-1</td>\n",
              "    </tr>\n",
              "    <tr>\n",
              "      <th>99999680</th>\n",
              "      <td>6011</td>\n",
              "      <td>2110</td>\n",
              "      <td>-134754.95</td>\n",
              "      <td>406826</td>\n",
              "      <td>1</td>\n",
              "      <td>444</td>\n",
              "      <td>0</td>\n",
              "      <td>3</td>\n",
              "      <td>-1</td>\n",
              "    </tr>\n",
              "    <tr>\n",
              "      <th>99999680</th>\n",
              "      <td>5541</td>\n",
              "      <td>1110</td>\n",
              "      <td>-11229.58</td>\n",
              "      <td>J038003</td>\n",
              "      <td>1</td>\n",
              "      <td>446</td>\n",
              "      <td>0</td>\n",
              "      <td>5</td>\n",
              "      <td>-1</td>\n",
              "    </tr>\n",
              "    <tr>\n",
              "      <th>99999680</th>\n",
              "      <td>6010</td>\n",
              "      <td>7070</td>\n",
              "      <td>1122.96</td>\n",
              "      <td>945022</td>\n",
              "      <td>1</td>\n",
              "      <td>451</td>\n",
              "      <td>9</td>\n",
              "      <td>3</td>\n",
              "      <td>-2</td>\n",
              "    </tr>\n",
              "    <tr>\n",
              "      <th>99999680</th>\n",
              "      <td>4814</td>\n",
              "      <td>1030</td>\n",
              "      <td>-6737.75</td>\n",
              "      <td>171703</td>\n",
              "      <td>1</td>\n",
              "      <td>456</td>\n",
              "      <td>6</td>\n",
              "      <td>1</td>\n",
              "      <td>-2</td>\n",
              "    </tr>\n",
              "  </tbody>\n",
              "</table>\n",
              "<p>3751083 rows × 9 columns</p>\n",
              "</div>"
            ],
            "text/plain": [
              "             mcc_code  tr_type     amount  ... hour  day_of_week  night\n",
              "customer_id                                ...                         \n",
              "22899            4814     1030   -4491.83  ...   15            1     -2\n",
              "22899            4814     1030   -2245.92  ...   20            2     -2\n",
              "22899            6011     2010  -44918.32  ...   18            5     -2\n",
              "22899            6011     2010 -150476.36  ...   12            6     -2\n",
              "22899            6010     7030   33688.74  ...   10            0     -2\n",
              "...               ...      ...        ...  ...  ...          ...    ...\n",
              "99999680         5411     1110   -5659.71  ...    0            3     -1\n",
              "99999680         6011     2110 -134754.95  ...    0            3     -1\n",
              "99999680         5541     1110  -11229.58  ...    0            5     -1\n",
              "99999680         6010     7070    1122.96  ...    9            3     -2\n",
              "99999680         4814     1030   -6737.75  ...    6            1     -2\n",
              "\n",
              "[3751083 rows x 9 columns]"
            ]
          },
          "metadata": {
            "tags": []
          },
          "execution_count": 102
        }
      ]
    },
    {
      "cell_type": "code",
      "metadata": {
        "colab": {
          "base_uri": "https://localhost:8080/",
          "height": 266
        },
        "id": "ujTNdFTNAZWP",
        "outputId": "0f71a701-4e6a-46c8-c74e-47df4206d677"
      },
      "source": [
        "sum_neg_amount_night_by_day = transactions[(transactions.amount < 0) & (transactions.night == -1)].groupby(['day_of_week', 'gender'])['amount'].mean().abs().unstack(-1)\r\n",
        "sum_neg_amount_night_by_day.reset_index(inplace=True)\r\n",
        "sum_neg_amount_night_by_day"
      ],
      "execution_count": 120,
      "outputs": [
        {
          "output_type": "execute_result",
          "data": {
            "text/html": [
              "<div>\n",
              "<style scoped>\n",
              "    .dataframe tbody tr th:only-of-type {\n",
              "        vertical-align: middle;\n",
              "    }\n",
              "\n",
              "    .dataframe tbody tr th {\n",
              "        vertical-align: top;\n",
              "    }\n",
              "\n",
              "    .dataframe thead th {\n",
              "        text-align: right;\n",
              "    }\n",
              "</style>\n",
              "<table border=\"1\" class=\"dataframe\">\n",
              "  <thead>\n",
              "    <tr style=\"text-align: right;\">\n",
              "      <th>gender</th>\n",
              "      <th>day_of_week</th>\n",
              "      <th>0</th>\n",
              "      <th>1</th>\n",
              "    </tr>\n",
              "  </thead>\n",
              "  <tbody>\n",
              "    <tr>\n",
              "      <th>0</th>\n",
              "      <td>0</td>\n",
              "      <td>36481.285088</td>\n",
              "      <td>51150.443198</td>\n",
              "    </tr>\n",
              "    <tr>\n",
              "      <th>1</th>\n",
              "      <td>1</td>\n",
              "      <td>31562.279168</td>\n",
              "      <td>49912.555461</td>\n",
              "    </tr>\n",
              "    <tr>\n",
              "      <th>2</th>\n",
              "      <td>2</td>\n",
              "      <td>29013.562544</td>\n",
              "      <td>38369.841252</td>\n",
              "    </tr>\n",
              "    <tr>\n",
              "      <th>3</th>\n",
              "      <td>3</td>\n",
              "      <td>32085.681041</td>\n",
              "      <td>52175.325452</td>\n",
              "    </tr>\n",
              "    <tr>\n",
              "      <th>4</th>\n",
              "      <td>4</td>\n",
              "      <td>37648.486417</td>\n",
              "      <td>53398.401518</td>\n",
              "    </tr>\n",
              "    <tr>\n",
              "      <th>5</th>\n",
              "      <td>5</td>\n",
              "      <td>33963.938647</td>\n",
              "      <td>51404.015173</td>\n",
              "    </tr>\n",
              "    <tr>\n",
              "      <th>6</th>\n",
              "      <td>6</td>\n",
              "      <td>33493.197568</td>\n",
              "      <td>52439.009516</td>\n",
              "    </tr>\n",
              "  </tbody>\n",
              "</table>\n",
              "</div>"
            ],
            "text/plain": [
              "gender  day_of_week             0             1\n",
              "0                 0  36481.285088  51150.443198\n",
              "1                 1  31562.279168  49912.555461\n",
              "2                 2  29013.562544  38369.841252\n",
              "3                 3  32085.681041  52175.325452\n",
              "4                 4  37648.486417  53398.401518\n",
              "5                 5  33963.938647  51404.015173\n",
              "6                 6  33493.197568  52439.009516"
            ]
          },
          "metadata": {
            "tags": []
          },
          "execution_count": 120
        }
      ]
    },
    {
      "cell_type": "code",
      "metadata": {
        "colab": {
          "base_uri": "https://localhost:8080/",
          "height": 474
        },
        "id": "ovNGEyeb6pmG",
        "outputId": "f81e0c47-275e-4d5d-9611-93893107d676"
      },
      "source": [
        "fig, ax = plt.subplots(1,2, figsize=(15, 7),  sharex=True)\r\n",
        "sns.barplot(data=sum_neg_amount_night_by_day, x='day_of_week', y=0, ax=ax[0]).set_title('Средние абсолютные траты женщин в ночное время \\n по дням недели')\r\n",
        "sns.barplot(data=sum_neg_amount_night_by_day, x='day_of_week', y=1, ax=ax[1]).set_title('Средние абсолютные траты мужчин в ночное время \\n по дням недели')\r\n",
        "fig.show()"
      ],
      "execution_count": 121,
      "outputs": [
        {
          "output_type": "display_data",
          "data": {
            "image/png": "[encoded data removed]",
            "text/plain": [
              "<Figure size 1080x504 with 2 Axes>"
            ]
          },
          "metadata": {
            "tags": [],
            "needs_background": "light"
          }
        }
      ]
    }
  ]
}