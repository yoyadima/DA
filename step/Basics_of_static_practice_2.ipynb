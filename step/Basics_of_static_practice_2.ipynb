{
  "nbformat": 4,
  "nbformat_minor": 0,
  "metadata": {
    "colab": {
      "name": "Basics_of_static_practice_2.ipynb",
      "provenance": [],
      "authorship_tag": "ABX9TyMwH4jXROEFn3Ayo2GkB1Yz",
      "include_colab_link": true
    },
    "kernelspec": {
      "name": "python3",
      "display_name": "Python 3"
    }
  },
  "cells": [
    {
      "cell_type": "markdown",
      "metadata": {
        "id": "view-in-github",
        "colab_type": "text"
      },
      "source": [
        "<a href=\"https://colab.research.google.com/github/yoyadima/DA/blob/main/Basics_of_static_practice_2.ipynb\" target=\"_parent\"><img src=\"https://colab.research.google.com/assets/colab-badge.svg\" alt=\"Open In Colab\"/></a>"
      ]
    },
    {
      "cell_type": "markdown",
      "metadata": {
        "id": "SdnV5lUTFIXR"
      },
      "source": [
        "###Напишите функцию NA_position, которая получает на вход два числовых вектора одинаковой длины. Функция должна возвращать TRUE, если позиции NA в обоих векторах совпадают или пропущенных значений вообще нет, и значение FALSE, если позиции NA в векторах не совпадают."
      ]
    },
    {
      "cell_type": "code",
      "metadata": {
        "id": "WV8k_iieFFGZ",
        "colab": {
          "base_uri": "https://localhost:8080/"
        },
        "outputId": "edafc191-cd8a-4589-859a-64bab7d21724"
      },
      "source": [
        "def ifna(vector_1, vector_2):\r\n",
        "  for i in range(0, len(vector_1)):\r\n",
        "    if (vector_1[i] == 'NaN' or vector_2[i] == 'NaN') and  vector_2[i] != vector_1[i]:\r\n",
        "      return False\r\n",
        "      break\r\n",
        "  return True\r\n",
        "\r\n",
        "\r\n",
        "a = ['NaN', 2, 4, 8]\r\n",
        "b = ['NaN', 2, 4, 0]\r\n",
        "ifna(a, b)"
      ],
      "execution_count": null,
      "outputs": [
        {
          "output_type": "execute_result",
          "data": {
            "text/plain": [
              "True"
            ]
          },
          "metadata": {
            "tags": []
          },
          "execution_count": 1
        }
      ]
    },
    {
      "cell_type": "markdown",
      "metadata": {
        "id": "aOg-yVRaFQ7F"
      },
      "source": [
        "###Напишите функцию smart_test, которая получает на вход dataframe с двумя номинативными переменными с произвольным числом градаций. Функция должна проверять гипотезу о независимости этих двух переменных при помощи критерия хи - квадрат или точного критерия Фишера.\r\n",
        "\r\n",
        "Если хотя бы в одной ячейке таблицы сопряженности двух переменных меньше 5 наблюдений, функция должна рассчитывать точный критерий Фишера и возвращать вектор из одного элемента: получившегося p - уровня значимости.\r\n",
        "\r\n",
        "Если наблюдений достаточно для расчета хи-квадрат (во всех ячейках больше либо равно 5 наблюдений), тогда функция должна применять критерий хи-квадрат и возвращать вектор из трех элементов: значение хи-квадрат, число степеней свободы,  p-уровня значимости."
      ]
    },
    {
      "cell_type": "code",
      "metadata": {
        "id": "xujBx8mLFRIS"
      },
      "source": [
        "import scipy.stats as stats\r\n",
        "import numpy as np\r\n",
        "\r\n",
        "\r\n",
        "def fish_test(data):\r\n",
        "  oddsratio, pvalue = stats.fisher_exact(data)\r\n",
        "  output = \"test Statistics: {}\\p-value: {}\\n\"\r\n",
        "  res = output.format(oddsratio, pvalue)\r\n",
        "  return res\r\n",
        "\r\n",
        "\r\n",
        "def smart_test(data):\r\n",
        "  for i in range(0, len(data)):\r\n",
        "    for j in range(0, len(data[0])):\r\n",
        "      if data[i][j] < 5:\r\n",
        "        fish_test(data)\r\n",
        "        break\r\n",
        "  chi2, prob, df, expected = stats.chi2_contingency(data)\r\n",
        "  output = \"test Statistics: {}\\n degrees of freedom: {}\\n np-value: {}\\n\"\r\n",
        "  res = output.format(chi2, df, prob)\r\n",
        "  print(expected[:, 0])\r\n",
        "  return res\r\n"
      ],
      "execution_count": null,
      "outputs": []
    },
    {
      "cell_type": "code",
      "metadata": {
        "colab": {
          "base_uri": "https://localhost:8080/",
          "height": 52
        },
        "id": "sFK9xwgiG6md",
        "outputId": "681b3e82-0fac-4d3a-bb5d-95cafb7ab3eb"
      },
      "source": [
        "table = [[12, 7], [6, 7]]\r\n",
        "smart_test(table)"
      ],
      "execution_count": null,
      "outputs": [
        {
          "output_type": "stream",
          "text": [
            "[10.6875  7.3125]\n"
          ],
          "name": "stdout"
        },
        {
          "output_type": "execute_result",
          "data": {
            "application/vnd.google.colaboratory.intrinsic+json": {
              "type": "string"
            },
            "text/plain": [
              "'test Statistics: 0.34753550543024225\\n degrees of freedom: 1\\n np-value: 0.5555115470131495\\n'"
            ]
          },
          "metadata": {
            "tags": []
          },
          "execution_count": 3
        }
      ]
    },
    {
      "cell_type": "markdown",
      "metadata": {
        "id": "nH5QuIFXQniJ"
      },
      "source": [
        "###Почувствуй себя биоинформатиком!  Вся наследственная информация в живых организмах хранится внутри молекулы ДНК. Эта молекула состоит из последовательности четырех \"букв\" — ﻿A, T, G и C. \r\n",
        "\r\n",
        "Напишите функцию most_significant, которая получает на вход dataframe с произвольным количеством переменных, где каждая переменная это нуклеотидная последовательность. \r\n",
        "Для каждой переменной мы можем проверить нулевую гипотезу о том, что все нуклеотиды (A, T, G, C) встречаются равновероятно внутри этой последовательности. Однако, возможно, что в некоторых последовательностях распределение частоты встречаемости каждого нуклеотида отличается от равномерного.\r\n",
        "\r\n",
        "Функция должна возвращать вектор с ﻿названием переменной (или переменных), в которой был получен минимальный p - уровень значимости при проверке гипотезы о равномерном распределении нуклеотидов при помощи критерия хи - квадрат. "
      ]
    },
    {
      "cell_type": "code",
      "metadata": {
        "id": "Xfeuyv5PQqZE"
      },
      "source": [
        "import pandas as pd\r\n",
        "import scipy.stats as stats\r\n",
        "import numpy as np\r\n",
        "\r\n",
        "\r\n",
        "data_atgc = pd.read_csv(\"https://stepic.org/media/attachments/course/524/test_data.csv\")\r\n",
        "\r\n",
        "def most_significant(test_ar):\r\n",
        "  test_ar=np.array(data_atgc).T\r\n",
        "  p_value_arr = []\r\n",
        "  for i in test_ar:\r\n",
        "    i = list(i)\r\n",
        "    A, T, G, C = i.count('A'), i.count('T'), i.count('G'), i.count('C')\r\n",
        "    matrix_chi = np.zeros(shape=(2, 4))\r\n",
        "    matrix_chi[0,0], matrix_chi[0,1], matrix_chi[0,2], matrix_chi[0,3] = A, T, G, C\r\n",
        "    nd_distr = len(i) / 12\r\n",
        "    matrix_chi[1,0], matrix_chi[1,1], matrix_chi[1,2], matrix_chi[1,3] = nd_distr, nd_distr, nd_distr, nd_distr\r\n",
        "    chi2, prob, df, expected = stats.chi2_contingency(matrix_chi)\r\n",
        "    p_value_arr.append(float(prob))\r\n",
        "  return list(data_atgc)[p_value_arr.index(min(p_value_arr))]"
      ],
      "execution_count": null,
      "outputs": []
    },
    {
      "cell_type": "code",
      "metadata": {
        "colab": {
          "base_uri": "https://localhost:8080/",
          "height": 35
        },
        "id": "Nzy6QbYGWYVv",
        "outputId": "5f1b65ef-11b3-44a0-dc77-6d509df6434f"
      },
      "source": [
        "list(data_atgc)[0]\r\n",
        "most_significant(data_atgc)"
      ],
      "execution_count": null,
      "outputs": [
        {
          "output_type": "execute_result",
          "data": {
            "application/vnd.google.colaboratory.intrinsic+json": {
              "type": "string"
            },
            "text/plain": [
              "'V3'"
            ]
          },
          "metadata": {
            "tags": []
          },
          "execution_count": 5
        }
      ]
    },
    {
      "cell_type": "markdown",
      "metadata": {
        "id": "PoOihTqpnfS9"
      },
      "source": [
        "###Создайте новую переменную important_cases - фактор с двумя градациями (\"No\" и \"Yes\"). Переменная должна принимать значение Yes, если для данного цветка значения хотя бы трех количественных переменных выше среднего. В противном случае переменная important_cases  будет принимать значение No."
      ]
    },
    {
      "cell_type": "code",
      "metadata": {
        "id": "BNYPxojZnf1_"
      },
      "source": [
        "import pandas as pd\r\n",
        "import numpy as np\r\n",
        "\r\n",
        "def iris(df):\r\n",
        "  df = np.array(df)\r\n",
        "  for j in range(0, len(df[:,0])):\r\n",
        "    flag_mean = 0\r\n",
        "    for k in range(0, len(df)):\r\n",
        "      if df[j, k] > df[:,k].mean():\r\n",
        "        flag_mean += 1\r\n",
        "    if flag_mean >= 3:\r\n",
        "      df['important_cases'] = 'Yes'\r\n",
        "    else:\r\n",
        "      df['important_cases'] = 'No'\r\n",
        "  return df\r\n"
      ],
      "execution_count": null,
      "outputs": []
    },
    {
      "cell_type": "code",
      "metadata": {
        "id": "v42PYXQPdUcw"
      },
      "source": [
        "def test(df):\r\n",
        "  df2 = df.T.mean(numeric_only=True, axis=1)\r\n",
        "  df['important_cases'] = 'Yes'\r\n",
        "  m = len(df.iloc[:, 0])\r\n",
        "  for i in range(0, m - 1):\r\n",
        "    flag_mean = 0\r\n",
        "    for j in range(0, len(df) - 1):\r\n",
        "      if int(df.iloc[i, j]) > int(df2[j]):\r\n",
        "        flag_mean += 1\r\n",
        "    if flag_mean >= 2:\r\n",
        "      df.at[i,'important_cases'] = 'Yes'\r\n",
        "    else:\r\n",
        "      df.at[i,'important_cases'] = 'No'\r\n",
        "  return df"
      ],
      "execution_count": null,
      "outputs": []
    },
    {
      "cell_type": "code",
      "metadata": {
        "colab": {
          "base_uri": "https://localhost:8080/"
        },
        "id": "h6fS5uYPnmEw",
        "outputId": "e982e047-2bac-4a5f-8391-cb4e16ef1df9"
      },
      "source": [
        "import pandas as pd\r\n",
        "import numpy as np\r\n",
        "df2 = pd.DataFrame(np.array([[1, 2, 3], [4, 5, 6], [7, 8, 9], [1, 9, 3]]),\r\n",
        "                   columns=['a', 'b', 'c'])\r\n",
        "#df = np.array(df2)\r\n",
        "#print(df[:,0].mean())\r\n",
        "\r\n",
        "print(test(df2))"
      ],
      "execution_count": null,
      "outputs": [
        {
          "output_type": "stream",
          "text": [
            "   a  b  c important_cases\n",
            "0  1  2  3              No\n",
            "1  4  5  6             Yes\n",
            "2  7  8  9             Yes\n",
            "3  1  9  3             Yes\n"
          ],
          "name": "stdout"
        }
      ]
    },
    {
      "cell_type": "code",
      "metadata": {
        "id": "pKmR4WFdf1ap"
      },
      "source": [
        "def test1(df):\r\n",
        "  df2 = df.T.mean(numeric_only=True, axis=1)\r\n",
        "  df['important_cases'] = 1\r\n",
        "  m = len(df.iloc[:, 0])\r\n",
        "  for i in range(0, m - 1):\r\n",
        "    flag_mean = 0\r\n",
        "    for j in range(0, len(df) - 1):\r\n",
        "      if int(df.iloc[i, j]) > int(df2[j]):\r\n",
        "        flag_mean += 1\r\n",
        "    if flag_mean >= len(df) - 1:\r\n",
        "      df.at[i,'important_cases'] = 1\r\n",
        "    else:\r\n",
        "      df.at[i,'important_cases'] = 0\r\n",
        "  return df"
      ],
      "execution_count": null,
      "outputs": []
    },
    {
      "cell_type": "code",
      "metadata": {
        "colab": {
          "base_uri": "https://localhost:8080/"
        },
        "id": "4bDVIrq2w8QB",
        "outputId": "0cf2ba0a-1358-4fae-da07-ddf3d23077b5"
      },
      "source": [
        "import pandas as pd\r\n",
        "import numpy as np\r\n",
        "df2 = pd.DataFrame(np.array([[1, 2, 3], [4, 5, 6], [7, 8, 9], [1, 9, 3]]),\r\n",
        "                   columns=['a', 'b', 'c'])\r\n",
        "\r\n",
        "print(test1(df2))"
      ],
      "execution_count": null,
      "outputs": [
        {
          "output_type": "stream",
          "text": [
            "   a  b  c  important_cases\n",
            "0  1  2  3                0\n",
            "1  4  5  6                0\n",
            "2  7  8  9                1\n",
            "3  1  9  3                1\n"
          ],
          "name": "stdout"
        }
      ]
    },
    {
      "cell_type": "markdown",
      "metadata": {
        "id": "U8rH2_dr9HZh"
      },
      "source": [
        "###Напишите функцию stat_mode, которая получает на вход вектор из чисел произвольной длины и возвращает числовой вектор с наиболее часто встречаемым значением. Если наиболее часто встречаемых значений несколько, функция должна возвращать несколько значений моды  в виде числового вектора. "
      ]
    },
    {
      "cell_type": "code",
      "metadata": {
        "id": "6_YtpA0f2-Dg"
      },
      "source": [
        "def func_mode(df):\r\n",
        "  res_mas = []\r\n",
        "  max_count = 0\r\n",
        "  for i in range(0, len(df)):\r\n",
        "    if df.count(df[i]) >= max_count:\r\n",
        "      max_count = df.count(df[i])\r\n",
        "  for i in range(0, len(df)):\r\n",
        "    if df.count(df[i]) == max_count and df[i] not in res_mas:\r\n",
        "      res_mas.append(df[i])\r\n",
        "  return res_mas\r\n",
        "     "
      ],
      "execution_count": null,
      "outputs": []
    },
    {
      "cell_type": "code",
      "metadata": {
        "colab": {
          "base_uri": "https://localhost:8080/"
        },
        "id": "_mWEYjmF-K3O",
        "outputId": "e11a9783-8d4f-43f6-81a1-1d319275ad28"
      },
      "source": [
        "func_mode([1, 1, 1, 2, 2, 2, 3, 3, 3])"
      ],
      "execution_count": null,
      "outputs": [
        {
          "output_type": "execute_result",
          "data": {
            "text/plain": [
              "[1, 2, 3]"
            ]
          },
          "metadata": {
            "tags": []
          },
          "execution_count": 12
        }
      ]
    },
    {
      "cell_type": "markdown",
      "metadata": {
        "id": "aTV9b3Gu_G-H"
      },
      "source": [
        "###Доктор Пилюлькин решил вооружиться статистикой, чтобы сравнить эффективность трех лекарств! Давайте поможем ему и напишем функцию max_resid, которая получает на вход dataframe с двумя переменными: типом лекарства и результатом его применения. \r\n",
        "\r\n",
        "Drugs - фактор с тремя градациями: drug_1, drug_2, drug_3.     \r\n",
        "\r\n",
        "Result - фактор с двумя градациями: positive, negative.\r\n",
        "\r\n",
        "Функция должна находить ячейку таблицы сопряженности с максимальным  значением стандартизированного остатка и возвращать вектор из двух элементов: название строчки и столбца этой ячейки.\r\n",
        "\r\n",
        "Для расчета стандартизированных остатков вы можете воспользоваться уже знакомой вам функцией chisq.test(). Изучите справку по этой функции, чтобы найти, где хранятся стандартизированные остатки."
      ]
    },
    {
      "cell_type": "code",
      "metadata": {
        "id": "Q3SwfL1I_HZL"
      },
      "source": [
        "import pandas as pd\r\n",
        "import numpy as np\r\n",
        "import scipy.stats as stats\r\n",
        "\r\n",
        "def max_resid(data):\r\n",
        "  chi2, prob, df, expected = stats.chi2_contingency(data)\r\n",
        "  max_expected = 0\r\n",
        "  max_ex_x = 0\r\n",
        "  max_ex_y = 0\r\n",
        "  for i in range(0, len(expected[:, 0]) - 1):\r\n",
        "    for j in range(0, len(expected) - 1):\r\n",
        "      if expected[i, j] >= max_expected:\r\n",
        "        max_expected = expected[j, i]\r\n",
        "        max_ex_x = i\r\n",
        "        max_ex_y = j\r\n",
        "  return [data.columns[j], i]"
      ],
      "execution_count": null,
      "outputs": []
    },
    {
      "cell_type": "code",
      "metadata": {
        "colab": {
          "base_uri": "https://localhost:8080/"
        },
        "id": "XZDT_FioBJ4F",
        "outputId": "afc0ee0b-2b89-4579-e93d-ee7278a36ca7"
      },
      "source": [
        "df2 = pd.DataFrame(np.array([[1, 2, 3], [4, 5, 6], [7, 8, 9], [1, 9, 3]]),\r\n",
        "                   columns=['a', 'b', 'c'])\r\n",
        "\r\n",
        "\r\n",
        "max_resid(df2)"
      ],
      "execution_count": null,
      "outputs": [
        {
          "output_type": "execute_result",
          "data": {
            "text/plain": [
              "['c', 2]"
            ]
          },
          "metadata": {
            "tags": []
          },
          "execution_count": 14
        }
      ]
    },
    {
      "cell_type": "markdown",
      "metadata": {
        "id": "U_BA19tmjwoe"
      },
      "source": [
        "###Начнем с простого и вспомним, как применять логистическую регрессию в R. Напишите функцию get_coefficients, которая получает на вход dataframe с двумя переменными x ( фактор с произвольным числом градаций) и y ( фактор с двумя градациями ﻿). Функция строит логистическую модель, где y — зависимая переменная, а x — независимая, и возвращает вектор со значением экспоненты коэффициентов модели.\r\n",
        "\r\n"
      ]
    },
    {
      "cell_type": "code",
      "metadata": {
        "colab": {
          "base_uri": "https://localhost:8080/"
        },
        "id": "wWuNHpC7jxOl",
        "outputId": "f1da2411-e8ff-4da0-dd22-4e4375568e46"
      },
      "source": [
        "import pandas as pd\r\n",
        "import statsmodels.api as sm\r\n",
        "import statsmodels.formula.api as sf\r\n",
        "import numpy as np\r\n",
        "\r\n",
        "\r\n",
        "df = pd.read_csv(\"https://stepik.org/media/attachments/course/524/test_data_01.csv\", index_col=False)\r\n",
        "\r\n",
        "df.y[df.y == 1] = 0\r\n",
        "df.y[df.y == 2] = 1\r\n",
        "# x - таблица с исходными данными факторов (x1, x2, x3)\r\n",
        "x = np.array(df.iloc[:,0])\r\n",
        "# y - таблица с исходными данными зависимой переменной\r\n",
        "y = np.array(df.iloc[:,-1])\r\n",
        "\r\n",
        "\r\n",
        "#log_reg = sm.Logit(y, x).fit() \r\n",
        "#print(log_reg.summary()) \r\n",
        "res = sf.glm('y ~ C(x)', df, family=sm.families.Binomial()).fit()\r\n",
        "print(res.summary())"
      ],
      "execution_count": null,
      "outputs": [
        {
          "output_type": "stream",
          "text": [
            "/usr/local/lib/python3.6/dist-packages/statsmodels/tools/_testing.py:19: FutureWarning: pandas.util.testing is deprecated. Use the functions in the public API at pandas.testing instead.\n",
            "  import pandas.util.testing as tm\n"
          ],
          "name": "stderr"
        },
        {
          "output_type": "stream",
          "text": [
            "                 Generalized Linear Model Regression Results                  \n",
            "==============================================================================\n",
            "Dep. Variable:                      y   No. Observations:                   50\n",
            "Model:                            GLM   Df Residuals:                       47\n",
            "Model Family:                Binomial   Df Model:                            2\n",
            "Link Function:                  logit   Scale:                          1.0000\n",
            "Method:                          IRLS   Log-Likelihood:                -32.570\n",
            "Date:                Sun, 07 Feb 2021   Deviance:                       65.139\n",
            "Time:                        17:51:22   Pearson chi2:                     50.0\n",
            "No. Iterations:                     4                                         \n",
            "Covariance Type:            nonrobust                                         \n",
            "==============================================================================\n",
            "                 coef    std err          z      P>|z|      [0.025      0.975]\n",
            "------------------------------------------------------------------------------\n",
            "Intercept     -0.1054      0.459     -0.229      0.819      -1.006       0.795\n",
            "C(x)[T.2]      0.9320      0.645      1.444      0.149      -0.333       2.197\n",
            "C(x)[T.3]     -0.4055      0.863     -0.470      0.638      -2.097       1.286\n",
            "==============================================================================\n"
          ],
          "name": "stdout"
        }
      ]
    },
    {
      "cell_type": "code",
      "metadata": {
        "colab": {
          "base_uri": "https://localhost:8080/"
        },
        "id": "X_97WiYojYlM",
        "outputId": "74ef2ace-e0f1-416c-acef-bcadef44ef66"
      },
      "source": [
        "from sklearn.linear_model import LogisticRegression\r\n",
        "\r\n",
        "def get_coeff(df):\r\n",
        "  # Considering last column is the target column\r\n",
        "  X = df.drop(columns=df.columns[-1])\r\n",
        "  y = df[df.columns[-1]]\r\n",
        "  model = LogisticRegression()\r\n",
        "  model.fit(X, y)\r\n",
        "  coef = np.r_[model.intercept_, model.coef_.flatten()]\r\n",
        "  return coef\r\n",
        "\r\n",
        "get_coeff(df)"
      ],
      "execution_count": null,
      "outputs": [
        {
          "output_type": "execute_result",
          "data": {
            "text/plain": [
              "array([0.20081457, 0.02267641])"
            ]
          },
          "metadata": {
            "tags": []
          },
          "execution_count": 16
        }
      ]
    },
    {
      "cell_type": "markdown",
      "metadata": {
        "id": "ZxCxHCqvti0h"
      },
      "source": [
        "###Если в нашей модели есть количественные предикторы, то в интерцепте мы будем иметь значение, соответствующее базовому уровню категориальных предикторов и нулевому уровню количественных. Это не всегда осмысленно. Например, нам не интересен прогноз для людей нулевого возраста или роста. В таких ситуациях количественную переменную имеет смысл предварительно центрировать так, чтобы ноль являлся средним значением переменной. Самый простой способ центрировать переменную — отнять от каждого наблюдения среднее значение всех наблюдений.\r\n",
        "\r\n",
        "*xcentered_{i}= x_{i} - \\bar{x}*\r\n",
        "  \r\n",
        "\r\n",
        "В этом задании вашей задачей будет  написать функцию centered, которая получает на вход датафрейм и имена переменных, которые необходимо центрировать так, как это описано выше. Функция должна возвращать этот же датафрейм, только с центрированными указанными переменными."
      ]
    },
    {
      "cell_type": "code",
      "metadata": {
        "colab": {
          "base_uri": "https://localhost:8080/"
        },
        "id": "M_oLqyxyvo2R",
        "outputId": "c698d2f4-d18e-4eb5-d297-de8920a9e86e"
      },
      "source": [
        "import pandas as pd\r\n",
        "from sklearn import preprocessing\r\n",
        "import numpy as np\r\n",
        "\r\n",
        "df = pd.read_csv(\"https://stepic.org/media/attachments/course/524/cen_data.csv\")\r\n",
        "\r\n",
        "print(df)\r\n",
        "def mean_norm(data, col_names):\r\n",
        "  for i in col_names:\r\n",
        "    x = data[i].values.reshape(-1, 1) #returns a numpy array\r\n",
        "    #min_max_scaler = preprocessing.MinMaxScaler()\r\n",
        "    x_scaled = preprocessing.MinMaxScaler().fit_transform(x)\r\n",
        "    data[i] = pd.DataFrame(x_scaled)\r\n",
        "  return data\r\n",
        "\r\n",
        "print(mean_norm(df, ['X1','X3']))"
      ],
      "execution_count": null,
      "outputs": [
        {
          "output_type": "stream",
          "text": [
            "     X1    X2    X3    X4\n",
            "0   8.5   9.7  10.7  10.3\n",
            "1   8.1  12.8   9.7  12.6\n",
            "2   9.6   7.4   8.4  12.7\n",
            "3   9.6  10.9   7.7   8.0\n",
            "4  11.9  13.7  12.3  11.0\n",
            "         X1    X2        X3    X4\n",
            "0  0.105263   9.7  0.652174  10.3\n",
            "1  0.000000  12.8  0.434783  12.6\n",
            "2  0.394737   7.4  0.152174  12.7\n",
            "3  0.394737  10.9  0.000000   8.0\n",
            "4  1.000000  13.7  1.000000  11.0\n"
          ],
          "name": "stdout"
        }
      ]
    },
    {
      "cell_type": "markdown",
      "metadata": {
        "id": "xzQ_Zb3h04FO"
      },
      "source": [
        "###Представьте, что мы работаем в аэропорту в службе безопасности и сканируем багаж пассажиров. В нашем распоряжении есть информация о результатах проверки багажа за предыдущие месяцы. Про каждую вещь мы знаем:\r\n",
        "\r\n",
        "являлся ли багаж запрещенным - is_prohibited (No - разрешенный, Yes - запрещенный) \r\n",
        "его массу (кг) - weight\r\n",
        "длину (см) - length\r\n",
        "ширину (см) - width\r\n",
        "тип багажа (сумка или чемодан) - type.\r\n",
        "\r\n",
        "Напишите функцию get_features , которая получает на вход набор данных о багаже. Строит логистическую регрессию, где зависимая переменная ﻿ - ﻿являлся ли багаж запрещенным, а предикторы - остальные переменные,﻿ и возвращает вектор с названиями статистически значимых переменных (p < 0.05) (в модели без взаимодействия). Если в данных нет значимых предикторов, функция возвращает строку с сообщением  \"Prediction makes no sense\"."
      ]
    },
    {
      "cell_type": "code",
      "metadata": {
        "colab": {
          "base_uri": "https://localhost:8080/",
          "height": 375
        },
        "id": "NQkrdfy10EaV",
        "outputId": "bdb3ab65-1ead-4595-aa03-ce9bb08b795f"
      },
      "source": [
        "import pandas as pd\r\n",
        "from sklearn import preprocessing\r\n",
        "import numpy as np\r\n",
        "import statsmodels.api as sm\r\n",
        "import statsmodels.formula.api as sf\r\n",
        "pd.options.mode.chained_assignment = None  # default='warn'\r\n",
        "\r\n",
        "df = pd.read_csv(\"https://stepic.org/media/attachments/course/524/test_luggage_1.csv\")\r\n",
        "\r\n",
        "def get_features(df):\r\n",
        "\r\n",
        "  df.is_prohibited[df.is_prohibited == 'No'] = 0\r\n",
        "  df.is_prohibited[df.is_prohibited == 'Yes'] = 1\r\n",
        "  res = sf.glm('is_prohibited ~ weight + length + width + type', df, family=sm.families.Binomial()).fit().summary()\r\n",
        "  print(res)\r\n",
        "  coef_names = np.array([str(res.tables[1][i][0]) for i in range(1, 6)])\r\n",
        "  p_values = np.array([float(str(res.tables[1][i][4])) for i in range(1, 6)])\r\n",
        "  res1 = coef_names[p_values < 0.05]\r\n",
        "  result = [re.findall(name, r) for r in res1 for name in ['weight', 'length', 'width', 'type']]\r\n",
        "  result = list(np.array([r for r in result if r]).ravel())\r\n",
        "    \r\n",
        "  return result if len(result) else 'Prediction makes no sense'\r\n",
        "\r\n",
        "get_features(df)"
      ],
      "execution_count": null,
      "outputs": [
        {
          "output_type": "stream",
          "text": [
            "                            Generalized Linear Model Regression Results                             \n",
            "====================================================================================================\n",
            "Dep. Variable:     ['is_prohibited[0]', 'is_prohibited[1]']   No. Observations:                   60\n",
            "Model:                                                  GLM   Df Residuals:                       55\n",
            "Model Family:                                      Binomial   Df Model:                            4\n",
            "Link Function:                                        logit   Scale:                          1.0000\n",
            "Method:                                                IRLS   Log-Likelihood:                -41.393\n",
            "Date:                                      Sun, 07 Feb 2021   Deviance:                       82.785\n",
            "Time:                                              17:51:23   Pearson chi2:                     60.0\n",
            "No. Iterations:                                           4                                         \n",
            "Covariance Type:                                  nonrobust                                         \n",
            "====================================================================================\n",
            "                       coef    std err          z      P>|z|      [0.025      0.975]\n",
            "------------------------------------------------------------------------------------\n",
            "Intercept            0.7980      8.016      0.100      0.921     -14.914      16.510\n",
            "type[T.Suitcase]     0.2646      0.581      0.455      0.649      -0.874       1.403\n",
            "weight              -0.0071      0.038     -0.189      0.850      -0.081       0.067\n",
            "length              -0.0201      0.117     -0.171      0.864      -0.250       0.209\n",
            "width                0.0330      0.123      0.267      0.789      -0.209       0.275\n",
            "====================================================================================\n"
          ],
          "name": "stdout"
        },
        {
          "output_type": "execute_result",
          "data": {
            "application/vnd.google.colaboratory.intrinsic+json": {
              "type": "string"
            },
            "text/plain": [
              "'Prediction makes no sense'"
            ]
          },
          "metadata": {
            "tags": []
          },
          "execution_count": 18
        }
      ]
    },
    {
      "cell_type": "markdown",
      "metadata": {
        "id": "pvd-4Ah3aoDn"
      },
      "source": [
        "###Интересной особенностью логистической регрессии является тот факт, что ее предсказания — это не конкретный класс, к которому мы отнесем новое наблюдение, а вероятность отнесения к каждому из классов! Если вас интересует, как принимать решение о классификации новых объектов в логистической регрессии, посмотрите наш урок по этой теме в курсе по R, где мы разбираем этот вопрос.\r\n",
        "\r\n",
        "В результате, построив регрессионную модель, мы можем сделать вероятностное предсказание для каждого нового наблюдения. Иногда при решении практических задач бывает важным обратить внимание на те объекты, которые получили максимальное значение вероятности принадлежности к одному из классов.\r\n",
        "\r\n",
        "Продолжим нашу работу в службе безопасности! Разобравшись с тем, какие предикторы могут помогать нам предсказывать запрещенный багаж, давайте применим наши знания для повышения безопасности в аэропорту. Обучим наш алгоритм различать запрещенный и разрешенный багаж на уже имеющихся данных и применим его для сканирования нового багажа!\r\n",
        "\r\n",
        "Напишите функцию, которая принимает на вход два набора данных. Первый dataframe, как и в предыдущей задаче, содержит информацию об уже осмотренном багаже (запрещенный или нет, вес, длина, ширина, тип сумки). \r\n",
        "\r\n",
        "Второй набор данных — это информация о новом багаже, который сканируется прямо сейчас. В данных также есть информация:  вес, длина, ширина, тип сумки и имя пассажира (смотри описание переменных в примере). \r\n",
        "\r\n",
        "Используя первый набор данных, обучите регрессионную модель различать запрещенный и разрешенный багаж. При помощи полученной модели для каждого наблюдения в новых данных предскажите вероятность того, что багаж является запрещенным. Пассажиров, чей багаж получил максимальное значение вероятности, мы попросим пройти дополнительную проверку. \r\n",
        "\r\n",
        "Итого, ваша функция принимает два набора данных и возвращает имя пассажира с наиболее подозрительным багажом. Если несколько пассажиров получили максимальное значение вероятности, то верните вектор с несколькими именами. \r\n",
        "\r\n",
        "В этой задаче для предсказания будем использовать все предикторы, даже если некоторые из них оказались незначимыми. Для предсказания стройте модель без взаимодействия предикторов."
      ]
    },
    {
      "cell_type": "code",
      "metadata": {
        "colab": {
          "base_uri": "https://localhost:8080/",
          "height": 35
        },
        "id": "J13DZFBfpPj8",
        "outputId": "6914d916-9174-447f-a507-dd3b5d470e97"
      },
      "source": [
        "from sklearn.linear_model import LogisticRegression\r\n",
        "import pandas as pd\r\n",
        "\r\n",
        "df_test = pd.read_csv(\"https://stepic.org/media/attachments/course/524/test_data_passangers.csv\")\r\n",
        "df_predict = pd.read_csv(\"https://stepic.org/media/attachments/course/524/predict_passangers.csv\")\r\n",
        "\r\n",
        "\r\n",
        "df_test.is_prohibited[df_test.is_prohibited == 'No'] = 0\r\n",
        "df_test.is_prohibited[df_test.is_prohibited == 'Yes'] = 1\r\n",
        "\r\n",
        "df_test.type[df_test.type == 'Suitcase'] = 0\r\n",
        "df_test.type[df_test.type == 'Bag'] = 1\r\n",
        "\r\n",
        "df_predict.type[df_predict.type == 'Suitcase'] = 0\r\n",
        "df_predict.type[df_predict.type == 'Bag'] = 1\r\n",
        "def predict_most_dangerous_passangers(df_test, df_predict):\r\n",
        "  X_predict = df_predict.drop(columns=df_predict.columns[-1])\r\n",
        "  X = df_test.drop(columns=df_test.columns[0])\r\n",
        "  y = df_test.drop(columns=df_test.columns[1:5])\r\n",
        "  y=np.array(y.astype('int').values.ravel())\r\n",
        "  X=np.array(X.astype('int'))\r\n",
        "  clf = LogisticRegression(random_state=0).fit(X, y)\r\n",
        "\r\n",
        "  #print('Predicts_vector = ', clf.predict(X_predict))\r\n",
        "\r\n",
        "  passangers_probability = clf.predict_proba(X_predict)\r\n",
        "  #print('Probability_predicts_vector = ', passangers_probability)\r\n",
        "\r\n",
        "  #print('Score = ',clf.score(X, y))\r\n",
        "\r\n",
        "  df_predict['passangers_probability'] = passangers_probability[:,1]\r\n",
        "  most_dangerous = df_predict.loc[df_predict['passangers_probability']==df_predict['passangers_probability'].max()].index[0]\r\n",
        "  return 'MOST DANGEROUS IS ' + df_predict.loc[most_dangerous, 'passangers']\r\n",
        "\r\n",
        "predict_most_dangerous_passangers(df_test, df_predict)"
      ],
      "execution_count": null,
      "outputs": [
        {
          "output_type": "execute_result",
          "data": {
            "application/vnd.google.colaboratory.intrinsic+json": {
              "type": "string"
            },
            "text/plain": [
              "'MOST DANGEROUS IS Polina'"
            ]
          },
          "metadata": {
            "tags": []
          },
          "execution_count": 19
        }
      ]
    },
    {
      "cell_type": "markdown",
      "metadata": {
        "id": "b4-MNt-jzX4G"
      },
      "source": [
        "###Напишите функцию normality_test, которая получает на вход dataframe с произвольным количеством переменных разных типов (количественные, строки, факторы) и проверяет нормальность распределения количественных переменных. Функция должна возвращать вектор значений p-уровней значимости теста shapiro.test для каждой количественной переменной."
      ]
    },
    {
      "cell_type": "code",
      "metadata": {
        "colab": {
          "base_uri": "https://localhost:8080/"
        },
        "id": "l4vhWeknzYc1",
        "outputId": "7d7f8d54-bee3-4c13-b49f-83ac21bbeaf3"
      },
      "source": [
        "import pandas as pd\r\n",
        "import numpy as np\r\n",
        "from scipy import stats\r\n",
        "\r\n",
        "data = pd.read_csv('https://stepic.org/media/attachments/course/524/test.csv')\r\n",
        "\r\n",
        "def normality_test(data):\r\n",
        "  result_SHW_test_vector = []\r\n",
        "  for i in data.columns:\r\n",
        "    if data[i].dtypes == 'float64' or data[i].dtypes == 'int64':\r\n",
        "      shapiro_test = stats.shapiro(np.array(data[i]))\r\n",
        "      result_SHW_test_vector.append(shapiro_test[1])\r\n",
        "  result_SHW_test_vector = np.array(result_SHW_test_vector)\r\n",
        "  return result_SHW_test_vector\r\n",
        "\r\n",
        "normality_test(data)"
      ],
      "execution_count": null,
      "outputs": [
        {
          "output_type": "execute_result",
          "data": {
            "text/plain": [
              "array([0.56821054, 0.24583367, 0.31419012, 0.00937374])"
            ]
          },
          "metadata": {
            "tags": []
          },
          "execution_count": 20
        }
      ]
    },
    {
      "cell_type": "markdown",
      "metadata": {
        "id": "HKkCTT39BHGw"
      },
      "source": [
        "###Напишите функцию smart_anova, которая получает на вход dataframe с двумя переменными x и y. Переменная x — это количественная переменная, переменная y - фактор, ﻿разбивает наблюдения на три группы.\r\n",
        "\r\n",
        "Если распределения во всех группах значимо не отличаются от нормального, а дисперсии в группах гомогенны, функция должна сравнить три группы при помощи дисперсионного анализа и вернуть ﻿именованный вектор со значением p-value, имя элемента — \"ANOVA\".\r\n",
        "\r\n",
        "Если хотя ﻿бы в одной группе распределение значимо отличается от нормального или дисперсии негомогенны, функция сравнивает группы при помощи критерия Краскела — Уоллиса и возвращает именованный вектор со значением p-value, имя вектора  — \"KW\".\r\n",
        "\r\n",
        "Распределение будем считать значимо отклонившимся от нормального, если в тесте shapiro.test() p < 0.05.\r\n",
        "\r\n",
        "Дисперсии будем считать не гомогенными, если в тесте bartlett.test() p < 0.05."
      ]
    },
    {
      "cell_type": "code",
      "metadata": {
        "id": "0jQiYy3-BIbl",
        "colab": {
          "base_uri": "https://localhost:8080/"
        },
        "outputId": "90f6b43a-7087-4ddf-d013-8754f8a3808b"
      },
      "source": [
        "import numpy as np\r\n",
        "import pandas as pd\r\n",
        "from scipy.stats import bartlett\r\n",
        "from scipy.stats import shapiro\r\n",
        "from scipy.stats import kruskal\r\n",
        "from scipy.stats import f_oneway\r\n",
        "\r\n",
        "data = pd.read_csv(\"https://stepic.org/media/attachments/course/524/s_anova_test.csv\")\r\n",
        "\r\n",
        "data[\"count\"] = data.groupby('y').cumcount()\r\n",
        "data_pivot = data.pivot_table(values='x', index=data['count'] ,columns='y', aggfunc='first')\r\n",
        "df = np.array(data_pivot)\r\n",
        "\r\n",
        "def smart_anova(data):\r\n",
        "  shapiro_test_pvalue_array = np.apply_along_axis(shapiro, 0, data)[1]\r\n",
        "  bartlett_test_pvalue = bartlett(*data.T)[1]\r\n",
        "\r\n",
        "  if (shapiro_test_pvalue_array < 0.05).any() or bartlett_test_pvalue < 0.05:\r\n",
        "    KW = kruskal((*data.T))[1]\r\n",
        "    return \"KW\" + KW\r\n",
        "  else:\r\n",
        "    ANOVA = np.array(f_oneway(*data.T)[1])\r\n",
        "    print(data)\r\n",
        "    print(*data.T)\r\n",
        "    return ANOVA\r\n",
        "\r\n",
        "smart_anova(df)\r\n"
      ],
      "execution_count": null,
      "outputs": [
        {
          "output_type": "stream",
          "text": [
            "[[ 1.08 -1.17 -1.6 ]\n",
            " [ 0.07 -3.4  -1.08]\n",
            " [-1.02 -1.46  0.59]\n",
            " [-0.45 -0.65  0.36]\n",
            " [ 0.81  0.52  1.72]\n",
            " [-1.27 -1.91  0.8 ]\n",
            " [-0.75 -0.08 -0.09]\n",
            " [ 1.47 -0.5  -0.78]\n",
            " [-0.2   0.17  0.26]\n",
            " [-1.48  0.9   0.15]]\n",
            "[ 1.08  0.07 -1.02 -0.45  0.81 -1.27 -0.75  1.47 -0.2  -1.48] [-1.17 -3.4  -1.46 -0.65  0.52 -1.91 -0.08 -0.5   0.17  0.9 ] [-1.6  -1.08  0.59  0.36  1.72  0.8  -0.09 -0.78  0.26  0.15]\n"
          ],
          "name": "stdout"
        },
        {
          "output_type": "execute_result",
          "data": {
            "text/plain": [
              "array(0.26529804)"
            ]
          },
          "metadata": {
            "tags": []
          },
          "execution_count": 21
        }
      ]
    },
    {
      "cell_type": "markdown",
      "metadata": {
        "id": "DjhOnQ5z7ocm"
      },
      "source": [
        "###Напишите функцию normality_by, которая принимает на вход dataframe c тремя переменными. Первая переменная количественная, вторая и третья имеют две градации и разбивают наши наблюдения на группы. Функция должна проверять распределение на нормальность в каждой получившейся группе и возвращать dataframe с результатами применения теста ﻿ shapiro.test"
      ]
    },
    {
      "cell_type": "code",
      "metadata": {
        "colab": {
          "base_uri": "https://localhost:8080/"
        },
        "id": "sPeD71Ud1e-7",
        "outputId": "7d86234e-76ab-4d59-da20-68cba6325c71"
      },
      "source": [
        "\r\n",
        "\r\n",
        "df = pd.read_csv('https://stepic.org/media/attachments/course/524/test_for_norm.csv')\r\n",
        "def norm_test(df):\r\n",
        "\r\n",
        "  df[\"yz\"] = df[\"y\"].astype(\"str\") + df[\"z\"].astype(\"str\") \r\n",
        "  df[\"count\"] = df.groupby(\"yz\").cumcount()\r\n",
        "  data_pivot = df.pivot(columns=\"yz\", values=\"x\", index=\"count\")\r\n",
        "  data_np = np.array(data_pivot)\r\n",
        "  result = {}\r\n",
        "\r\n",
        "  for column, group in zip(data_np.T, data_pivot.columns):\r\n",
        "    result[group] = shapiro(column[~np.isnan(column)])[1]\r\n",
        "    \r\n",
        "  return pd.Series(result)\r\n",
        "\r\n",
        "norm_test(df)"
      ],
      "execution_count": null,
      "outputs": [
        {
          "output_type": "execute_result",
          "data": {
            "text/plain": [
              "02    0.219766\n",
              "03    0.623818\n",
              "12    0.196036\n",
              "13    0.047823\n",
              "dtype: float64"
            ]
          },
          "metadata": {
            "tags": []
          },
          "execution_count": 35
        }
      ]
    },
    {
      "cell_type": "markdown",
      "metadata": {
        "id": "lKVVHA1DHrFj"
      },
      "source": [
        "###При помощи библиотеки ggplot2 визуализируйте распределение переменной Sepal.Length в трех группах в данных Iris. Сохраните график в переменную obj, но не выводите график на печать."
      ]
    },
    {
      "cell_type": "code",
      "metadata": {
        "colab": {
          "base_uri": "https://localhost:8080/",
          "height": 369
        },
        "id": "__eMn0jkHuSK",
        "outputId": "c36dfcd7-27b5-4a21-8fdc-5658d87d98ac"
      },
      "source": [
        "from sklearn.datasets import load_iris\r\n",
        "import numpy as np\r\n",
        "import pandas as pd\r\n",
        "import seaborn as sns\r\n",
        "\r\n",
        "data = pd.read_csv(\"https://gist.githubusercontent.com/curran/a08a1080b88344b0c8a7/raw/0e7a9b0a5d22642a06d3d5b9bcbad9890c8ee534/iris.csv\")\r\n",
        "      \r\n",
        "#sns.set_theme();\r\n",
        "#sns.set_context(\"talk\");\r\n",
        "sns.set_style(\"whitegrid\");\r\n",
        "sns.displot(data, x=\"sepal_length\", hue=\"species\", kind=\"kde\", fill=True);"
      ],
      "execution_count": null,
      "outputs": [
        {
          "output_type": "display_data",
          "data": {
            "image/png": "[encoded data removed]",
            "text/plain": [
              "<Figure size 444.75x360 with 1 Axes>"
            ]
          },
          "metadata": {
            "tags": []
          }
        }
      ]
    },
    {
      "cell_type": "code",
      "metadata": {
        "colab": {
          "base_uri": "https://localhost:8080/",
          "height": 302
        },
        "id": "Grq6hbVfB9D7",
        "outputId": "151abe9f-26f7-432e-9884-ac751b438a25"
      },
      "source": [
        "import pandas as pd\r\n",
        "import numpy as np\r\n",
        "import seaborn as sns\r\n",
        "from sklearn.cluster import KMeans\r\n",
        "\r\n",
        "x = np.array([-3.0,1.0,2.0,3.0,5.0,6.0,7.0])\r\n",
        "y = np.array([3.0,4.0,6.0,8.0,2.0,11.0,1.0])\r\n",
        "\r\n",
        "df = pd.DataFrame(data=np.vstack((x, y)).T, columns=['x', 'y'])\r\n",
        "x_centr = sum(df['x']) / df['x'].count()\r\n",
        "y_centr = sum(df['y']) / df['y'].count()\r\n",
        "df1 = pd.DataFrame()\r\n",
        "df1['wcsom'] = (df['x'] - x_centr) ** 2 + (df['y'] - y_centr) ** 2\r\n",
        "sns.set_theme()\r\n",
        "#sns.set_context(\"notebook\")\r\n",
        "sns.scatterplot(data=df, x=\"x\", y=\"y\");\r\n",
        "sm = df1['wcsom'].sum()\r\n",
        "  \r\n",
        " \r\n",
        "kmeans = KMeans(2)\r\n",
        "kmeans.fit(df)\r\n",
        "print(kmeans.inertia_, sm)\r\n",
        "\r\n"
      ],
      "execution_count": null,
      "outputs": [
        {
          "output_type": "stream",
          "text": [
            "83.0 146.0\n"
          ],
          "name": "stdout"
        },
        {
          "output_type": "display_data",
          "data": {
            "image/png": "[encoded data removed]",
            "text/plain": [
              "<Figure size 432x288 with 1 Axes>"
            ]
          },
          "metadata": {
            "tags": []
          }
        }
      ]
    },
    {
      "cell_type": "code",
      "metadata": {
        "colab": {
          "base_uri": "https://localhost:8080/",
          "height": 597
        },
        "id": "wWT5xPd56xOh",
        "outputId": "bee77e67-f850-421b-e57b-41c4c7b414ac"
      },
      "source": [
        "from scipy.cluster.hierarchy import dendrogram, linkage\r\n",
        "import matplotlib as plt\r\n",
        "import numpy as np\r\n",
        "\r\n",
        "# Для прорисовки графики\r\n",
        "%matplotlib inline\r\n",
        "\r\n",
        "# Наши данные\r\n",
        "points = np.array([[1,2], [2,1], [2,2], [1,3], [6,7], [6,5], [7,8], [8,8]], dtype=float)\r\n",
        "\r\n",
        "Z = linkage(points, 'ward')\r\n",
        "fig = plt.pyplot.figure(figsize=(15, 10))\r\n",
        "dn = dendrogram(Z)\r\n",
        "#plt.pyplot.scatter(points[:, 0], points[:, 1])\r\n",
        "plt.pyplot.show()"
      ],
      "execution_count": null,
      "outputs": [
        {
          "output_type": "display_data",
          "data": {
            "image/png": "[encoded data removed]",
            "text/plain": [
              "<Figure size 1080x720 with 1 Axes>"
            ]
          },
          "metadata": {
            "tags": [],
            "needs_background": "light"
          }
        }
      ]
    },
    {
      "cell_type": "markdown",
      "metadata": {
        "id": "WSHXc8COaoDW"
      },
      "source": [
        "###Напишите функцию smart_hclust, которая получает на вход dataframe  с произвольным числом количественных переменных и число кластеров, которое необходимо выделить при помощи иерархической кластеризации.\r\n",
        "\r\n",
        "Функция должна в исходный набор данных добавлять новую переменную фактор - cluster  -- номер кластера, к которому отнесено каждое из наблюдений."
      ]
    },
    {
      "cell_type": "code",
      "metadata": {
        "colab": {
          "base_uri": "https://localhost:8080/",
          "height": 675
        },
        "id": "N3Liv-kJ7n6e",
        "outputId": "01fd1c20-f746-4de7-a001-5f097040bbc2"
      },
      "source": [
        "import pandas as pd\r\n",
        "import numpy as np\r\n",
        "from scipy.cluster.hierarchy import  linkage, fcluster, dendrogram\r\n",
        "import seaborn as sns\r\n",
        "\r\n",
        "\r\n",
        "data = pd.read_csv(\"https://stepic.org/media/attachments/course/524/test_data_hclust.csv\")\r\n",
        "def smart_hclust(data):\r\n",
        "  Z = linkage(data, method=\"average\", metric='euclidean')\r\n",
        "  dend = dendrogram(Z)\r\n",
        "  label = fcluster(Z, 9.5, criterion='distance')\r\n",
        "  data['cluster'] = label\r\n",
        "  return data\r\n",
        "\r\n",
        "smart_hclust(data)"
      ],
      "execution_count": null,
      "outputs": [
        {
          "output_type": "execute_result",
          "data": {
            "text/html": [
              "<div>\n",
              "<style scoped>\n",
              "    .dataframe tbody tr th:only-of-type {\n",
              "        vertical-align: middle;\n",
              "    }\n",
              "\n",
              "    .dataframe tbody tr th {\n",
              "        vertical-align: top;\n",
              "    }\n",
              "\n",
              "    .dataframe thead th {\n",
              "        text-align: right;\n",
              "    }\n",
              "</style>\n",
              "<table border=\"1\" class=\"dataframe\">\n",
              "  <thead>\n",
              "    <tr style=\"text-align: right;\">\n",
              "      <th></th>\n",
              "      <th>X1</th>\n",
              "      <th>X2</th>\n",
              "      <th>X3</th>\n",
              "      <th>X4</th>\n",
              "      <th>X5</th>\n",
              "      <th>cluster</th>\n",
              "    </tr>\n",
              "  </thead>\n",
              "  <tbody>\n",
              "    <tr>\n",
              "      <th>0</th>\n",
              "      <td>11</td>\n",
              "      <td>7</td>\n",
              "      <td>10</td>\n",
              "      <td>10</td>\n",
              "      <td>8</td>\n",
              "      <td>1</td>\n",
              "    </tr>\n",
              "    <tr>\n",
              "      <th>1</th>\n",
              "      <td>9</td>\n",
              "      <td>10</td>\n",
              "      <td>10</td>\n",
              "      <td>8</td>\n",
              "      <td>6</td>\n",
              "      <td>1</td>\n",
              "    </tr>\n",
              "    <tr>\n",
              "      <th>2</th>\n",
              "      <td>9</td>\n",
              "      <td>2</td>\n",
              "      <td>12</td>\n",
              "      <td>14</td>\n",
              "      <td>11</td>\n",
              "      <td>2</td>\n",
              "    </tr>\n",
              "    <tr>\n",
              "      <th>3</th>\n",
              "      <td>9</td>\n",
              "      <td>11</td>\n",
              "      <td>8</td>\n",
              "      <td>10</td>\n",
              "      <td>3</td>\n",
              "      <td>1</td>\n",
              "    </tr>\n",
              "    <tr>\n",
              "      <th>4</th>\n",
              "      <td>7</td>\n",
              "      <td>9</td>\n",
              "      <td>10</td>\n",
              "      <td>11</td>\n",
              "      <td>14</td>\n",
              "      <td>2</td>\n",
              "    </tr>\n",
              "    <tr>\n",
              "      <th>5</th>\n",
              "      <td>9</td>\n",
              "      <td>11</td>\n",
              "      <td>9</td>\n",
              "      <td>6</td>\n",
              "      <td>9</td>\n",
              "      <td>1</td>\n",
              "    </tr>\n",
              "    <tr>\n",
              "      <th>6</th>\n",
              "      <td>16</td>\n",
              "      <td>20</td>\n",
              "      <td>22</td>\n",
              "      <td>19</td>\n",
              "      <td>16</td>\n",
              "      <td>4</td>\n",
              "    </tr>\n",
              "    <tr>\n",
              "      <th>7</th>\n",
              "      <td>23</td>\n",
              "      <td>18</td>\n",
              "      <td>21</td>\n",
              "      <td>24</td>\n",
              "      <td>16</td>\n",
              "      <td>4</td>\n",
              "    </tr>\n",
              "    <tr>\n",
              "      <th>8</th>\n",
              "      <td>15</td>\n",
              "      <td>21</td>\n",
              "      <td>14</td>\n",
              "      <td>21</td>\n",
              "      <td>21</td>\n",
              "      <td>3</td>\n",
              "    </tr>\n",
              "    <tr>\n",
              "      <th>9</th>\n",
              "      <td>19</td>\n",
              "      <td>20</td>\n",
              "      <td>15</td>\n",
              "      <td>17</td>\n",
              "      <td>17</td>\n",
              "      <td>3</td>\n",
              "    </tr>\n",
              "    <tr>\n",
              "      <th>10</th>\n",
              "      <td>20</td>\n",
              "      <td>24</td>\n",
              "      <td>21</td>\n",
              "      <td>20</td>\n",
              "      <td>19</td>\n",
              "      <td>4</td>\n",
              "    </tr>\n",
              "    <tr>\n",
              "      <th>11</th>\n",
              "      <td>22</td>\n",
              "      <td>19</td>\n",
              "      <td>27</td>\n",
              "      <td>22</td>\n",
              "      <td>19</td>\n",
              "      <td>4</td>\n",
              "    </tr>\n",
              "  </tbody>\n",
              "</table>\n",
              "</div>"
            ],
            "text/plain": [
              "    X1  X2  X3  X4  X5  cluster\n",
              "0   11   7  10  10   8        1\n",
              "1    9  10  10   8   6        1\n",
              "2    9   2  12  14  11        2\n",
              "3    9  11   8  10   3        1\n",
              "4    7   9  10  11  14        2\n",
              "5    9  11   9   6   9        1\n",
              "6   16  20  22  19  16        4\n",
              "7   23  18  21  24  16        4\n",
              "8   15  21  14  21  21        3\n",
              "9   19  20  15  17  17        3\n",
              "10  20  24  21  20  19        4\n",
              "11  22  19  27  22  19        4"
            ]
          },
          "metadata": {
            "tags": []
          },
          "execution_count": 26
        },
        {
          "output_type": "display_data",
          "data": {
            "image/png": "[encoded data removed]",
            "text/plain": [
              "<Figure size 432x288 with 1 Axes>"
            ]
          },
          "metadata": {
            "tags": [],
            "needs_background": "light"
          }
        }
      ]
    },
    {
      "cell_type": "code",
      "metadata": {
        "colab": {
          "base_uri": "https://localhost:8080/",
          "height": 421
        },
        "id": "zmdzsVgrv5gC",
        "outputId": "06a9e9b1-fb1c-4e49-d6e7-7c2e98acb370"
      },
      "source": [
        "from sklearn.cluster import AgglomerativeClustering\r\n",
        "import matplotlib.pyplot as plt\r\n",
        "import pandas as pd\r\n",
        "%matplotlib inline\r\n",
        "import numpy as np\r\n",
        "\r\n",
        "data = pd.read_csv(\"https://stepic.org/media/attachments/course/524/test_data_hclust.csv\")\r\n",
        "\r\n",
        "def smart_hclust(data):\r\n",
        "  clustering = AgglomerativeClustering(distance_threshold=None, \r\n",
        "                                     n_clusters=4).fit(data)\r\n",
        "  data['cluster'] = clustering.labels_\r\n",
        "  return data\r\n",
        "\r\n",
        "\r\n",
        "\r\n",
        "smart_hclust(data)\r\n"
      ],
      "execution_count": null,
      "outputs": [
        {
          "output_type": "execute_result",
          "data": {
            "text/html": [
              "<div>\n",
              "<style scoped>\n",
              "    .dataframe tbody tr th:only-of-type {\n",
              "        vertical-align: middle;\n",
              "    }\n",
              "\n",
              "    .dataframe tbody tr th {\n",
              "        vertical-align: top;\n",
              "    }\n",
              "\n",
              "    .dataframe thead th {\n",
              "        text-align: right;\n",
              "    }\n",
              "</style>\n",
              "<table border=\"1\" class=\"dataframe\">\n",
              "  <thead>\n",
              "    <tr style=\"text-align: right;\">\n",
              "      <th></th>\n",
              "      <th>X1</th>\n",
              "      <th>X2</th>\n",
              "      <th>X3</th>\n",
              "      <th>X4</th>\n",
              "      <th>X5</th>\n",
              "      <th>cluster</th>\n",
              "    </tr>\n",
              "  </thead>\n",
              "  <tbody>\n",
              "    <tr>\n",
              "      <th>0</th>\n",
              "      <td>11</td>\n",
              "      <td>7</td>\n",
              "      <td>10</td>\n",
              "      <td>10</td>\n",
              "      <td>8</td>\n",
              "      <td>3</td>\n",
              "    </tr>\n",
              "    <tr>\n",
              "      <th>1</th>\n",
              "      <td>9</td>\n",
              "      <td>10</td>\n",
              "      <td>10</td>\n",
              "      <td>8</td>\n",
              "      <td>6</td>\n",
              "      <td>3</td>\n",
              "    </tr>\n",
              "    <tr>\n",
              "      <th>2</th>\n",
              "      <td>9</td>\n",
              "      <td>2</td>\n",
              "      <td>12</td>\n",
              "      <td>14</td>\n",
              "      <td>11</td>\n",
              "      <td>1</td>\n",
              "    </tr>\n",
              "    <tr>\n",
              "      <th>3</th>\n",
              "      <td>9</td>\n",
              "      <td>11</td>\n",
              "      <td>8</td>\n",
              "      <td>10</td>\n",
              "      <td>3</td>\n",
              "      <td>3</td>\n",
              "    </tr>\n",
              "    <tr>\n",
              "      <th>4</th>\n",
              "      <td>7</td>\n",
              "      <td>9</td>\n",
              "      <td>10</td>\n",
              "      <td>11</td>\n",
              "      <td>14</td>\n",
              "      <td>1</td>\n",
              "    </tr>\n",
              "    <tr>\n",
              "      <th>5</th>\n",
              "      <td>9</td>\n",
              "      <td>11</td>\n",
              "      <td>9</td>\n",
              "      <td>6</td>\n",
              "      <td>9</td>\n",
              "      <td>3</td>\n",
              "    </tr>\n",
              "    <tr>\n",
              "      <th>6</th>\n",
              "      <td>16</td>\n",
              "      <td>20</td>\n",
              "      <td>22</td>\n",
              "      <td>19</td>\n",
              "      <td>16</td>\n",
              "      <td>0</td>\n",
              "    </tr>\n",
              "    <tr>\n",
              "      <th>7</th>\n",
              "      <td>23</td>\n",
              "      <td>18</td>\n",
              "      <td>21</td>\n",
              "      <td>24</td>\n",
              "      <td>16</td>\n",
              "      <td>0</td>\n",
              "    </tr>\n",
              "    <tr>\n",
              "      <th>8</th>\n",
              "      <td>15</td>\n",
              "      <td>21</td>\n",
              "      <td>14</td>\n",
              "      <td>21</td>\n",
              "      <td>21</td>\n",
              "      <td>2</td>\n",
              "    </tr>\n",
              "    <tr>\n",
              "      <th>9</th>\n",
              "      <td>19</td>\n",
              "      <td>20</td>\n",
              "      <td>15</td>\n",
              "      <td>17</td>\n",
              "      <td>17</td>\n",
              "      <td>2</td>\n",
              "    </tr>\n",
              "    <tr>\n",
              "      <th>10</th>\n",
              "      <td>20</td>\n",
              "      <td>24</td>\n",
              "      <td>21</td>\n",
              "      <td>20</td>\n",
              "      <td>19</td>\n",
              "      <td>0</td>\n",
              "    </tr>\n",
              "    <tr>\n",
              "      <th>11</th>\n",
              "      <td>22</td>\n",
              "      <td>19</td>\n",
              "      <td>27</td>\n",
              "      <td>22</td>\n",
              "      <td>19</td>\n",
              "      <td>0</td>\n",
              "    </tr>\n",
              "  </tbody>\n",
              "</table>\n",
              "</div>"
            ],
            "text/plain": [
              "    X1  X2  X3  X4  X5  cluster\n",
              "0   11   7  10  10   8        3\n",
              "1    9  10  10   8   6        3\n",
              "2    9   2  12  14  11        1\n",
              "3    9  11   8  10   3        3\n",
              "4    7   9  10  11  14        1\n",
              "5    9  11   9   6   9        3\n",
              "6   16  20  22  19  16        0\n",
              "7   23  18  21  24  16        0\n",
              "8   15  21  14  21  21        2\n",
              "9   19  20  15  17  17        2\n",
              "10  20  24  21  20  19        0\n",
              "11  22  19  27  22  19        0"
            ]
          },
          "metadata": {
            "tags": []
          },
          "execution_count": 27
        }
      ]
    },
    {
      "cell_type": "markdown",
      "metadata": {
        "id": "Wzv6peLS1rs5"
      },
      "source": [
        "###Интересной особенностью кластерного анализа является тот факт, что мы получаем только итоговый ответ, к какому кластеру принадлежит каждое наблюдение. Однако мы не знаем, по каким переменным различаются выделенные кластеры. Поэтому, если нас интересует не только сам факт того, что мы смогли выделить кластеры в наших данных, но мы также хотим понять, чем же они различаются, разумно сравнить кластеры между собой по имеющимся переменным.\r\n",
        "\r\n",
        "Напишите функцию get_difference, которая получает на вход два аргумента: \r\n",
        "\r\n",
        "  1. test_data — набор данных с произвольным числом количественных переменных.\r\n",
        "  2. n_cluster — число кластеров, которое нужно выделить в данных при помощи иерархической кластеризации.\r\n",
        "\r\n",
        "Функция должна вернуть названия переменных, по которым были обнаружен значимые различия между выделенными кластерами (p < 0.05)﻿. Иными словами, после того, как мы выделили заданное число кластеров, мы добавляем в исходные данные новую группирующую переменную — номер кластера, и сравниваем получившиеся группы между собой по количественным переменным при помощи дисперсионного анализа."
      ]
    },
    {
      "cell_type": "code",
      "metadata": {
        "colab": {
          "base_uri": "https://localhost:8080/"
        },
        "id": "BSu7UjF-1u8a",
        "outputId": "b24e42bc-b20f-48ec-d922-d45df789a6c5"
      },
      "source": [
        "import pandas as pd\r\n",
        "import numpy as np\r\n",
        "from scipy.cluster.hierarchy import  linkage, fcluster, dendrogram\r\n",
        "from scipy.stats import f_oneway\r\n",
        "pd.options.mode.chained_assignment = None  # default='warn'\r\n",
        "\r\n",
        "data = pd.read_csv(\"https://stepic.org/media/attachments/course/524/cluster_1.csv\")\r\n",
        "\r\n",
        "def get_difference(data, n):\r\n",
        "  Z = linkage(data, method=\"average\", metric='euclidean')\r\n",
        "  #dend = dendrogram(Z)\r\n",
        "  label = fcluster(Z, t=n, criterion='maxclust')\r\n",
        "  data['cluster'] = label\r\n",
        "  df2 = data.loc[data['cluster'] == 1].drop(['cluster'], axis=1).reset_index(drop=True)\r\n",
        "  df3 = data.loc[data['cluster'] == 2].drop(['cluster'], axis=1).reset_index(drop=True)\r\n",
        "  p = f_oneway(np.array(df3), np.array(df2))[1]\r\n",
        "  res = []\r\n",
        "  for i in range(0, len(p)):\r\n",
        "    if p[i] < 0.05:\r\n",
        "      res.append(df2.columns[i])\r\n",
        "  return res\r\n",
        "print(get_difference(data, 2))\r\n"
      ],
      "execution_count": null,
      "outputs": [
        {
          "output_type": "stream",
          "text": [
            "['V2']\n"
          ],
          "name": "stdout"
        }
      ]
    },
    {
      "cell_type": "markdown",
      "metadata": {
        "id": "E3fCG5pirYEn"
      },
      "source": [
        "###Напишите функцию get_pc﻿, которая получает на вход dataframe с произвольным числом количественных переменных. Функция должна выполнять анализ главных компонент и добавлять в исходные данные две новые колонки со значениями первой и второй главной компоненты. Новые переменные должны называться \"PC1\"  и \"PC2\" соответственно."
      ]
    },
    {
      "cell_type": "code",
      "metadata": {
        "colab": {
          "base_uri": "https://localhost:8080/",
          "height": 318
        },
        "id": "BmwrcQWHrhp5",
        "outputId": "04b0e3fd-4938-461b-f7cf-d73ffb70a586"
      },
      "source": [
        "import matplotlib.pyplot as plt\r\n",
        "import pandas as pd\r\n",
        "%matplotlib inline\r\n",
        "import numpy as np\r\n",
        "from sklearn.decomposition import PCA\r\n",
        "import seaborn as sns\r\n",
        "\r\n",
        "pd.options.mode.chained_assignment = None  # default='warn'\r\n",
        "\r\n",
        "\r\n",
        "data = pd.read_csv(\"https://stepic.org/media/attachments/course/524/pca_test.csv\")\r\n",
        "sns.set_theme()\r\n",
        "\r\n",
        "def get_pc(data):\r\n",
        "  pca = PCA(n_components=2)\r\n",
        "  principalComponents = pca.fit_transform(data)\r\n",
        "  principalDf = pd.DataFrame(data = principalComponents\r\n",
        "             , columns = ['PC1', 'PC2'])\r\n",
        "  data = pd.concat([data, principalDf], axis = 1, copy=False)\r\n",
        "  cluster = AgglomerativeClustering(n_clusters=3, affinity='euclidean', linkage='ward')\r\n",
        "  cluster.fit_predict(principalDf)\r\n",
        "  plt.scatter(principalDf.iloc[:,0], principalDf.iloc[:,1], c=cluster.labels_, cmap='rainbow')\r\n",
        "  print(pca.explained_variance_ratio_ )\r\n",
        "  return data\r\n",
        "\r\n",
        "get_pc(data)\r\n",
        "\r\n",
        "plt.title('Cluster Visualization')\r\n",
        "# plot the top three levels of the dendrogram\r\n",
        "#plot_dendrogram(model, truncate_mode='level', p=3)\r\n",
        "plt.xlabel(\"PC2\")\r\n",
        "plt.ylabel(\"PC1\")\r\n",
        "plt.show()"
      ],
      "execution_count": null,
      "outputs": [
        {
          "output_type": "stream",
          "text": [
            "[0.60794382 0.2541055 ]\n"
          ],
          "name": "stdout"
        },
        {
          "output_type": "display_data",
          "data": {
            "image/png": "[encoded data removed]",
            "text/plain": [
              "<Figure size 432x288 with 1 Axes>"
            ]
          },
          "metadata": {
            "tags": []
          }
        }
      ]
    },
    {
      "cell_type": "markdown",
      "metadata": {
        "id": "jPmwd-bJ5MnC"
      },
      "source": [
        "###Усложним предыдущую задачу! Напишите функцию get_pca2, которая принимает на вход dataframe с произвольным числом количественных переменных. Функция должна рассчитать, какое минимальное число главных компонент объясняет больше 90% изменчивости в исходных данных и добавлять значения этих компонент в исходный dataframe в виде новых переменных."
      ]
    },
    {
      "cell_type": "code",
      "metadata": {
        "colab": {
          "base_uri": "https://localhost:8080/",
          "height": 221
        },
        "id": "KGxg-Qs10fJI",
        "outputId": "7cbc0f3e-94e8-4741-bf90-f38c272a4b0f"
      },
      "source": [
        "import matplotlib.pyplot as plt\r\n",
        "import pandas as pd\r\n",
        "%matplotlib inline\r\n",
        "import numpy as np\r\n",
        "from sklearn.decomposition import PCA\r\n",
        "import seaborn as sns\r\n",
        "\r\n",
        "pd.options.mode.chained_assignment = None  # default='warn'\r\n",
        "\r\n",
        "\r\n",
        "data = pd.read_csv(\"https://stepic.org/media/attachments/course/524/pca_test.csv\")\r\n",
        "sns.set_theme()\r\n",
        "\r\n",
        "def get_pca2(data):\r\n",
        "  pca = PCA(.90)\r\n",
        "  principalComponents = pca.fit_transform(data)\r\n",
        "  principalDf = pd.DataFrame(data = principalComponents)\r\n",
        "  data = pd.concat([data, principalDf], axis = 1, copy=False)\r\n",
        "  cluster = AgglomerativeClustering(n_clusters=3, affinity='euclidean', linkage='ward')\r\n",
        "  cluster.fit_predict(principalDf)\r\n",
        "  print(pca.explained_variance_ratio_ )\r\n",
        "  return data\r\n",
        "\r\n",
        "get_pca2(data)\r\n"
      ],
      "execution_count": null,
      "outputs": [
        {
          "output_type": "stream",
          "text": [
            "[0.60794382 0.2541055  0.1310468 ]\n"
          ],
          "name": "stdout"
        },
        {
          "output_type": "execute_result",
          "data": {
            "text/html": [
              "<div>\n",
              "<style scoped>\n",
              "    .dataframe tbody tr th:only-of-type {\n",
              "        vertical-align: middle;\n",
              "    }\n",
              "\n",
              "    .dataframe tbody tr th {\n",
              "        vertical-align: top;\n",
              "    }\n",
              "\n",
              "    .dataframe thead th {\n",
              "        text-align: right;\n",
              "    }\n",
              "</style>\n",
              "<table border=\"1\" class=\"dataframe\">\n",
              "  <thead>\n",
              "    <tr style=\"text-align: right;\">\n",
              "      <th></th>\n",
              "      <th>V1</th>\n",
              "      <th>V2</th>\n",
              "      <th>V3</th>\n",
              "      <th>V4</th>\n",
              "      <th>V5</th>\n",
              "      <th>0</th>\n",
              "      <th>1</th>\n",
              "      <th>2</th>\n",
              "    </tr>\n",
              "  </thead>\n",
              "  <tbody>\n",
              "    <tr>\n",
              "      <th>0</th>\n",
              "      <td>13</td>\n",
              "      <td>15</td>\n",
              "      <td>12</td>\n",
              "      <td>13</td>\n",
              "      <td>12</td>\n",
              "      <td>-4.500822</td>\n",
              "      <td>-2.364595</td>\n",
              "      <td>2.054657</td>\n",
              "    </tr>\n",
              "    <tr>\n",
              "      <th>1</th>\n",
              "      <td>16</td>\n",
              "      <td>11</td>\n",
              "      <td>8</td>\n",
              "      <td>12</td>\n",
              "      <td>6</td>\n",
              "      <td>3.039182</td>\n",
              "      <td>1.929687</td>\n",
              "      <td>3.234643</td>\n",
              "    </tr>\n",
              "    <tr>\n",
              "      <th>2</th>\n",
              "      <td>15</td>\n",
              "      <td>7</td>\n",
              "      <td>10</td>\n",
              "      <td>12</td>\n",
              "      <td>13</td>\n",
              "      <td>-2.752467</td>\n",
              "      <td>5.076265</td>\n",
              "      <td>-1.868558</td>\n",
              "    </tr>\n",
              "    <tr>\n",
              "      <th>3</th>\n",
              "      <td>12</td>\n",
              "      <td>11</td>\n",
              "      <td>6</td>\n",
              "      <td>6</td>\n",
              "      <td>4</td>\n",
              "      <td>7.837194</td>\n",
              "      <td>-1.688535</td>\n",
              "      <td>-1.581097</td>\n",
              "    </tr>\n",
              "    <tr>\n",
              "      <th>4</th>\n",
              "      <td>11</td>\n",
              "      <td>13</td>\n",
              "      <td>13</td>\n",
              "      <td>10</td>\n",
              "      <td>12</td>\n",
              "      <td>-3.623088</td>\n",
              "      <td>-2.952822</td>\n",
              "      <td>-1.839644</td>\n",
              "    </tr>\n",
              "  </tbody>\n",
              "</table>\n",
              "</div>"
            ],
            "text/plain": [
              "   V1  V2  V3  V4  V5         0         1         2\n",
              "0  13  15  12  13  12 -4.500822 -2.364595  2.054657\n",
              "1  16  11   8  12   6  3.039182  1.929687  3.234643\n",
              "2  15   7  10  12  13 -2.752467  5.076265 -1.868558\n",
              "3  12  11   6   6   4  7.837194 -1.688535 -1.581097\n",
              "4  11  13  13  10  12 -3.623088 -2.952822 -1.839644"
            ]
          },
          "metadata": {
            "tags": []
          },
          "execution_count": 30
        }
      ]
    },
    {
      "cell_type": "markdown",
      "metadata": {
        "id": "j4KfON895-BM"
      },
      "source": [
        "###Напишите функцию is_multicol, которая получает на вход dataframe произвольного размера с количественными переменными. Функция должна проверять существование строгой мультиколлинеарности, а именно наличие линейной комбинации между предикторами."
      ]
    },
    {
      "cell_type": "code",
      "metadata": {
        "colab": {
          "base_uri": "https://localhost:8080/"
        },
        "id": "HLHB2Qss9Rgd",
        "outputId": "853d1dec-19e8-4556-c6a3-4f5b69014e68"
      },
      "source": [
        "import pandas as pd\r\n",
        "import numpy as np\r\n",
        "\r\n",
        "\r\n",
        "data = pd.read_csv(\"https://stepic.org/media/attachments/course/524/Norris_2.csv\")\r\n",
        "\r\n",
        "def  is_multicol(data):\r\n",
        "  dd = data.corr(method ='pearson') \r\n",
        "  col = dd.columns\r\n",
        "  res = []\r\n",
        "  for i in range(dd.shape[1]):\r\n",
        "    for j in range(dd.shape[0]):\r\n",
        "      if dd.iloc[j, i] == 1 and i != j and dd.iloc[j, i] == 1 and col[i] not in res and col[j] not in res:\r\n",
        "        res.append(col[j])\r\n",
        "        res.append(col[i])\r\n",
        "  return res\r\n",
        "\r\n",
        "print(is_multicol(data))"
      ],
      "execution_count": null,
      "outputs": [
        {
          "output_type": "stream",
          "text": [
            "['V2', 'V1']\n"
          ],
          "name": "stdout"
        }
      ]
    },
    {
      "cell_type": "markdown",
      "metadata": {
        "id": "X6XWG0J-a1_j"
      },
      "source": [
        "###В данных swiss, используя все переменные, выделите два кластера при помощи иерархической кластеризации и сохраните значение кластеров как фактор в переменную cluster. Затем визуализируйте взаимосвязь переменных  Education и  Catholic в двух выделенных кластерах."
      ]
    },
    {
      "cell_type": "code",
      "metadata": {
        "colab": {
          "base_uri": "https://localhost:8080/",
          "height": 204
        },
        "id": "-rrPLLG7D0Ut",
        "outputId": "0bc7e179-fcdf-4145-bd0d-a3c4d0af6dcf"
      },
      "source": [
        "data = pd.read_csv(\"https://gist.githubusercontent.com/christophsax/178d34245afdd6e187b1fff72dbe7448/raw/f5f4189f949f117bee4e82e4aa75c104ed20b4f4/swiss.csv\")\r\n",
        "data[['Location']] = data[['Location']].stack().rank(method='dense').unstack()\r\n",
        "data.head()"
      ],
      "execution_count": null,
      "outputs": [
        {
          "output_type": "execute_result",
          "data": {
            "text/html": [
              "<div>\n",
              "<style scoped>\n",
              "    .dataframe tbody tr th:only-of-type {\n",
              "        vertical-align: middle;\n",
              "    }\n",
              "\n",
              "    .dataframe tbody tr th {\n",
              "        vertical-align: top;\n",
              "    }\n",
              "\n",
              "    .dataframe thead th {\n",
              "        text-align: right;\n",
              "    }\n",
              "</style>\n",
              "<table border=\"1\" class=\"dataframe\">\n",
              "  <thead>\n",
              "    <tr style=\"text-align: right;\">\n",
              "      <th></th>\n",
              "      <th>Location</th>\n",
              "      <th>Fertility</th>\n",
              "      <th>Agriculture</th>\n",
              "      <th>Examination</th>\n",
              "      <th>Education</th>\n",
              "      <th>Catholic</th>\n",
              "      <th>Infant.Mortality</th>\n",
              "    </tr>\n",
              "  </thead>\n",
              "  <tbody>\n",
              "    <tr>\n",
              "      <th>0</th>\n",
              "      <td>8.0</td>\n",
              "      <td>80.2</td>\n",
              "      <td>17.0</td>\n",
              "      <td>15</td>\n",
              "      <td>12</td>\n",
              "      <td>9.96</td>\n",
              "      <td>22.2</td>\n",
              "    </tr>\n",
              "    <tr>\n",
              "      <th>1</th>\n",
              "      <td>9.0</td>\n",
              "      <td>83.1</td>\n",
              "      <td>45.1</td>\n",
              "      <td>6</td>\n",
              "      <td>9</td>\n",
              "      <td>84.84</td>\n",
              "      <td>22.2</td>\n",
              "    </tr>\n",
              "    <tr>\n",
              "      <th>2</th>\n",
              "      <td>12.0</td>\n",
              "      <td>92.5</td>\n",
              "      <td>39.7</td>\n",
              "      <td>5</td>\n",
              "      <td>5</td>\n",
              "      <td>93.40</td>\n",
              "      <td>20.2</td>\n",
              "    </tr>\n",
              "    <tr>\n",
              "      <th>3</th>\n",
              "      <td>26.0</td>\n",
              "      <td>85.8</td>\n",
              "      <td>36.5</td>\n",
              "      <td>12</td>\n",
              "      <td>7</td>\n",
              "      <td>33.77</td>\n",
              "      <td>20.3</td>\n",
              "    </tr>\n",
              "    <tr>\n",
              "      <th>4</th>\n",
              "      <td>28.0</td>\n",
              "      <td>76.9</td>\n",
              "      <td>43.5</td>\n",
              "      <td>17</td>\n",
              "      <td>15</td>\n",
              "      <td>5.16</td>\n",
              "      <td>20.6</td>\n",
              "    </tr>\n",
              "  </tbody>\n",
              "</table>\n",
              "</div>"
            ],
            "text/plain": [
              "   Location  Fertility  Agriculture  ...  Education  Catholic  Infant.Mortality\n",
              "0       8.0       80.2         17.0  ...         12      9.96              22.2\n",
              "1       9.0       83.1         45.1  ...          9     84.84              22.2\n",
              "2      12.0       92.5         39.7  ...          5     93.40              20.2\n",
              "3      26.0       85.8         36.5  ...          7     33.77              20.3\n",
              "4      28.0       76.9         43.5  ...         15      5.16              20.6\n",
              "\n",
              "[5 rows x 7 columns]"
            ]
          },
          "metadata": {
            "tags": []
          },
          "execution_count": 32
        }
      ]
    },
    {
      "cell_type": "code",
      "metadata": {
        "colab": {
          "base_uri": "https://localhost:8080/",
          "height": 403
        },
        "id": "oljo3B82HkT6",
        "outputId": "426f3fa5-40f3-43b5-c3a6-e6d5cf0407a4"
      },
      "source": [
        "from sklearn.cluster import AgglomerativeClustering\r\n",
        "import matplotlib.pyplot as plt\r\n",
        "import numpy as np\r\n",
        "import seaborn as sns\r\n",
        "\r\n",
        "# Для прорисовки графики\r\n",
        "%matplotlib inline\r\n",
        "\r\n",
        "clustering = AgglomerativeClustering().fit(data)\r\n",
        "\r\n",
        "data['Cluster'] = clustering.labels_\r\n",
        "#plt.scatter(data['Education'], data['Catholic'], c=clustering.labels_, cmap='rainbow')\r\n",
        "\r\n",
        "#plt.figure(figsize=(740, 10))\r\n",
        "\r\n",
        "\r\n",
        "f = plt.figure(figsize=(10, 10))\r\n",
        "gs = f.add_gridspec(2, 2)\r\n",
        "\r\n",
        "with sns.axes_style(\"whitegrid\"):\r\n",
        "    sns.lmplot(x=\"Education\", y=\"Catholic\", hue=\"Cluster\", data=data, markers=[\"o\", \"x\"], palette=\"Set1\");\r\n",
        "\r\n",
        "#plt.xlabel(\"Education\")\r\n",
        "#plt.ylabel(\"Catholic\")"
      ],
      "execution_count": null,
      "outputs": [
        {
          "output_type": "display_data",
          "data": {
            "text/plain": [
              "<Figure size 720x720 with 0 Axes>"
            ]
          },
          "metadata": {
            "tags": []
          }
        },
        {
          "output_type": "display_data",
          "data": {
            "image/png": "[encoded data removed]",
            "text/plain": [
              "<Figure size 411.675x360 with 1 Axes>"
            ]
          },
          "metadata": {
            "tags": []
          }
        }
      ]
    }
  ]
}
