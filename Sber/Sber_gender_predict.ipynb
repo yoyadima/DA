{
  "nbformat": 4,
  "nbformat_minor": 0,
  "metadata": {
    "colab": {
      "name": "Sber_gender_predict.ipynb",
      "provenance": [],
      "collapsed_sections": [],
      "mount_file_id": "1BeVTRq46LPFf9cUMXm_u8x0DtPB2ENKZ",
      "authorship_tag": "ABX9TyOdFpH1+mRB7t16W1WLwB5L",
      "include_colab_link": true
    },
    "kernelspec": {
      "name": "python3",
      "display_name": "Python 3"
    },
    "widgets": {
      "application/vnd.jupyter.widget-state+json": {
        "8579981eb92a4ddebf96f27bf46b3533": {
          "model_module": "@jupyter-widgets/controls",
          "model_name": "HBoxModel",
          "state": {
            "_view_name": "HBoxView",
            "_dom_classes": [],
            "_model_name": "HBoxModel",
            "_view_module": "@jupyter-widgets/controls",
            "_model_module_version": "1.5.0",
            "_view_count": null,
            "_view_module_version": "1.5.0",
            "box_style": "",
            "layout": "IPY_MODEL_9c84c78dbac2475fa783b8fe619e8320",
            "_model_module": "@jupyter-widgets/controls",
            "children": [
              "IPY_MODEL_266e7827a3b04fde85e950c50db3f8d8",
              "IPY_MODEL_d12e1f6c134040c681b9365d3eea6fd9"
            ]
          }
        },
        "9c84c78dbac2475fa783b8fe619e8320": {
          "model_module": "@jupyter-widgets/base",
          "model_name": "LayoutModel",
          "state": {
            "_view_name": "LayoutView",
            "grid_template_rows": null,
            "right": null,
            "justify_content": null,
            "_view_module": "@jupyter-widgets/base",
            "overflow": null,
            "_model_module_version": "1.2.0",
            "_view_count": null,
            "flex_flow": null,
            "width": null,
            "min_width": null,
            "border": null,
            "align_items": null,
            "bottom": null,
            "_model_module": "@jupyter-widgets/base",
            "top": null,
            "grid_column": null,
            "overflow_y": null,
            "overflow_x": null,
            "grid_auto_flow": null,
            "grid_area": null,
            "grid_template_columns": null,
            "flex": null,
            "_model_name": "LayoutModel",
            "justify_items": null,
            "grid_row": null,
            "max_height": null,
            "align_content": null,
            "visibility": null,
            "align_self": null,
            "height": null,
            "min_height": null,
            "padding": null,
            "grid_auto_rows": null,
            "grid_gap": null,
            "max_width": null,
            "order": null,
            "_view_module_version": "1.2.0",
            "grid_template_areas": null,
            "object_position": null,
            "object_fit": null,
            "grid_auto_columns": null,
            "margin": null,
            "display": null,
            "left": null
          }
        },
        "266e7827a3b04fde85e950c50db3f8d8": {
          "model_module": "@jupyter-widgets/controls",
          "model_name": "FloatProgressModel",
          "state": {
            "_view_name": "ProgressView",
            "style": "IPY_MODEL_ebb9a9ab8545484bb53712d5d533d0e7",
            "_dom_classes": [],
            "description": "Progress:: 100%",
            "_model_name": "FloatProgressModel",
            "bar_style": "success",
            "max": 8400,
            "_view_module": "@jupyter-widgets/controls",
            "_model_module_version": "1.5.0",
            "value": 8400,
            "_view_count": null,
            "_view_module_version": "1.5.0",
            "orientation": "horizontal",
            "min": 0,
            "description_tooltip": null,
            "_model_module": "@jupyter-widgets/controls",
            "layout": "IPY_MODEL_c6040c07533247ca8e5284490943b105"
          }
        },
        "d12e1f6c134040c681b9365d3eea6fd9": {
          "model_module": "@jupyter-widgets/controls",
          "model_name": "HTMLModel",
          "state": {
            "_view_name": "HTMLView",
            "style": "IPY_MODEL_12023610939041a887c2a8c67fcc0698",
            "_dom_classes": [],
            "description": "",
            "_model_name": "HTMLModel",
            "placeholder": "​",
            "_view_module": "@jupyter-widgets/controls",
            "_model_module_version": "1.5.0",
            "value": " 8400/8400 [06:07&lt;00:00, 22.89it/s]",
            "_view_count": null,
            "_view_module_version": "1.5.0",
            "description_tooltip": null,
            "_model_module": "@jupyter-widgets/controls",
            "layout": "IPY_MODEL_494f74150cbb4ecf98461e0f8f5cae59"
          }
        },
        "ebb9a9ab8545484bb53712d5d533d0e7": {
          "model_module": "@jupyter-widgets/controls",
          "model_name": "ProgressStyleModel",
          "state": {
            "_view_name": "StyleView",
            "_model_name": "ProgressStyleModel",
            "description_width": "initial",
            "_view_module": "@jupyter-widgets/base",
            "_model_module_version": "1.5.0",
            "_view_count": null,
            "_view_module_version": "1.2.0",
            "bar_color": null,
            "_model_module": "@jupyter-widgets/controls"
          }
        },
        "c6040c07533247ca8e5284490943b105": {
          "model_module": "@jupyter-widgets/base",
          "model_name": "LayoutModel",
          "state": {
            "_view_name": "LayoutView",
            "grid_template_rows": null,
            "right": null,
            "justify_content": null,
            "_view_module": "@jupyter-widgets/base",
            "overflow": null,
            "_model_module_version": "1.2.0",
            "_view_count": null,
            "flex_flow": null,
            "width": null,
            "min_width": null,
            "border": null,
            "align_items": null,
            "bottom": null,
            "_model_module": "@jupyter-widgets/base",
            "top": null,
            "grid_column": null,
            "overflow_y": null,
            "overflow_x": null,
            "grid_auto_flow": null,
            "grid_area": null,
            "grid_template_columns": null,
            "flex": null,
            "_model_name": "LayoutModel",
            "justify_items": null,
            "grid_row": null,
            "max_height": null,
            "align_content": null,
            "visibility": null,
            "align_self": null,
            "height": null,
            "min_height": null,
            "padding": null,
            "grid_auto_rows": null,
            "grid_gap": null,
            "max_width": null,
            "order": null,
            "_view_module_version": "1.2.0",
            "grid_template_areas": null,
            "object_position": null,
            "object_fit": null,
            "grid_auto_columns": null,
            "margin": null,
            "display": null,
            "left": null
          }
        },
        "12023610939041a887c2a8c67fcc0698": {
          "model_module": "@jupyter-widgets/controls",
          "model_name": "DescriptionStyleModel",
          "state": {
            "_view_name": "StyleView",
            "_model_name": "DescriptionStyleModel",
            "description_width": "",
            "_view_module": "@jupyter-widgets/base",
            "_model_module_version": "1.5.0",
            "_view_count": null,
            "_view_module_version": "1.2.0",
            "_model_module": "@jupyter-widgets/controls"
          }
        },
        "494f74150cbb4ecf98461e0f8f5cae59": {
          "model_module": "@jupyter-widgets/base",
          "model_name": "LayoutModel",
          "state": {
            "_view_name": "LayoutView",
            "grid_template_rows": null,
            "right": null,
            "justify_content": null,
            "_view_module": "@jupyter-widgets/base",
            "overflow": null,
            "_model_module_version": "1.2.0",
            "_view_count": null,
            "flex_flow": null,
            "width": null,
            "min_width": null,
            "border": null,
            "align_items": null,
            "bottom": null,
            "_model_module": "@jupyter-widgets/base",
            "top": null,
            "grid_column": null,
            "overflow_y": null,
            "overflow_x": null,
            "grid_auto_flow": null,
            "grid_area": null,
            "grid_template_columns": null,
            "flex": null,
            "_model_name": "LayoutModel",
            "justify_items": null,
            "grid_row": null,
            "max_height": null,
            "align_content": null,
            "visibility": null,
            "align_self": null,
            "height": null,
            "min_height": null,
            "padding": null,
            "grid_auto_rows": null,
            "grid_gap": null,
            "max_width": null,
            "order": null,
            "_view_module_version": "1.2.0",
            "grid_template_areas": null,
            "object_position": null,
            "object_fit": null,
            "grid_auto_columns": null,
            "margin": null,
            "display": null,
            "left": null
          }
        },
        "d415e7f318b84685980c5c09f73e7801": {
          "model_module": "@jupyter-widgets/controls",
          "model_name": "HBoxModel",
          "state": {
            "_view_name": "HBoxView",
            "_dom_classes": [],
            "_model_name": "HBoxModel",
            "_view_module": "@jupyter-widgets/controls",
            "_model_module_version": "1.5.0",
            "_view_count": null,
            "_view_module_version": "1.5.0",
            "box_style": "",
            "layout": "IPY_MODEL_37bd74ced6434b7ab49dfb1148a5841c",
            "_model_module": "@jupyter-widgets/controls",
            "children": [
              "IPY_MODEL_a2b73a0ab45a42f49002d053b8e7f149",
              "IPY_MODEL_cf4447df0ca649df8b6b32186912c435"
            ]
          }
        },
        "37bd74ced6434b7ab49dfb1148a5841c": {
          "model_module": "@jupyter-widgets/base",
          "model_name": "LayoutModel",
          "state": {
            "_view_name": "LayoutView",
            "grid_template_rows": null,
            "right": null,
            "justify_content": null,
            "_view_module": "@jupyter-widgets/base",
            "overflow": null,
            "_model_module_version": "1.2.0",
            "_view_count": null,
            "flex_flow": null,
            "width": null,
            "min_width": null,
            "border": null,
            "align_items": null,
            "bottom": null,
            "_model_module": "@jupyter-widgets/base",
            "top": null,
            "grid_column": null,
            "overflow_y": null,
            "overflow_x": null,
            "grid_auto_flow": null,
            "grid_area": null,
            "grid_template_columns": null,
            "flex": null,
            "_model_name": "LayoutModel",
            "justify_items": null,
            "grid_row": null,
            "max_height": null,
            "align_content": null,
            "visibility": null,
            "align_self": null,
            "height": null,
            "min_height": null,
            "padding": null,
            "grid_auto_rows": null,
            "grid_gap": null,
            "max_width": null,
            "order": null,
            "_view_module_version": "1.2.0",
            "grid_template_areas": null,
            "object_position": null,
            "object_fit": null,
            "grid_auto_columns": null,
            "margin": null,
            "display": null,
            "left": null
          }
        },
        "a2b73a0ab45a42f49002d053b8e7f149": {
          "model_module": "@jupyter-widgets/controls",
          "model_name": "FloatProgressModel",
          "state": {
            "_view_name": "ProgressView",
            "style": "IPY_MODEL_11b9c259b2754ee2a99e6e1878f57d5f",
            "_dom_classes": [],
            "description": "Progress:: 100%",
            "_model_name": "FloatProgressModel",
            "bar_style": "success",
            "max": 3600,
            "_view_module": "@jupyter-widgets/controls",
            "_model_module_version": "1.5.0",
            "value": 3600,
            "_view_count": null,
            "_view_module_version": "1.5.0",
            "orientation": "horizontal",
            "min": 0,
            "description_tooltip": null,
            "_model_module": "@jupyter-widgets/controls",
            "layout": "IPY_MODEL_5f57121dc772435a855cbdbbb89618ac"
          }
        },
        "cf4447df0ca649df8b6b32186912c435": {
          "model_module": "@jupyter-widgets/controls",
          "model_name": "HTMLModel",
          "state": {
            "_view_name": "HTMLView",
            "style": "IPY_MODEL_6532d3c54d6746bd91b30b3400c2263b",
            "_dom_classes": [],
            "description": "",
            "_model_name": "HTMLModel",
            "placeholder": "​",
            "_view_module": "@jupyter-widgets/controls",
            "_model_module_version": "1.5.0",
            "value": " 3600/3600 [02:36&lt;00:00, 23.02it/s]",
            "_view_count": null,
            "_view_module_version": "1.5.0",
            "description_tooltip": null,
            "_model_module": "@jupyter-widgets/controls",
            "layout": "IPY_MODEL_d3fa20f19d594a1ba9691b7f358bda9c"
          }
        },
        "11b9c259b2754ee2a99e6e1878f57d5f": {
          "model_module": "@jupyter-widgets/controls",
          "model_name": "ProgressStyleModel",
          "state": {
            "_view_name": "StyleView",
            "_model_name": "ProgressStyleModel",
            "description_width": "initial",
            "_view_module": "@jupyter-widgets/base",
            "_model_module_version": "1.5.0",
            "_view_count": null,
            "_view_module_version": "1.2.0",
            "bar_color": null,
            "_model_module": "@jupyter-widgets/controls"
          }
        },
        "5f57121dc772435a855cbdbbb89618ac": {
          "model_module": "@jupyter-widgets/base",
          "model_name": "LayoutModel",
          "state": {
            "_view_name": "LayoutView",
            "grid_template_rows": null,
            "right": null,
            "justify_content": null,
            "_view_module": "@jupyter-widgets/base",
            "overflow": null,
            "_model_module_version": "1.2.0",
            "_view_count": null,
            "flex_flow": null,
            "width": null,
            "min_width": null,
            "border": null,
            "align_items": null,
            "bottom": null,
            "_model_module": "@jupyter-widgets/base",
            "top": null,
            "grid_column": null,
            "overflow_y": null,
            "overflow_x": null,
            "grid_auto_flow": null,
            "grid_area": null,
            "grid_template_columns": null,
            "flex": null,
            "_model_name": "LayoutModel",
            "justify_items": null,
            "grid_row": null,
            "max_height": null,
            "align_content": null,
            "visibility": null,
            "align_self": null,
            "height": null,
            "min_height": null,
            "padding": null,
            "grid_auto_rows": null,
            "grid_gap": null,
            "max_width": null,
            "order": null,
            "_view_module_version": "1.2.0",
            "grid_template_areas": null,
            "object_position": null,
            "object_fit": null,
            "grid_auto_columns": null,
            "margin": null,
            "display": null,
            "left": null
          }
        },
        "6532d3c54d6746bd91b30b3400c2263b": {
          "model_module": "@jupyter-widgets/controls",
          "model_name": "DescriptionStyleModel",
          "state": {
            "_view_name": "StyleView",
            "_model_name": "DescriptionStyleModel",
            "description_width": "",
            "_view_module": "@jupyter-widgets/base",
            "_model_module_version": "1.5.0",
            "_view_count": null,
            "_view_module_version": "1.2.0",
            "_model_module": "@jupyter-widgets/controls"
          }
        },
        "d3fa20f19d594a1ba9691b7f358bda9c": {
          "model_module": "@jupyter-widgets/base",
          "model_name": "LayoutModel",
          "state": {
            "_view_name": "LayoutView",
            "grid_template_rows": null,
            "right": null,
            "justify_content": null,
            "_view_module": "@jupyter-widgets/base",
            "overflow": null,
            "_model_module_version": "1.2.0",
            "_view_count": null,
            "flex_flow": null,
            "width": null,
            "min_width": null,
            "border": null,
            "align_items": null,
            "bottom": null,
            "_model_module": "@jupyter-widgets/base",
            "top": null,
            "grid_column": null,
            "overflow_y": null,
            "overflow_x": null,
            "grid_auto_flow": null,
            "grid_area": null,
            "grid_template_columns": null,
            "flex": null,
            "_model_name": "LayoutModel",
            "justify_items": null,
            "grid_row": null,
            "max_height": null,
            "align_content": null,
            "visibility": null,
            "align_self": null,
            "height": null,
            "min_height": null,
            "padding": null,
            "grid_auto_rows": null,
            "grid_gap": null,
            "max_width": null,
            "order": null,
            "_view_module_version": "1.2.0",
            "grid_template_areas": null,
            "object_position": null,
            "object_fit": null,
            "grid_auto_columns": null,
            "margin": null,
            "display": null,
            "left": null
          }
        }
      }
    }
  },
  "cells": [
    {
      "cell_type": "markdown",
      "metadata": {
        "id": "view-in-github",
        "colab_type": "text"
      },
      "source": [
        "<a href=\"https://colab.research.google.com/github/yoyadima/DA/blob/main/Sber_gender_predict.ipynb\" target=\"_parent\"><img src=\"https://colab.research.google.com/assets/colab-badge.svg\" alt=\"Open In Colab\"/></a>"
      ]
    },
    {
      "cell_type": "code",
      "metadata": {
        "id": "BZ1RJyVWmC31"
      },
      "source": [
        "import pandas as pd\r\n",
        "import numpy as np\r\n",
        "import xgboost as xgb\r\n",
        "import re\r\n",
        "import matplotlib.pyplot as plt\r\n",
        "import seaborn as sns\r\n",
        "\r\n",
        "from hyperopt import hp, tpe\r\n",
        "from hyperopt.fmin import fmin\r\n",
        "\r\n",
        "from tqdm.notebook import tqdm_notebook\r\n",
        "from warnings import filterwarnings\r\n",
        "\r\n",
        "%matplotlib inline\r\n",
        "filterwarnings('ignore')"
      ],
      "execution_count": 4,
      "outputs": []
    },
    {
      "cell_type": "code",
      "metadata": {
        "id": "5E7T2y57mFdv"
      },
      "source": [
        "tr_mcc_codes = pd.read_csv('/content/drive/MyDrive/Python_And_Data_Analysis/data/tr_mcc_codes.csv', sep=';', index_col='mcc_code')\r\n",
        "tr_types = pd.read_csv('/content/drive/MyDrive/Python_And_Data_Analysis/data/tr_types.csv', sep=';', index_col='tr_type')\r\n",
        "\r\n",
        "transactions = pd.read_csv('/content/drive/MyDrive/Python_And_Data_Analysis/data/transactions.csv', index_col='customer_id')\r\n",
        "gender_train = pd.read_csv('/content/drive/MyDrive/Python_And_Data_Analysis/data/gender_train.csv', index_col='customer_id')\r\n",
        "gender_test = pd.read_csv('/content/drive/MyDrive/Python_And_Data_Analysis/data/gender_test.csv', index_col='customer_id')\r\n",
        "transactions_train = transactions.join(gender_train, how='inner')\r\n",
        "transactions_test = transactions.join(gender_test, how='inner')\r\n",
        "\r\n",
        "del transactions"
      ],
      "execution_count": 5,
      "outputs": []
    },
    {
      "cell_type": "code",
      "metadata": {
        "id": "uqUBr7YHt6Ik"
      },
      "source": [
        "params = {\r\n",
        "    'max_depth': 4,\r\n",
        "    'alpha': 0.6000000000000001, 'colsample_bytree': 0.66, 'eta': 0.025, 'gamma': 0.5, 'lambda': 0.2, 'min_child_weight': 6.0, 'subsample': 0.55,\r\n",
        "    'eval_metric': 'auc',\r\n",
        "    'objective': 'binary:logistic' ,\r\n",
        "    'booster': 'gbtree',\r\n",
        "    'njobs': -1,\r\n",
        "    'tree_method': 'approx'\r\n",
        "}"
      ],
      "execution_count": 6,
      "outputs": []
    },
    {
      "cell_type": "code",
      "metadata": {
        "id": "xtqUAqTWtfhE"
      },
      "source": [
        "male_mcc = [1711, 1799, 2741, 3501, 4411, 5013, 5065, 5072, 5074, 5193, 5199,\r\n",
        "       5451, 5511, 5532, 5533, 5542, 5571, 5733, 5734, 5816, 6010, 6051,\r\n",
        "       6211, 7338, 7372, 7512, 7538, 7542, 7841, 7993, 7995, 8699, 9399]"
      ],
      "execution_count": 7,
      "outputs": []
    },
    {
      "cell_type": "code",
      "metadata": {
        "id": "ySUyLuosmfUi"
      },
      "source": [
        "tqdm_notebook.pandas(desc=\"Progress:\")\r\n",
        "\r\n",
        "for df in [transactions_train, transactions_test]:\r\n",
        "    df['day'] = df['tr_datetime'].str.split().apply(lambda x: int(x[0]) % 7)\r\n",
        "    df['hour'] = df['tr_datetime'].apply(lambda x: re.search(' \\d*', x).group(0)).astype(int)\r\n",
        "    df['night'] = ~df['hour'].between(6, 22).astype(int)\r\n",
        "    df['mcc_code_tr_type'] = df['mcc_code'] + df['tr_type']\r\n",
        "    df['amount_bucket'] = pd.qcut(df['amount'], q=5, labels=[0, 1, 2, 3, 4])\r\n",
        "\r\n",
        "    df['tr_type+hour'] = df['hour'] + df['tr_type']\r\n",
        "    df['mcc_code+hour'] = df['mcc_code'] + df['hour']\r\n",
        "    df['spend/replenish'] = df['amount'].apply(lambda x: 0 if x < 0 else 1)\r\n",
        "    df['nigth_repl'] = 0\r\n",
        "    df.loc[(df['night'] == -1) & (df['spend/replenish'] == 1), 'nigth_repl'] = 1\r\n",
        "    df['amount_bucket'] = 0\r\n",
        "    df.loc[(df.amount > -41500301.141) & (df.amount <= -44918.32), 'amount_bucket'] = 1\r\n",
        "    df.loc[(df.amount > -44918.32) & (df.amount <= -12744.67), 'amount_bucket'] = 2\r\n",
        "    df.loc[(df.amount > -12744.67) & (df.amount <= -5794.46), 'amount_bucket'] = 3\r\n",
        "    df.loc[(df.amount > -5794.46) & (df.amount <= -2245.92), 'amount_bucket'] = 4\r\n",
        "    df.loc[(df.amount > -2245.92) & (df.amount <= -0.0001), 'amount_bucket'] = 5\r\n",
        "    df['mcc_gender'] = 0\r\n",
        "    df.loc[df.mcc_code.isin(male_mcc), 'mcc_gender'] = 1\r\n",
        "    df['weekend'] = 0\r\n",
        "    df.loc[(df.day == 6) | (df.day == 5),'weekend'] = 1"
      ],
      "execution_count": 8,
      "outputs": []
    },
    {
      "cell_type": "code",
      "metadata": {
        "id": "sOltTrStnWDh"
      },
      "source": [
        "###TOP SUB\r\n",
        "def features_creation_advanced(x): \r\n",
        "    features = []\r\n",
        "    features.append(pd.Series(x['day'].value_counts(normalize=True).add_prefix('day_')))\r\n",
        "    features.append(pd.Series(x['hour'].value_counts(normalize=True).add_prefix('hour_')))\r\n",
        "    features.append(pd.Series(x['night'].value_counts(normalize=True).add_prefix('night_')))\r\n",
        "    features.append(pd.Series(x[x['amount']>0]['amount'].agg(['min', 'max', 'mean', 'median', 'std', 'count'])\\\r\n",
        "                                                        .add_prefix('positive_transactions_')))\r\n",
        "    features.append(pd.Series(x[x['amount']<0]['amount'].agg(['min', 'max', 'mean', 'median', 'std', 'count'])\\\r\n",
        "                                                        .add_prefix('negative_transactions_')))\r\n",
        "    #new features\r\n",
        "    \r\n",
        "    features.append(pd.Series(x['mcc_code'].value_counts(normalize=True).add_prefix('mcc_code_')))\r\n",
        "\r\n",
        "    for i in x['day'].unique():\r\n",
        "      features.append(pd.Series(x[(x['amount']>0 & (x['day'] == i))]['amount'].agg(['sum'])\\\r\n",
        "                                                        .add_prefix('positive_transactions_day_'+str(i)+'_')))\r\n",
        "      features.append(pd.Series(x[(x['amount']<0 & (x['day'] == i))]['amount'].agg(['sum'])\\\r\n",
        "                                                        .add_prefix('negative_transactions_day_'+str(i)+'_')))\r\n",
        "    for i in x['night'].unique():\r\n",
        "      features.append(pd.Series(x[(x['amount']>0 & (x['night'] == i))]['amount'].agg(['sum'])\\\r\n",
        "                                                        .add_prefix('positive_transactions_night_'+str(i)+'_')))\r\n",
        "      features.append(pd.Series(x[(x['amount']<0 & (x['night'] == i))]['amount'].agg(['sum'])\\\r\n",
        "                                                        .add_prefix('negative_transactions_night_'+str(i)+'_')))\r\n",
        "    '''for i in x['hour'].unique():\r\n",
        "      features.append(pd.Series(x[(x['amount']>0 & (x['hour'] == i))]['amount'].agg(['sum'])\\\r\n",
        "                                                        .add_prefix('positive_transactions_hour_'+str(i)+'_')))\r\n",
        "      features.append(pd.Series(x[(x['amount']<0 & (x['hour'] == i))]['amount'].agg(['sum'])\\\r\n",
        "                                                        .add_prefix('negative_transactions_hour_'+str(i)+'_')))\r\n",
        "\r\n",
        "    features.append(pd.Series(x['tr_type'].value_counts().add_prefix('tr_')))\r\n",
        "    #features.append(pd.Series(x['tr_type+hour'].value_counts().add_prefix('tr_type+hour_')))\r\n",
        "    features.append(pd.Series(x['spend/replenish'].value_counts().add_prefix('spend/replenish_')))\r\n",
        "    features.append(pd.Series(x['nigth_repl'].value_counts().add_prefix('nigth_repl_')))\r\n",
        "    features.append(pd.Series(x['amount_bucket'].value_counts().add_prefix('amount_bucket_')))'''\r\n",
        "    \r\n",
        "    return pd.concat(features)"
      ],
      "execution_count": 9,
      "outputs": []
    },
    {
      "cell_type": "code",
      "metadata": {
        "colab": {
          "base_uri": "https://localhost:8080/",
          "height": 115,
          "referenced_widgets": [
            "8579981eb92a4ddebf96f27bf46b3533",
            "9c84c78dbac2475fa783b8fe619e8320",
            "266e7827a3b04fde85e950c50db3f8d8",
            "d12e1f6c134040c681b9365d3eea6fd9",
            "ebb9a9ab8545484bb53712d5d533d0e7",
            "c6040c07533247ca8e5284490943b105",
            "12023610939041a887c2a8c67fcc0698",
            "494f74150cbb4ecf98461e0f8f5cae59",
            "d415e7f318b84685980c5c09f73e7801",
            "37bd74ced6434b7ab49dfb1148a5841c",
            "a2b73a0ab45a42f49002d053b8e7f149",
            "cf4447df0ca649df8b6b32186912c435",
            "11b9c259b2754ee2a99e6e1878f57d5f",
            "5f57121dc772435a855cbdbbb89618ac",
            "6532d3c54d6746bd91b30b3400c2263b",
            "d3fa20f19d594a1ba9691b7f358bda9c"
          ]
        },
        "id": "vOCQZPsbH7rt",
        "outputId": "07fca085-6f6d-4f4c-be1e-1060aba1a680"
      },
      "source": [
        "data_train = transactions_train.groupby(transactions_train.index)\\\r\n",
        "                               .progress_apply(features_creation_advanced).unstack(-1)\r\n",
        "\r\n",
        "data_test = transactions_test.groupby(transactions_test.index)\\\r\n",
        "                             .progress_apply(features_creation_advanced).unstack(-1)\r\n"
      ],
      "execution_count": 10,
      "outputs": [
        {
          "output_type": "display_data",
          "data": {
            "application/vnd.jupyter.widget-view+json": {
              "model_id": "8579981eb92a4ddebf96f27bf46b3533",
              "version_minor": 0,
              "version_major": 2
            },
            "text/plain": [
              "HBox(children=(FloatProgress(value=0.0, description='Progress:', max=8400.0, style=ProgressStyle(description_w…"
            ]
          },
          "metadata": {
            "tags": []
          }
        },
        {
          "output_type": "stream",
          "text": [
            "\n"
          ],
          "name": "stdout"
        },
        {
          "output_type": "display_data",
          "data": {
            "application/vnd.jupyter.widget-view+json": {
              "model_id": "d415e7f318b84685980c5c09f73e7801",
              "version_minor": 0,
              "version_major": 2
            },
            "text/plain": [
              "HBox(children=(FloatProgress(value=0.0, description='Progress:', max=3600.0, style=ProgressStyle(description_w…"
            ]
          },
          "metadata": {
            "tags": []
          }
        },
        {
          "output_type": "stream",
          "text": [
            "\n"
          ],
          "name": "stdout"
        }
      ]
    },
    {
      "cell_type": "code",
      "metadata": {
        "id": "mJ2mk6sY4xXQ"
      },
      "source": [
        "target = data_train.join(gender_train, how='inner')['gender']"
      ],
      "execution_count": 13,
      "outputs": []
    },
    {
      "cell_type": "code",
      "metadata": {
        "id": "TqSEmwVWuGYe"
      },
      "source": [
        "data_train.fillna(0, inplace=True)\r\n",
        "data_test.fillna(0, inplace=True)\r\n",
        "\r\n",
        "for i in data_test.columns:\r\n",
        "  data_test[i]=(data_test[i]-data_test[i].min())/(data_test[i].max()-data_test[i].min())\r\n",
        "\r\n",
        "for i in data_train.columns:\r\n",
        "  data_train[i]=(data_train[i]-data_train[i].min())/(data_train[i].max()-data_train[i].min())"
      ],
      "execution_count": 14,
      "outputs": []
    },
    {
      "cell_type": "code",
      "metadata": {
        "colab": {
          "base_uri": "https://localhost:8080/"
        },
        "id": "meGsz4kktQ1L",
        "outputId": "50747f79-d039-427d-a06b-cbeb21ad58ab"
      },
      "source": [
        "def hyperopt_xgb_score(params):\r\n",
        "  cv_res=xgb.cv(params, xgb.DMatrix(data_train, target),\r\n",
        "                  early_stopping_rounds=10, maximize=True, \r\n",
        "                  num_boost_round=10000, nfold=5, stratified=True)\r\n",
        "  index_argmax = cv_res['test-auc-mean'].argmax()\r\n",
        "  \r\n",
        "  return -cv_res.loc[index_argmax]['test-auc-mean']\r\n",
        " \r\n",
        "params_xgb = {\r\n",
        "            'eta': hp.quniform('eta', 0.001, 0.1, 0.025),\r\n",
        "            'max_depth':  4,\r\n",
        "            'subsample': hp.quniform('subsample', 0.5, 1, 0.05),\r\n",
        "            'colsample_bytree': hp.quniform('colsample_bytree', 0.01, 1, 0.01),\r\n",
        "\r\n",
        "            'gamma': hp.quniform('gamma', 0.1, 2, 0.05),\r\n",
        "            'lambda' : hp.quniform('lambda', 0.001, 2, 0.05),\r\n",
        "            'alpha' : hp.quniform('alpha', 0.001, 2, 0.05),\r\n",
        "            'min_child_weight': hp.quniform('min_child_weight', 1, 30, 1),\r\n",
        "\r\n",
        "            'eval_metric': 'auc',\r\n",
        "            'objective': 'binary:logistic' ,\r\n",
        "            'booster': 'gbtree',\r\n",
        "            'njobs': -1,\r\n",
        "            'tree_method': 'approx'\r\n",
        "            }\r\n",
        " \r\n",
        "best = fmin(fn=hyperopt_xgb_score, space=params_xgb, algo=tpe.suggest, max_evals=150)\r\n",
        "print('best:')\r\n",
        "print(best)"
      ],
      "execution_count": 18,
      "outputs": [
        {
          "output_type": "stream",
          "text": [
            "100%|██████████| 150/150 [2:48:27<00:00, 67.38s/it, best loss: -0.8832628]\n",
            "best:\n",
            "{'alpha': 0.6000000000000001, 'colsample_bytree': 0.22, 'eta': 0.025, 'gamma': 0.6000000000000001, 'lambda': 0.5, 'min_child_weight': 5.0, 'subsample': 0.75}\n"
          ],
          "name": "stdout"
        }
      ]
    }
  ]
}
