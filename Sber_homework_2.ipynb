{
  "nbformat": 4,
  "nbformat_minor": 0,
  "metadata": {
    "colab": {
      "name": "Sber_homework_2.ipynb",
      "provenance": [],
      "collapsed_sections": [],
      "mount_file_id": "1rnUcGbmTvLsWsJaxIQVEjTTKwhHaeTti",
      "authorship_tag": "ABX9TyNV0dKu4yIjw2/DWKho8Ojh",
      "include_colab_link": true
    },
    "kernelspec": {
      "name": "python3",
      "display_name": "Python 3"
    }
  },
  "cells": [
    {
      "cell_type": "markdown",
      "metadata": {
        "id": "view-in-github",
        "colab_type": "text"
      },
      "source": [
        "<a href=\"https://colab.research.google.com/github/yoyadima/DA/blob/main/Sber_homework_2.ipynb\" target=\"_parent\"><img src=\"https://colab.research.google.com/assets/colab-badge.svg\" alt=\"Open In Colab\"/></a>"
      ]
    },
    {
      "cell_type": "code",
      "metadata": {
        "id": "3XsiTj8ZOAd9"
      },
      "source": [
        "import pandas as pd\r\n",
        "import numpy as np\r\n",
        "\r\n",
        "import matplotlib.pyplot as plt\r\n",
        "import seaborn as sns\r\n",
        "import re\r\n",
        "\r\n",
        "%matplotlib inline"
      ],
      "execution_count": 4,
      "outputs": []
    },
    {
      "cell_type": "code",
      "metadata": {
        "id": "3ENt66ovONJW"
      },
      "source": [
        "tr_mcc_codes = pd.read_csv('/content/drive/MyDrive/Python_And_Data_Analysis/data/tr_mcc_codes.csv', sep=';')\r\n",
        "tr_types = pd.read_csv('/content/drive/MyDrive/Python_And_Data_Analysis/data/tr_types.csv', sep=';')"
      ],
      "execution_count": 5,
      "outputs": []
    },
    {
      "cell_type": "code",
      "metadata": {
        "id": "6hhDYCmZOQPC"
      },
      "source": [
        "transactions = pd.read_csv('/content/drive/MyDrive/Python_And_Data_Analysis/data/transactions.csv', nrows=1000000)\r\n",
        "gender_train = pd.read_csv('/content/drive/MyDrive/Python_And_Data_Analysis/data/gender_train.csv')"
      ],
      "execution_count": 6,
      "outputs": []
    },
    {
      "cell_type": "code",
      "metadata": {
        "colab": {
          "base_uri": "https://localhost:8080/",
          "height": 419
        },
        "id": "3CGGEzYwkhDx",
        "outputId": "c1754e91-1409-4de3-c9fb-8435e09dc0dc"
      },
      "source": [
        "tr_mcc_codes"
      ],
      "execution_count": 7,
      "outputs": [
        {
          "output_type": "execute_result",
          "data": {
            "text/html": [
              "<div>\n",
              "<style scoped>\n",
              "    .dataframe tbody tr th:only-of-type {\n",
              "        vertical-align: middle;\n",
              "    }\n",
              "\n",
              "    .dataframe tbody tr th {\n",
              "        vertical-align: top;\n",
              "    }\n",
              "\n",
              "    .dataframe thead th {\n",
              "        text-align: right;\n",
              "    }\n",
              "</style>\n",
              "<table border=\"1\" class=\"dataframe\">\n",
              "  <thead>\n",
              "    <tr style=\"text-align: right;\">\n",
              "      <th></th>\n",
              "      <th>mcc_code</th>\n",
              "      <th>mcc_description</th>\n",
              "    </tr>\n",
              "  </thead>\n",
              "  <tbody>\n",
              "    <tr>\n",
              "      <th>0</th>\n",
              "      <td>742</td>\n",
              "      <td>Ветеринарные услуги</td>\n",
              "    </tr>\n",
              "    <tr>\n",
              "      <th>1</th>\n",
              "      <td>1711</td>\n",
              "      <td>Генеральные подрядчики по вентиляции, теплосна...</td>\n",
              "    </tr>\n",
              "    <tr>\n",
              "      <th>2</th>\n",
              "      <td>1731</td>\n",
              "      <td>Подрядчики по электричеству</td>\n",
              "    </tr>\n",
              "    <tr>\n",
              "      <th>3</th>\n",
              "      <td>1799</td>\n",
              "      <td>Подрядчики, специализированная торговля — нигд...</td>\n",
              "    </tr>\n",
              "    <tr>\n",
              "      <th>4</th>\n",
              "      <td>2741</td>\n",
              "      <td>Разнообразные издательства/печатное дело</td>\n",
              "    </tr>\n",
              "    <tr>\n",
              "      <th>...</th>\n",
              "      <td>...</td>\n",
              "      <td>...</td>\n",
              "    </tr>\n",
              "    <tr>\n",
              "      <th>179</th>\n",
              "      <td>9211</td>\n",
              "      <td>Судовые выплаты, включая алименты и детскую по...</td>\n",
              "    </tr>\n",
              "    <tr>\n",
              "      <th>180</th>\n",
              "      <td>9222</td>\n",
              "      <td>Штрафы</td>\n",
              "    </tr>\n",
              "    <tr>\n",
              "      <th>181</th>\n",
              "      <td>9311</td>\n",
              "      <td>Налоговые платежи</td>\n",
              "    </tr>\n",
              "    <tr>\n",
              "      <th>182</th>\n",
              "      <td>9399</td>\n",
              "      <td>Правительственные услуги, нигде ранее не класс...</td>\n",
              "    </tr>\n",
              "    <tr>\n",
              "      <th>183</th>\n",
              "      <td>9402</td>\n",
              "      <td>Почтовые услуги — только правительство</td>\n",
              "    </tr>\n",
              "  </tbody>\n",
              "</table>\n",
              "<p>184 rows × 2 columns</p>\n",
              "</div>"
            ],
            "text/plain": [
              "     mcc_code                                    mcc_description\n",
              "0         742                                Ветеринарные услуги\n",
              "1        1711  Генеральные подрядчики по вентиляции, теплосна...\n",
              "2        1731                        Подрядчики по электричеству\n",
              "3        1799  Подрядчики, специализированная торговля — нигд...\n",
              "4        2741           Разнообразные издательства/печатное дело\n",
              "..        ...                                                ...\n",
              "179      9211  Судовые выплаты, включая алименты и детскую по...\n",
              "180      9222                                             Штрафы\n",
              "181      9311                                  Налоговые платежи\n",
              "182      9399  Правительственные услуги, нигде ранее не класс...\n",
              "183      9402             Почтовые услуги — только правительство\n",
              "\n",
              "[184 rows x 2 columns]"
            ]
          },
          "metadata": {
            "tags": []
          },
          "execution_count": 7
        }
      ]
    },
    {
      "cell_type": "code",
      "metadata": {
        "colab": {
          "base_uri": "https://localhost:8080/",
          "height": 80
        },
        "id": "mp8KZi7UbBQv",
        "outputId": "9a5b6b48-07ba-4511-fea4-f3a0f0525b00"
      },
      "source": [
        "tr_mcc_codes[tr_mcc_codes['mcc_description'].str.contains('Фл')]"
      ],
      "execution_count": 8,
      "outputs": [
        {
          "output_type": "execute_result",
          "data": {
            "text/html": [
              "<div>\n",
              "<style scoped>\n",
              "    .dataframe tbody tr th:only-of-type {\n",
              "        vertical-align: middle;\n",
              "    }\n",
              "\n",
              "    .dataframe tbody tr th {\n",
              "        vertical-align: top;\n",
              "    }\n",
              "\n",
              "    .dataframe thead th {\n",
              "        text-align: right;\n",
              "    }\n",
              "</style>\n",
              "<table border=\"1\" class=\"dataframe\">\n",
              "  <thead>\n",
              "    <tr style=\"text-align: right;\">\n",
              "      <th></th>\n",
              "      <th>mcc_code</th>\n",
              "      <th>mcc_description</th>\n",
              "    </tr>\n",
              "  </thead>\n",
              "  <tbody>\n",
              "    <tr>\n",
              "      <th>118</th>\n",
              "      <td>5992</td>\n",
              "      <td>Флористика</td>\n",
              "    </tr>\n",
              "  </tbody>\n",
              "</table>\n",
              "</div>"
            ],
            "text/plain": [
              "     mcc_code mcc_description\n",
              "118      5992      Флористика"
            ]
          },
          "metadata": {
            "tags": []
          },
          "execution_count": 8
        }
      ]
    },
    {
      "cell_type": "code",
      "metadata": {
        "id": "pxIz2iAdbBd5",
        "colab": {
          "base_uri": "https://localhost:8080/",
          "height": 419
        },
        "outputId": "02a73a91-e018-44b5-d442-d8d5ee149f34"
      },
      "source": [
        "transactions"
      ],
      "execution_count": 9,
      "outputs": [
        {
          "output_type": "execute_result",
          "data": {
            "text/html": [
              "<div>\n",
              "<style scoped>\n",
              "    .dataframe tbody tr th:only-of-type {\n",
              "        vertical-align: middle;\n",
              "    }\n",
              "\n",
              "    .dataframe tbody tr th {\n",
              "        vertical-align: top;\n",
              "    }\n",
              "\n",
              "    .dataframe thead th {\n",
              "        text-align: right;\n",
              "    }\n",
              "</style>\n",
              "<table border=\"1\" class=\"dataframe\">\n",
              "  <thead>\n",
              "    <tr style=\"text-align: right;\">\n",
              "      <th></th>\n",
              "      <th>customer_id</th>\n",
              "      <th>tr_datetime</th>\n",
              "      <th>mcc_code</th>\n",
              "      <th>tr_type</th>\n",
              "      <th>amount</th>\n",
              "      <th>term_id</th>\n",
              "    </tr>\n",
              "  </thead>\n",
              "  <tbody>\n",
              "    <tr>\n",
              "      <th>0</th>\n",
              "      <td>39026145</td>\n",
              "      <td>0 10:23:26</td>\n",
              "      <td>4814</td>\n",
              "      <td>1030</td>\n",
              "      <td>-2245.92</td>\n",
              "      <td>NaN</td>\n",
              "    </tr>\n",
              "    <tr>\n",
              "      <th>1</th>\n",
              "      <td>39026145</td>\n",
              "      <td>1 10:19:29</td>\n",
              "      <td>6011</td>\n",
              "      <td>7010</td>\n",
              "      <td>56147.89</td>\n",
              "      <td>NaN</td>\n",
              "    </tr>\n",
              "    <tr>\n",
              "      <th>2</th>\n",
              "      <td>39026145</td>\n",
              "      <td>1 10:20:56</td>\n",
              "      <td>4829</td>\n",
              "      <td>2330</td>\n",
              "      <td>-56147.89</td>\n",
              "      <td>NaN</td>\n",
              "    </tr>\n",
              "    <tr>\n",
              "      <th>3</th>\n",
              "      <td>39026145</td>\n",
              "      <td>1 10:39:54</td>\n",
              "      <td>5499</td>\n",
              "      <td>1010</td>\n",
              "      <td>-1392.47</td>\n",
              "      <td>NaN</td>\n",
              "    </tr>\n",
              "    <tr>\n",
              "      <th>4</th>\n",
              "      <td>39026145</td>\n",
              "      <td>2 15:33:42</td>\n",
              "      <td>5499</td>\n",
              "      <td>1010</td>\n",
              "      <td>-920.83</td>\n",
              "      <td>NaN</td>\n",
              "    </tr>\n",
              "    <tr>\n",
              "      <th>...</th>\n",
              "      <td>...</td>\n",
              "      <td>...</td>\n",
              "      <td>...</td>\n",
              "      <td>...</td>\n",
              "      <td>...</td>\n",
              "      <td>...</td>\n",
              "    </tr>\n",
              "    <tr>\n",
              "      <th>999995</th>\n",
              "      <td>98801178</td>\n",
              "      <td>269 10:29:06</td>\n",
              "      <td>5921</td>\n",
              "      <td>1010</td>\n",
              "      <td>-23016.59</td>\n",
              "      <td>127873</td>\n",
              "    </tr>\n",
              "    <tr>\n",
              "      <th>999996</th>\n",
              "      <td>98801178</td>\n",
              "      <td>270 10:26:45</td>\n",
              "      <td>5211</td>\n",
              "      <td>1010</td>\n",
              "      <td>-61380.88</td>\n",
              "      <td>10114209</td>\n",
              "    </tr>\n",
              "    <tr>\n",
              "      <th>999997</th>\n",
              "      <td>98801178</td>\n",
              "      <td>270 15:18:53</td>\n",
              "      <td>5921</td>\n",
              "      <td>1010</td>\n",
              "      <td>-11800.27</td>\n",
              "      <td>10105341</td>\n",
              "    </tr>\n",
              "    <tr>\n",
              "      <th>999998</th>\n",
              "      <td>98801178</td>\n",
              "      <td>271 12:47:13</td>\n",
              "      <td>5211</td>\n",
              "      <td>1010</td>\n",
              "      <td>-16170.59</td>\n",
              "      <td>10114209</td>\n",
              "    </tr>\n",
              "    <tr>\n",
              "      <th>999999</th>\n",
              "      <td>98801178</td>\n",
              "      <td>271 14:51:56</td>\n",
              "      <td>5921</td>\n",
              "      <td>1010</td>\n",
              "      <td>-10025.77</td>\n",
              "      <td>123991</td>\n",
              "    </tr>\n",
              "  </tbody>\n",
              "</table>\n",
              "<p>1000000 rows × 6 columns</p>\n",
              "</div>"
            ],
            "text/plain": [
              "        customer_id   tr_datetime  mcc_code  tr_type    amount   term_id\n",
              "0          39026145    0 10:23:26      4814     1030  -2245.92       NaN\n",
              "1          39026145    1 10:19:29      6011     7010  56147.89       NaN\n",
              "2          39026145    1 10:20:56      4829     2330 -56147.89       NaN\n",
              "3          39026145    1 10:39:54      5499     1010  -1392.47       NaN\n",
              "4          39026145    2 15:33:42      5499     1010   -920.83       NaN\n",
              "...             ...           ...       ...      ...       ...       ...\n",
              "999995     98801178  269 10:29:06      5921     1010 -23016.59    127873\n",
              "999996     98801178  270 10:26:45      5211     1010 -61380.88  10114209\n",
              "999997     98801178  270 15:18:53      5921     1010 -11800.27  10105341\n",
              "999998     98801178  271 12:47:13      5211     1010 -16170.59  10114209\n",
              "999999     98801178  271 14:51:56      5921     1010 -10025.77    123991\n",
              "\n",
              "[1000000 rows x 6 columns]"
            ]
          },
          "metadata": {
            "tags": []
          },
          "execution_count": 9
        }
      ]
    },
    {
      "cell_type": "code",
      "metadata": {
        "colab": {
          "base_uri": "https://localhost:8080/",
          "height": 419
        },
        "id": "WuT2A5X3bBm6",
        "outputId": "6e2844f0-fd65-4be0-a341-4dd00d9a0d85"
      },
      "source": [
        "gender_train"
      ],
      "execution_count": 10,
      "outputs": [
        {
          "output_type": "execute_result",
          "data": {
            "text/html": [
              "<div>\n",
              "<style scoped>\n",
              "    .dataframe tbody tr th:only-of-type {\n",
              "        vertical-align: middle;\n",
              "    }\n",
              "\n",
              "    .dataframe tbody tr th {\n",
              "        vertical-align: top;\n",
              "    }\n",
              "\n",
              "    .dataframe thead th {\n",
              "        text-align: right;\n",
              "    }\n",
              "</style>\n",
              "<table border=\"1\" class=\"dataframe\">\n",
              "  <thead>\n",
              "    <tr style=\"text-align: right;\">\n",
              "      <th></th>\n",
              "      <th>customer_id</th>\n",
              "      <th>gender</th>\n",
              "    </tr>\n",
              "  </thead>\n",
              "  <tbody>\n",
              "    <tr>\n",
              "      <th>0</th>\n",
              "      <td>10928546</td>\n",
              "      <td>1</td>\n",
              "    </tr>\n",
              "    <tr>\n",
              "      <th>1</th>\n",
              "      <td>69348468</td>\n",
              "      <td>1</td>\n",
              "    </tr>\n",
              "    <tr>\n",
              "      <th>2</th>\n",
              "      <td>61009479</td>\n",
              "      <td>0</td>\n",
              "    </tr>\n",
              "    <tr>\n",
              "      <th>3</th>\n",
              "      <td>74045822</td>\n",
              "      <td>0</td>\n",
              "    </tr>\n",
              "    <tr>\n",
              "      <th>4</th>\n",
              "      <td>27979606</td>\n",
              "      <td>1</td>\n",
              "    </tr>\n",
              "    <tr>\n",
              "      <th>...</th>\n",
              "      <td>...</td>\n",
              "      <td>...</td>\n",
              "    </tr>\n",
              "    <tr>\n",
              "      <th>8395</th>\n",
              "      <td>90417572</td>\n",
              "      <td>0</td>\n",
              "    </tr>\n",
              "    <tr>\n",
              "      <th>8396</th>\n",
              "      <td>66837341</td>\n",
              "      <td>0</td>\n",
              "    </tr>\n",
              "    <tr>\n",
              "      <th>8397</th>\n",
              "      <td>10758984</td>\n",
              "      <td>1</td>\n",
              "    </tr>\n",
              "    <tr>\n",
              "      <th>8398</th>\n",
              "      <td>11376556</td>\n",
              "      <td>0</td>\n",
              "    </tr>\n",
              "    <tr>\n",
              "      <th>8399</th>\n",
              "      <td>29190649</td>\n",
              "      <td>0</td>\n",
              "    </tr>\n",
              "  </tbody>\n",
              "</table>\n",
              "<p>8400 rows × 2 columns</p>\n",
              "</div>"
            ],
            "text/plain": [
              "      customer_id  gender\n",
              "0        10928546       1\n",
              "1        69348468       1\n",
              "2        61009479       0\n",
              "3        74045822       0\n",
              "4        27979606       1\n",
              "...           ...     ...\n",
              "8395     90417572       0\n",
              "8396     66837341       0\n",
              "8397     10758984       1\n",
              "8398     11376556       0\n",
              "8399     29190649       0\n",
              "\n",
              "[8400 rows x 2 columns]"
            ]
          },
          "metadata": {
            "tags": []
          },
          "execution_count": 10
        }
      ]
    },
    {
      "cell_type": "markdown",
      "metadata": {
        "id": "4xWF51uBOV6A"
      },
      "source": [
        "#### Task 0.\r\n",
        "Соедините transactions с всеми остальными таблицами (tr_mcc_codes, tr_types, gender_train). Причём с customers_gender_train необходимо смёрджиться с помощью left join, а с оставшимися датафреймами - через inner.\r\n",
        "После получения результата таблицы gender_train, tr_types, tr_mcc_codes можно удалить. В результате соединения датафреймов должно получиться 999584 строки."
      ]
    },
    {
      "cell_type": "code",
      "metadata": {
        "colab": {
          "base_uri": "https://localhost:8080/",
          "height": 419
        },
        "id": "t-GYE0yNOWbQ",
        "outputId": "565940d3-e83d-4000-987b-c1e29f4624d7"
      },
      "source": [
        "trans_tr_mcc = transactions.merge(tr_mcc_codes, how='inner', on='mcc_code')\r\n",
        "trans_tr_mcc_tr_types = trans_tr_mcc.merge(tr_types, how='inner', on='tr_type')\r\n",
        "transactions_data = trans_tr_mcc_tr_types.merge(gender_train, how='left', on='customer_id')\r\n",
        "transactions_data"
      ],
      "execution_count": 11,
      "outputs": [
        {
          "output_type": "execute_result",
          "data": {
            "text/html": [
              "<div>\n",
              "<style scoped>\n",
              "    .dataframe tbody tr th:only-of-type {\n",
              "        vertical-align: middle;\n",
              "    }\n",
              "\n",
              "    .dataframe tbody tr th {\n",
              "        vertical-align: top;\n",
              "    }\n",
              "\n",
              "    .dataframe thead th {\n",
              "        text-align: right;\n",
              "    }\n",
              "</style>\n",
              "<table border=\"1\" class=\"dataframe\">\n",
              "  <thead>\n",
              "    <tr style=\"text-align: right;\">\n",
              "      <th></th>\n",
              "      <th>customer_id</th>\n",
              "      <th>tr_datetime</th>\n",
              "      <th>mcc_code</th>\n",
              "      <th>tr_type</th>\n",
              "      <th>amount</th>\n",
              "      <th>term_id</th>\n",
              "      <th>mcc_description</th>\n",
              "      <th>tr_description</th>\n",
              "      <th>gender</th>\n",
              "    </tr>\n",
              "  </thead>\n",
              "  <tbody>\n",
              "    <tr>\n",
              "      <th>0</th>\n",
              "      <td>39026145</td>\n",
              "      <td>0 10:23:26</td>\n",
              "      <td>4814</td>\n",
              "      <td>1030</td>\n",
              "      <td>-2245.92</td>\n",
              "      <td>NaN</td>\n",
              "      <td>Звонки с использованием телефонов, считывающих...</td>\n",
              "      <td>Оплата услуги. Банкоматы СБ РФ</td>\n",
              "      <td>1.0</td>\n",
              "    </tr>\n",
              "    <tr>\n",
              "      <th>1</th>\n",
              "      <td>39026145</td>\n",
              "      <td>6 07:08:31</td>\n",
              "      <td>4814</td>\n",
              "      <td>1030</td>\n",
              "      <td>-5614.79</td>\n",
              "      <td>NaN</td>\n",
              "      <td>Звонки с использованием телефонов, считывающих...</td>\n",
              "      <td>Оплата услуги. Банкоматы СБ РФ</td>\n",
              "      <td>1.0</td>\n",
              "    </tr>\n",
              "    <tr>\n",
              "      <th>2</th>\n",
              "      <td>39026145</td>\n",
              "      <td>8 07:06:10</td>\n",
              "      <td>4814</td>\n",
              "      <td>1030</td>\n",
              "      <td>-1122.96</td>\n",
              "      <td>NaN</td>\n",
              "      <td>Звонки с использованием телефонов, считывающих...</td>\n",
              "      <td>Оплата услуги. Банкоматы СБ РФ</td>\n",
              "      <td>1.0</td>\n",
              "    </tr>\n",
              "    <tr>\n",
              "      <th>3</th>\n",
              "      <td>39026145</td>\n",
              "      <td>11 08:49:03</td>\n",
              "      <td>4814</td>\n",
              "      <td>1030</td>\n",
              "      <td>-2245.92</td>\n",
              "      <td>NaN</td>\n",
              "      <td>Звонки с использованием телефонов, считывающих...</td>\n",
              "      <td>Оплата услуги. Банкоматы СБ РФ</td>\n",
              "      <td>1.0</td>\n",
              "    </tr>\n",
              "    <tr>\n",
              "      <th>4</th>\n",
              "      <td>39026145</td>\n",
              "      <td>11 14:12:08</td>\n",
              "      <td>4814</td>\n",
              "      <td>1030</td>\n",
              "      <td>-2245.92</td>\n",
              "      <td>NaN</td>\n",
              "      <td>Звонки с использованием телефонов, считывающих...</td>\n",
              "      <td>Оплата услуги. Банкоматы СБ РФ</td>\n",
              "      <td>1.0</td>\n",
              "    </tr>\n",
              "    <tr>\n",
              "      <th>...</th>\n",
              "      <td>...</td>\n",
              "      <td>...</td>\n",
              "      <td>...</td>\n",
              "      <td>...</td>\n",
              "      <td>...</td>\n",
              "      <td>...</td>\n",
              "      <td>...</td>\n",
              "      <td>...</td>\n",
              "      <td>...</td>\n",
              "    </tr>\n",
              "    <tr>\n",
              "      <th>999579</th>\n",
              "      <td>36837532</td>\n",
              "      <td>18 23:38:60</td>\n",
              "      <td>3000</td>\n",
              "      <td>6000</td>\n",
              "      <td>1297824.89</td>\n",
              "      <td>NaN</td>\n",
              "      <td>Авиалинии, авиакомпании</td>\n",
              "      <td>Возврат  покупки. ТУ СБ РФ</td>\n",
              "      <td>NaN</td>\n",
              "    </tr>\n",
              "    <tr>\n",
              "      <th>999580</th>\n",
              "      <td>6808459</td>\n",
              "      <td>206 19:00:10</td>\n",
              "      <td>3000</td>\n",
              "      <td>6000</td>\n",
              "      <td>124693.24</td>\n",
              "      <td>NaN</td>\n",
              "      <td>Авиалинии, авиакомпании</td>\n",
              "      <td>Возврат  покупки. ТУ СБ РФ</td>\n",
              "      <td>NaN</td>\n",
              "    </tr>\n",
              "    <tr>\n",
              "      <th>999581</th>\n",
              "      <td>83759123</td>\n",
              "      <td>90 22:40:57</td>\n",
              "      <td>3000</td>\n",
              "      <td>6000</td>\n",
              "      <td>218976.79</td>\n",
              "      <td>NaN</td>\n",
              "      <td>Авиалинии, авиакомпании</td>\n",
              "      <td>Возврат  покупки. ТУ СБ РФ</td>\n",
              "      <td>NaN</td>\n",
              "    </tr>\n",
              "    <tr>\n",
              "      <th>999582</th>\n",
              "      <td>89619970</td>\n",
              "      <td>104 23:39:35</td>\n",
              "      <td>3000</td>\n",
              "      <td>6000</td>\n",
              "      <td>408307.49</td>\n",
              "      <td>NaN</td>\n",
              "      <td>Авиалинии, авиакомпании</td>\n",
              "      <td>Возврат  покупки. ТУ СБ РФ</td>\n",
              "      <td>NaN</td>\n",
              "    </tr>\n",
              "    <tr>\n",
              "      <th>999583</th>\n",
              "      <td>89619970</td>\n",
              "      <td>105 23:38:49</td>\n",
              "      <td>3000</td>\n",
              "      <td>6000</td>\n",
              "      <td>204153.74</td>\n",
              "      <td>NaN</td>\n",
              "      <td>Авиалинии, авиакомпании</td>\n",
              "      <td>Возврат  покупки. ТУ СБ РФ</td>\n",
              "      <td>NaN</td>\n",
              "    </tr>\n",
              "  </tbody>\n",
              "</table>\n",
              "<p>999584 rows × 9 columns</p>\n",
              "</div>"
            ],
            "text/plain": [
              "        customer_id   tr_datetime  ...                  tr_description  gender\n",
              "0          39026145    0 10:23:26  ...  Оплата услуги. Банкоматы СБ РФ     1.0\n",
              "1          39026145    6 07:08:31  ...  Оплата услуги. Банкоматы СБ РФ     1.0\n",
              "2          39026145    8 07:06:10  ...  Оплата услуги. Банкоматы СБ РФ     1.0\n",
              "3          39026145   11 08:49:03  ...  Оплата услуги. Банкоматы СБ РФ     1.0\n",
              "4          39026145   11 14:12:08  ...  Оплата услуги. Банкоматы СБ РФ     1.0\n",
              "...             ...           ...  ...                             ...     ...\n",
              "999579     36837532   18 23:38:60  ...      Возврат  покупки. ТУ СБ РФ     NaN\n",
              "999580      6808459  206 19:00:10  ...      Возврат  покупки. ТУ СБ РФ     NaN\n",
              "999581     83759123   90 22:40:57  ...      Возврат  покупки. ТУ СБ РФ     NaN\n",
              "999582     89619970  104 23:39:35  ...      Возврат  покупки. ТУ СБ РФ     NaN\n",
              "999583     89619970  105 23:38:49  ...      Возврат  покупки. ТУ СБ РФ     NaN\n",
              "\n",
              "[999584 rows x 9 columns]"
            ]
          },
          "metadata": {
            "tags": []
          },
          "execution_count": 11
        }
      ]
    },
    {
      "cell_type": "markdown",
      "metadata": {
        "id": "zczbeVEqOYau"
      },
      "source": [
        "#### Task 1."
      ]
    },
    {
      "cell_type": "markdown",
      "metadata": {
        "id": "teuG4eZoW5dn"
      },
      "source": [
        "1. Определите модуль разницы между средними тратами женщин и мужчин (трата - отрицательное значение amount). (*)\r\n",
        "\r\n",
        "Выведите ответ в виде вещественного числа, округлённого до двух знаков после запятой, отделив дробную часть точкой в формате \"123.45\"\r\n",
        "\r\n",
        "##### Пояснения:\r\n",
        "(\\*) Если в результате для мужчин получились значения [-1,-3,-5], а для женщин [-1,-2,-3],  \r\n",
        "то модуль разницы между средними арифметическими -3 и -2 будет равен 1.\r\n",
        "\r\n",
        "(\\**) Обратите внимание, что для вычисления модуля разности точных знаний о том,  \r\n",
        "какой класc относится к мужчинам, а какой - к женщинам, пока не требуется.\r\n",
        "\r\n",
        "(\\***) Округление не нужно производить отдельно по средним тратам женщин и мужчин, а только в самом конце, когда получите значение модуля разницы трат."
      ]
    },
    {
      "cell_type": "code",
      "metadata": {
        "colab": {
          "base_uri": "https://localhost:8080/"
        },
        "id": "pneujvdjOYvW",
        "outputId": "3d30fac7-59dd-4d55-fa7d-524cfa0d2c9b"
      },
      "source": [
        "mean_f = transactions_data[(transactions_data['gender'] == 0) & (transactions_data['amount'] < 0)]['amount'].mean()\r\n",
        "mean_f"
      ],
      "execution_count": 12,
      "outputs": [
        {
          "output_type": "execute_result",
          "data": {
            "text/plain": [
              "-53376.91712217586"
            ]
          },
          "metadata": {
            "tags": []
          },
          "execution_count": 12
        }
      ]
    },
    {
      "cell_type": "code",
      "metadata": {
        "colab": {
          "base_uri": "https://localhost:8080/"
        },
        "id": "FWyJfOv4EpJm",
        "outputId": "10be7390-83ed-4f8b-8834-317f0d0e7379"
      },
      "source": [
        "mean_m = transactions_data[(transactions_data['gender'] == 1) & (transactions_data['amount'] < 0)]['amount'].mean()\r\n",
        "mean_m"
      ],
      "execution_count": 13,
      "outputs": [
        {
          "output_type": "execute_result",
          "data": {
            "text/plain": [
              "-86094.97204239463"
            ]
          },
          "metadata": {
            "tags": []
          },
          "execution_count": 13
        }
      ]
    },
    {
      "cell_type": "code",
      "metadata": {
        "colab": {
          "base_uri": "https://localhost:8080/"
        },
        "id": "lb3hAvkFTED-",
        "outputId": "97e06133-8580-414a-fe93-23b123c9a13f"
      },
      "source": [
        "round(abs(mean_f - mean_m), 2)"
      ],
      "execution_count": 14,
      "outputs": [
        {
          "output_type": "execute_result",
          "data": {
            "text/plain": [
              "32718.05"
            ]
          },
          "metadata": {
            "tags": []
          },
          "execution_count": 14
        }
      ]
    },
    {
      "cell_type": "markdown",
      "metadata": {
        "id": "EdvihCyOOaiu"
      },
      "source": [
        "#### Task 2:"
      ]
    },
    {
      "cell_type": "markdown",
      "metadata": {
        "id": "il-Umpi0W28S"
      },
      "source": [
        "1. Создайте новый столбец - mcc_code+tr_type, сконкатенировав значения из соответствующих столбцов. (\\*)\r\n",
        "2. Оставьте только наблюдения с отрицательным значением amount. Посчитайте дисперсию по категориям получившегося столбца mcc_code+tr_type, в которых количество наблюдений >= 10. \r\n",
        "3. Определите отношение максимальной дисперсии к минимальной.\r\n",
        "\r\n",
        "Выведите ответ в виде вещественного числа, округлённого до ближайшего целого в формате \"123456\" без дробной части.\r\n",
        "\r\n",
        "##### Пояснения:\r\n",
        "(\\*) Для конкатенации значений в столбцах можно использовать метод .astype(str) для серии и складывать соответствующие серии. Либо же применять apply к строкам датафрейма, прописывая логику преобразования и конкатенации значений внутри.\r\n",
        "\r\n",
        "(\\**) Для одновременного подсчета количества наблюдений и дисперсии по категориям можно воспользоваться функцией .agg()"
      ]
    },
    {
      "cell_type": "code",
      "metadata": {
        "colab": {
          "base_uri": "https://localhost:8080/"
        },
        "id": "JLAAq21NOa3g",
        "outputId": "9e007656-b075-488e-98fd-add188e6f27d"
      },
      "source": [
        "data_task_2 = transactions_data.copy()\r\n",
        "data_task_2['mcc_code+tr_type'] = data_task_2['mcc_code'].astype(str) + data_task_2['tr_type'].astype(str)\r\n",
        "data_task_2 = data_task_2[data_task_2['amount'] < 0]\r\n",
        "f = lambda x: len(x) >= 10\r\n",
        "fff = data_task_2.groupby('mcc_code+tr_type').filter(f)\r\n",
        "#fff.groupby('mcc_code+tr_type').var().max() - fff.groupby('mcc_code+tr_type').var().min()\r\n",
        "#print((transactions_data.groupby('mcc_code+tr_type').size() >= 10).sum())\r\n",
        "res = fff.groupby('mcc_code+tr_type')['amount'].agg([len, 'var'])\r\n",
        "round(res['var'].max()/ res['var'].min())"
      ],
      "execution_count": 15,
      "outputs": [
        {
          "output_type": "execute_result",
          "data": {
            "text/plain": [
              "9170599"
            ]
          },
          "metadata": {
            "tags": []
          },
          "execution_count": 15
        }
      ]
    },
    {
      "cell_type": "code",
      "metadata": {
        "colab": {
          "base_uri": "https://localhost:8080/"
        },
        "id": "HXj7-yfInvQr",
        "outputId": "2d0b8380-4339-4e3f-f6b0-4cb73016d55a"
      },
      "source": [
        "df = transactions_data.copy()\r\n",
        "df['mcc_code+tr_type'] = df.mcc_code.map(str) + df.tr_type.map(str)\r\n",
        "df = df[['mcc_code+tr_type', 'amount']][df.amount < 0]\r\n",
        "fltr = lambda group_df: len(group_df['amount']) >= 10\r\n",
        "amount = (df.groupby('mcc_code+tr_type').filter(fltr) \r\n",
        "            .groupby('mcc_code+tr_type').var()).amount  \r\n",
        "np.rint(amount.max() / amount.min()).astype(int)"
      ],
      "execution_count": 16,
      "outputs": [
        {
          "output_type": "execute_result",
          "data": {
            "text/plain": [
              "9170599"
            ]
          },
          "metadata": {
            "tags": []
          },
          "execution_count": 16
        }
      ]
    },
    {
      "cell_type": "markdown",
      "metadata": {
        "id": "fbA-HzdtOcqr"
      },
      "source": [
        "#### Task 3:"
      ]
    },
    {
      "cell_type": "markdown",
      "metadata": {
        "id": "3KeJ3yveWQAu"
      },
      "source": [
        "1. По всем типам транзакций рассчитайте максимальную сумму прихода на карту (из строго положительных сумм по столбцу amount) отдельно для мужчин и женщин (назовите ее \"max_income\"). Оставьте по 5 транзакций для мужчин и для женщин, наименьших среди всех транзакций по полученным значениям \"max_income\". (\\*)\r\n",
        "2. Выделите среди них те, которые встречаются одновременно и у мужчин, и у женщин:\r\n",
        "    - 1) Покупка. POS ТУ СБ РФ\t\r\n",
        "    - 2) Списание после проведения претензионной работы\t\r\n",
        "    - 3) Плата за получение наличных. Россия\t\r\n",
        "    - 4) Перевод на карту/ с карты через АТМ (со взиманием комиссии с отправителя) по счету в овердрафте\t\r\n",
        "    - 5) Плата за получение наличных в АТМ. Россия +\r\n",
        "    - 6) Наличные. Зарубеж. банк\t\r\n",
        "    - 7) Возврат покупки. POS ТУ Россия\r\n",
        "\r\n",
        "##### Пояснения:\r\n",
        "(\\*) Если максимальные суммы приходов по каким-то типам были равны [1,2,3,4,5,6,7,8], то 5 минимальных из них: [1,2,3,4,5]"
      ]
    },
    {
      "cell_type": "code",
      "metadata": {
        "colab": {
          "base_uri": "https://localhost:8080/",
          "height": 235
        },
        "id": "GE3I68F7OdCD",
        "outputId": "b797cee9-1e89-4cd9-b6cd-650ff92f2223"
      },
      "source": [
        "data_task_3 = transactions_data.copy()\r\n",
        "res = data_task_3.query('amount > 0 and gender == 0').groupby(['tr_type'])['amount'].agg([('max_income', 'max')])\r\n",
        "res = res.sort_values(by=['max_income'], ascending=True)\r\n",
        "res = res.head(5)\r\n",
        "res"
      ],
      "execution_count": 17,
      "outputs": [
        {
          "output_type": "execute_result",
          "data": {
            "text/html": [
              "<div>\n",
              "<style scoped>\n",
              "    .dataframe tbody tr th:only-of-type {\n",
              "        vertical-align: middle;\n",
              "    }\n",
              "\n",
              "    .dataframe tbody tr th {\n",
              "        vertical-align: top;\n",
              "    }\n",
              "\n",
              "    .dataframe thead th {\n",
              "        text-align: right;\n",
              "    }\n",
              "</style>\n",
              "<table border=\"1\" class=\"dataframe\">\n",
              "  <thead>\n",
              "    <tr style=\"text-align: right;\">\n",
              "      <th></th>\n",
              "      <th>max_income</th>\n",
              "    </tr>\n",
              "    <tr>\n",
              "      <th>tr_type</th>\n",
              "      <th></th>\n",
              "    </tr>\n",
              "  </thead>\n",
              "  <tbody>\n",
              "    <tr>\n",
              "      <th>4051</th>\n",
              "      <td>1122.96</td>\n",
              "    </tr>\n",
              "    <tr>\n",
              "      <th>4110</th>\n",
              "      <td>2245.92</td>\n",
              "    </tr>\n",
              "    <tr>\n",
              "      <th>4210</th>\n",
              "      <td>2245.92</td>\n",
              "    </tr>\n",
              "    <tr>\n",
              "      <th>2370</th>\n",
              "      <td>2335.75</td>\n",
              "    </tr>\n",
              "    <tr>\n",
              "      <th>4100</th>\n",
              "      <td>5041.86</td>\n",
              "    </tr>\n",
              "  </tbody>\n",
              "</table>\n",
              "</div>"
            ],
            "text/plain": [
              "         max_income\n",
              "tr_type            \n",
              "4051        1122.96\n",
              "4110        2245.92\n",
              "4210        2245.92\n",
              "2370        2335.75\n",
              "4100        5041.86"
            ]
          },
          "metadata": {
            "tags": []
          },
          "execution_count": 17
        }
      ]
    },
    {
      "cell_type": "code",
      "metadata": {
        "colab": {
          "base_uri": "https://localhost:8080/",
          "height": 235
        },
        "id": "gz-oz5wQt7rv",
        "outputId": "6c01306a-0336-481a-9d57-4311733765a5"
      },
      "source": [
        "res1 = data_task_3.query('amount > 0 and gender == 1').groupby(['tr_type'])['amount'].agg([('max_income', 'max')])\r\n",
        "res1 = res1.sort_values(by=['max_income'], ascending=True)\r\n",
        "res1 = res1.head(5)\r\n",
        "res1"
      ],
      "execution_count": 18,
      "outputs": [
        {
          "output_type": "execute_result",
          "data": {
            "text/html": [
              "<div>\n",
              "<style scoped>\n",
              "    .dataframe tbody tr th:only-of-type {\n",
              "        vertical-align: middle;\n",
              "    }\n",
              "\n",
              "    .dataframe tbody tr th {\n",
              "        vertical-align: top;\n",
              "    }\n",
              "\n",
              "    .dataframe thead th {\n",
              "        text-align: right;\n",
              "    }\n",
              "</style>\n",
              "<table border=\"1\" class=\"dataframe\">\n",
              "  <thead>\n",
              "    <tr style=\"text-align: right;\">\n",
              "      <th></th>\n",
              "      <th>max_income</th>\n",
              "    </tr>\n",
              "    <tr>\n",
              "      <th>tr_type</th>\n",
              "      <th></th>\n",
              "    </tr>\n",
              "  </thead>\n",
              "  <tbody>\n",
              "    <tr>\n",
              "      <th>4110</th>\n",
              "      <td>2245.92</td>\n",
              "    </tr>\n",
              "    <tr>\n",
              "      <th>2020</th>\n",
              "      <td>2245.92</td>\n",
              "    </tr>\n",
              "    <tr>\n",
              "      <th>1010</th>\n",
              "      <td>28803.87</td>\n",
              "    </tr>\n",
              "    <tr>\n",
              "      <th>8100</th>\n",
              "      <td>64682.37</td>\n",
              "    </tr>\n",
              "    <tr>\n",
              "      <th>6000</th>\n",
              "      <td>79280.83</td>\n",
              "    </tr>\n",
              "  </tbody>\n",
              "</table>\n",
              "</div>"
            ],
            "text/plain": [
              "         max_income\n",
              "tr_type            \n",
              "4110        2245.92\n",
              "2020        2245.92\n",
              "1010       28803.87\n",
              "8100       64682.37\n",
              "6000       79280.83"
            ]
          },
          "metadata": {
            "tags": []
          },
          "execution_count": 18
        }
      ]
    },
    {
      "cell_type": "code",
      "metadata": {
        "colab": {
          "base_uri": "https://localhost:8080/",
          "height": 111
        },
        "id": "UprBS6s_vWHH",
        "outputId": "55513f01-9a56-428f-c863-f30bfbf04094"
      },
      "source": [
        "res.merge(res1, on='tr_type', how='inner')"
      ],
      "execution_count": 19,
      "outputs": [
        {
          "output_type": "execute_result",
          "data": {
            "text/html": [
              "<div>\n",
              "<style scoped>\n",
              "    .dataframe tbody tr th:only-of-type {\n",
              "        vertical-align: middle;\n",
              "    }\n",
              "\n",
              "    .dataframe tbody tr th {\n",
              "        vertical-align: top;\n",
              "    }\n",
              "\n",
              "    .dataframe thead th {\n",
              "        text-align: right;\n",
              "    }\n",
              "</style>\n",
              "<table border=\"1\" class=\"dataframe\">\n",
              "  <thead>\n",
              "    <tr style=\"text-align: right;\">\n",
              "      <th></th>\n",
              "      <th>max_income_x</th>\n",
              "      <th>max_income_y</th>\n",
              "    </tr>\n",
              "    <tr>\n",
              "      <th>tr_type</th>\n",
              "      <th></th>\n",
              "      <th></th>\n",
              "    </tr>\n",
              "  </thead>\n",
              "  <tbody>\n",
              "    <tr>\n",
              "      <th>4110</th>\n",
              "      <td>2245.92</td>\n",
              "      <td>2245.92</td>\n",
              "    </tr>\n",
              "  </tbody>\n",
              "</table>\n",
              "</div>"
            ],
            "text/plain": [
              "         max_income_x  max_income_y\n",
              "tr_type                            \n",
              "4110          2245.92       2245.92"
            ]
          },
          "metadata": {
            "tags": []
          },
          "execution_count": 19
        }
      ]
    },
    {
      "cell_type": "code",
      "metadata": {
        "colab": {
          "base_uri": "https://localhost:8080/"
        },
        "id": "7M244R4GR8VV",
        "outputId": "1a6734a0-546b-4faa-ae4e-350f7ca5a5ab"
      },
      "source": [
        "transactions_data[transactions_data['tr_type'] == 4110]['tr_description'].unique()"
      ],
      "execution_count": 20,
      "outputs": [
        {
          "output_type": "execute_result",
          "data": {
            "text/plain": [
              "array(['Плата за получение наличных в АТМ. Россия'], dtype=object)"
            ]
          },
          "metadata": {
            "tags": []
          },
          "execution_count": 20
        }
      ]
    },
    {
      "cell_type": "markdown",
      "metadata": {
        "id": "3VbCzslNOevR"
      },
      "source": [
        "#### Task 4:"
      ]
    },
    {
      "cell_type": "markdown",
      "metadata": {
        "id": "wgt0xElCWWpC"
      },
      "source": [
        "1. Выделите из поля tr_datetime относительный день tr_day (первое число до точного времени). (\\*)\r\n",
        "2. Отфильтруйте строки таким образом, чтобы оставить только те транзакции, у которых в соответствующий относительный день tr_day количество уникальных MCC кодов при транзакциях было больше 75 (можно воспользоваться функцией nunique())\r\n",
        "3. Сгруппируйте полученный отфильтрованный датафрейм по MCC коду и полу, после чего, пронализировав результат, выберите верные варианты ответов ниже (\\**): \r\n",
        "    - 1) gender == 0 - женщины, gender == 1 - мужчины +\r\n",
        "    - 2) gender == 1 - женщины, gender == 0 - мужчины\r\n",
        "    - 3) Абсолютное значение медианы с типом \"Флористика\" (расходов/приходов) у мужчин выше той же медианы у женщин +\r\n",
        "    - 4) Абсолютное значение медианы женских трат (расходов/приходов) на ценные бумаги выше мужских\r\n",
        "    - 5) Абсолютное значение медианы женских трат (расходов/приходов) в категории \"Бары, коктейль-бары, дискотеки, ночные клубы и таверны — места продажи алкогольных напитков\" ниже мужских +\r\n",
        "    \r\n",
        "##### Пояснения:\r\n",
        "(\\*) Для того, чтобы выделить всё, что стоит до первого пробела, можо использовать строковые методы для датафрейма - .str.split(), например. Либо же реализовывать логику выделения подстроки с помощью метода apply. <br>\r\n",
        "(\\**) Понять, какой класс к какому типу транзакций (мужские/женские) относится можно, если поизучать типичные для мужчин/женщин категории и сравнить средние/медианы расходов и/или приходов в них."
      ]
    },
    {
      "cell_type": "code",
      "metadata": {
        "colab": {
          "base_uri": "https://localhost:8080/"
        },
        "id": "O3wk36mrOfC4",
        "outputId": "aec78419-4f43-422e-d0d5-264a3287d0d4"
      },
      "source": [
        "data_task_4 = transactions_data.copy()\r\n",
        "data_task_4['tr_day'] = data_task_4['tr_datetime'].apply(lambda x: str(x).split()[0])\r\n",
        "#984465\r\n",
        "data_uniq_mcc_code = data_task_4.groupby(['tr_day'])['mcc_code'].agg([('uniq', 'nunique')])\r\n",
        "data_task_4 = data_task_4[data_task_4['tr_day'].isin(data_uniq_mcc_code[data_uniq_mcc_code['uniq'] > 75].index)]\r\n",
        "\r\n",
        "#pd.pivot_table(data_task_4, index=['mcc_code', 'gender'])\r\n",
        "data_task_4.groupby(['mcc_code', 'mcc_description', 'gender'])['amount'].mean()"
      ],
      "execution_count": 21,
      "outputs": [
        {
          "output_type": "execute_result",
          "data": {
            "text/plain": [
              "mcc_code  mcc_description                                                      gender\n",
              "742       Ветеринарные услуги                                                  0.0       -31602.281000\n",
              "                                                                               1.0       -42221.046667\n",
              "1711      Генеральные подрядчики по вентиляции, теплоснабжению, и водопроводу  0.0      -674897.690000\n",
              "                                                                               1.0       -15808.038571\n",
              "1731      Подрядчики по электричеству                                          1.0       -55923.300000\n",
              "                                                                                             ...      \n",
              "9311      Налоговые платежи                                                    0.0       -56513.247500\n",
              "                                                                               1.0       -23582.117143\n",
              "9399      Правительственные услуги, нигде ранее не классифицируемые            0.0       -74242.828235\n",
              "                                                                               1.0       -22124.073000\n",
              "9402      Почтовые услуги — только правительство                               1.0        -4581.670000\n",
              "Name: amount, Length: 342, dtype: float64"
            ]
          },
          "metadata": {
            "tags": []
          },
          "execution_count": 21
        }
      ]
    },
    {
      "cell_type": "code",
      "metadata": {
        "colab": {
          "base_uri": "https://localhost:8080/"
        },
        "id": "f2rN4suxio-t",
        "outputId": "298e0523-8791-4188-cabc-18163f1a5528"
      },
      "source": [
        "data_task_4[(data_task_4['gender'] == 1) & (data_task_4['amount'] < 0)]['mcc_description'].value_counts()"
      ],
      "execution_count": 22,
      "outputs": [
        {
          "output_type": "execute_result",
          "data": {
            "text/plain": [
              "Финансовые институты — снятие наличности автоматически                                                                                                        28089\n",
              "Бакалейные магазины, супермаркеты                                                                                                                             23948\n",
              "Звонки с использованием телефонов, считывающих магнитную ленту                                                                                                16917\n",
              "Денежные переводы                                                                                                                                             12948\n",
              "Различные продовольственные магазины — рынки, магазины со спец-ассортиментом, продажа полуфабрикатов, фирменных блюд, продажа с помощью торговых автоматов     8331\n",
              "                                                                                                                                                              ...  \n",
              "Прямой маркетинг — входящий телемаркетинг                                                                                                                         2\n",
              "Почтовые услуги — только правительство                                                                                                                            1\n",
              "Подрядчики по электричеству                                                                                                                                       1\n",
              "Школы — бизнес и секретарей                                                                                                                                       1\n",
              "Агентства по аренде автомобилей                                                                                                                                   1\n",
              "Name: mcc_description, Length: 171, dtype: int64"
            ]
          },
          "metadata": {
            "tags": []
          },
          "execution_count": 22
        }
      ]
    },
    {
      "cell_type": "code",
      "metadata": {
        "colab": {
          "base_uri": "https://localhost:8080/"
        },
        "id": "eq15c4BLi_qA",
        "outputId": "f6e013e4-12a8-4008-851b-0593f7394122"
      },
      "source": [
        "data_task_4[(data_task_4['gender'] == 0) & (data_task_4['amount'] < 0)]['mcc_description'].value_counts()"
      ],
      "execution_count": 23,
      "outputs": [
        {
          "output_type": "execute_result",
          "data": {
            "text/plain": [
              "Финансовые институты — снятие наличности автоматически                                                                                                        27971\n",
              "Бакалейные магазины, супермаркеты                                                                                                                             25478\n",
              "Звонки с использованием телефонов, считывающих магнитную ленту                                                                                                23969\n",
              "Денежные переводы                                                                                                                                             14723\n",
              "Различные продовольственные магазины — рынки, магазины со спец-ассортиментом, продажа полуфабрикатов, фирменных блюд, продажа с помощью торговых автоматов     7798\n",
              "                                                                                                                                                              ...  \n",
              "Агентства по аренде автомобилей                                                                                                                                   1\n",
              "Товары недлительного пользования, не классифицированные ранее                                                                                                     1\n",
              "Генеральные подрядчики по вентиляции, теплоснабжению, и водопроводу                                                                                               1\n",
              "Программирование, обработка данных, интегрированные системы, дизайн                                                                                               1\n",
              "Поставщики грузовиков и запчастей                                                                                                                                 1\n",
              "Name: mcc_description, Length: 170, dtype: int64"
            ]
          },
          "metadata": {
            "tags": []
          },
          "execution_count": 23
        }
      ]
    },
    {
      "cell_type": "code",
      "metadata": {
        "colab": {
          "base_uri": "https://localhost:8080/"
        },
        "id": "61rd56W_lkXS",
        "outputId": "bbe0ecd4-ca49-445a-d4a5-d7d56cdec0d8"
      },
      "source": [
        "data_task_4[data_task_4['mcc_description'] =='Автошины']['gender'].value_counts()"
      ],
      "execution_count": 24,
      "outputs": [
        {
          "output_type": "execute_result",
          "data": {
            "text/plain": [
              "1.0    23\n",
              "0.0     3\n",
              "Name: gender, dtype: int64"
            ]
          },
          "metadata": {
            "tags": []
          },
          "execution_count": 24
        }
      ]
    },
    {
      "cell_type": "code",
      "metadata": {
        "colab": {
          "base_uri": "https://localhost:8080/"
        },
        "id": "bkCMHPNUl2L7",
        "outputId": "28ec5423-fe29-4914-a6ac-1db664186480"
      },
      "source": [
        "mc = 'Салоты красоты и парикмахерские'\r\n",
        "data_task_4[(data_task_4['mcc_description'] == mc) & (data_task_4['gender'] == 1)].shape[0] / data_task_4[(data_task_4['mcc_description'] == mc) & (data_task_4['gender'] == 0)].shape[0]"
      ],
      "execution_count": 25,
      "outputs": [
        {
          "output_type": "execute_result",
          "data": {
            "text/plain": [
              "0.2894736842105263"
            ]
          },
          "metadata": {
            "tags": []
          },
          "execution_count": 25
        }
      ]
    },
    {
      "cell_type": "code",
      "metadata": {
        "colab": {
          "base_uri": "https://localhost:8080/",
          "height": 419
        },
        "id": "ILrFLJa-mwYL",
        "outputId": "ab8ec6ef-082b-45bc-b0e7-16d465b2c829"
      },
      "source": [
        "tr_mcc_codes_gender_percentage = tr_mcc_codes.copy()\r\n",
        "tr_mcc_codes_gender_percentage"
      ],
      "execution_count": 26,
      "outputs": [
        {
          "output_type": "execute_result",
          "data": {
            "text/html": [
              "<div>\n",
              "<style scoped>\n",
              "    .dataframe tbody tr th:only-of-type {\n",
              "        vertical-align: middle;\n",
              "    }\n",
              "\n",
              "    .dataframe tbody tr th {\n",
              "        vertical-align: top;\n",
              "    }\n",
              "\n",
              "    .dataframe thead th {\n",
              "        text-align: right;\n",
              "    }\n",
              "</style>\n",
              "<table border=\"1\" class=\"dataframe\">\n",
              "  <thead>\n",
              "    <tr style=\"text-align: right;\">\n",
              "      <th></th>\n",
              "      <th>mcc_code</th>\n",
              "      <th>mcc_description</th>\n",
              "    </tr>\n",
              "  </thead>\n",
              "  <tbody>\n",
              "    <tr>\n",
              "      <th>0</th>\n",
              "      <td>742</td>\n",
              "      <td>Ветеринарные услуги</td>\n",
              "    </tr>\n",
              "    <tr>\n",
              "      <th>1</th>\n",
              "      <td>1711</td>\n",
              "      <td>Генеральные подрядчики по вентиляции, теплосна...</td>\n",
              "    </tr>\n",
              "    <tr>\n",
              "      <th>2</th>\n",
              "      <td>1731</td>\n",
              "      <td>Подрядчики по электричеству</td>\n",
              "    </tr>\n",
              "    <tr>\n",
              "      <th>3</th>\n",
              "      <td>1799</td>\n",
              "      <td>Подрядчики, специализированная торговля — нигд...</td>\n",
              "    </tr>\n",
              "    <tr>\n",
              "      <th>4</th>\n",
              "      <td>2741</td>\n",
              "      <td>Разнообразные издательства/печатное дело</td>\n",
              "    </tr>\n",
              "    <tr>\n",
              "      <th>...</th>\n",
              "      <td>...</td>\n",
              "      <td>...</td>\n",
              "    </tr>\n",
              "    <tr>\n",
              "      <th>179</th>\n",
              "      <td>9211</td>\n",
              "      <td>Судовые выплаты, включая алименты и детскую по...</td>\n",
              "    </tr>\n",
              "    <tr>\n",
              "      <th>180</th>\n",
              "      <td>9222</td>\n",
              "      <td>Штрафы</td>\n",
              "    </tr>\n",
              "    <tr>\n",
              "      <th>181</th>\n",
              "      <td>9311</td>\n",
              "      <td>Налоговые платежи</td>\n",
              "    </tr>\n",
              "    <tr>\n",
              "      <th>182</th>\n",
              "      <td>9399</td>\n",
              "      <td>Правительственные услуги, нигде ранее не класс...</td>\n",
              "    </tr>\n",
              "    <tr>\n",
              "      <th>183</th>\n",
              "      <td>9402</td>\n",
              "      <td>Почтовые услуги — только правительство</td>\n",
              "    </tr>\n",
              "  </tbody>\n",
              "</table>\n",
              "<p>184 rows × 2 columns</p>\n",
              "</div>"
            ],
            "text/plain": [
              "     mcc_code                                    mcc_description\n",
              "0         742                                Ветеринарные услуги\n",
              "1        1711  Генеральные подрядчики по вентиляции, теплосна...\n",
              "2        1731                        Подрядчики по электричеству\n",
              "3        1799  Подрядчики, специализированная торговля — нигд...\n",
              "4        2741           Разнообразные издательства/печатное дело\n",
              "..        ...                                                ...\n",
              "179      9211  Судовые выплаты, включая алименты и детскую по...\n",
              "180      9222                                             Штрафы\n",
              "181      9311                                  Налоговые платежи\n",
              "182      9399  Правительственные услуги, нигде ранее не класс...\n",
              "183      9402             Почтовые услуги — только правительство\n",
              "\n",
              "[184 rows x 2 columns]"
            ]
          },
          "metadata": {
            "tags": []
          },
          "execution_count": 26
        }
      ]
    },
    {
      "cell_type": "code",
      "metadata": {
        "id": "wcHTYjj-m_fQ"
      },
      "source": [
        "def get_gender_percentage(mcc_in):\r\n",
        "  male = data_task_4[(data_task_4['mcc_description'] == mcc_in) & (data_task_4['gender'] == 1)].shape[0]\r\n",
        "  female = data_task_4[(data_task_4['mcc_description'] == mcc_in) & (data_task_4['gender'] == 0)].shape[0]\r\n",
        "  if female == 0:\r\n",
        "    return male / 1\r\n",
        "  else:\r\n",
        "    return male / female"
      ],
      "execution_count": 27,
      "outputs": []
    },
    {
      "cell_type": "code",
      "metadata": {
        "id": "IRw4JLGapCQG"
      },
      "source": [
        "tr_mcc_codes_gender_percentage['percentage'] = 0\r\n",
        "\r\n",
        "tr_mcc_codes_gender_percentage['percentage'] = tr_mcc_codes_gender_percentage.apply(lambda row : get_gender_percentage(row['mcc_description']), axis = 1) "
      ],
      "execution_count": 28,
      "outputs": []
    },
    {
      "cell_type": "code",
      "metadata": {
        "colab": {
          "base_uri": "https://localhost:8080/"
        },
        "id": "UZwIBTZmVl5J",
        "outputId": "d5941d0f-7855-4d5d-ef99-23bccb0299c0"
      },
      "source": [
        "mcc_to_drop = tr_mcc_codes_gender_percentage[(tr_mcc_codes_gender_percentage['percentage'] >= 0.85) & (tr_mcc_codes_gender_percentage['percentage'] <= 1.2)]\r\n",
        "mcc_to_drop['mcc_code'].values"
      ],
      "execution_count": 29,
      "outputs": [
        {
          "output_type": "execute_result",
          "data": {
            "text/plain": [
              "array([1731, 3351, 4121, 4511, 4829, 4900, 5047, 5192, 5200, 5309, 5311,\n",
              "       5331, 5411, 5422, 5499, 5655, 5713, 5812, 5944, 5964, 5992, 5999,\n",
              "       6011, 7216, 7273, 7299, 7375, 7399, 7523, 7699, 7932, 8244, 8641,\n",
              "       9222, 9402])"
            ]
          },
          "metadata": {
            "tags": []
          },
          "execution_count": 29
        }
      ]
    },
    {
      "cell_type": "code",
      "metadata": {
        "id": "5pP-oQDavffx"
      },
      "source": [
        "tr_mcc_codes_gender_percentage = tr_mcc_codes_gender_percentage[((tr_mcc_codes_gender_percentage['percentage'] < 0.3) \\\r\n",
        "                                                                 | (tr_mcc_codes_gender_percentage['percentage'] > 3))]"
      ],
      "execution_count": 30,
      "outputs": []
    },
    {
      "cell_type": "code",
      "metadata": {
        "id": "m9cmA0niv6il",
        "colab": {
          "base_uri": "https://localhost:8080/"
        },
        "outputId": "c5650343-ad31-4f1e-8d10-cc3d8dfb5443"
      },
      "source": [
        "tr_mcc_codes_gender_percentage['gender'] = 0\r\n",
        "tr_mcc_codes_gender_percentage['gender'] = tr_mcc_codes_gender_percentage.apply(lambda x: 0 if x.percentage < 1.5 else 1, axis=1)"
      ],
      "execution_count": 31,
      "outputs": [
        {
          "output_type": "stream",
          "text": [
            "/usr/local/lib/python3.7/dist-packages/ipykernel_launcher.py:1: SettingWithCopyWarning: \n",
            "A value is trying to be set on a copy of a slice from a DataFrame.\n",
            "Try using .loc[row_indexer,col_indexer] = value instead\n",
            "\n",
            "See the caveats in the documentation: https://pandas.pydata.org/pandas-docs/stable/user_guide/indexing.html#returning-a-view-versus-a-copy\n",
            "  \"\"\"Entry point for launching an IPython kernel.\n",
            "/usr/local/lib/python3.7/dist-packages/ipykernel_launcher.py:2: SettingWithCopyWarning: \n",
            "A value is trying to be set on a copy of a slice from a DataFrame.\n",
            "Try using .loc[row_indexer,col_indexer] = value instead\n",
            "\n",
            "See the caveats in the documentation: https://pandas.pydata.org/pandas-docs/stable/user_guide/indexing.html#returning-a-view-versus-a-copy\n",
            "  \n"
          ],
          "name": "stderr"
        }
      ]
    },
    {
      "cell_type": "code",
      "metadata": {
        "colab": {
          "base_uri": "https://localhost:8080/"
        },
        "id": "cdfjXRWgwQlX",
        "outputId": "64151564-16b8-4dd4-d1fa-5668d6080c45"
      },
      "source": [
        "mas_mcc = tr_mcc_codes_gender_percentage[tr_mcc_codes_gender_percentage.gender == 1]['mcc_code'].values\r\n",
        "#139992.0\r\n",
        "mas_mcc"
      ],
      "execution_count": 32,
      "outputs": [
        {
          "output_type": "execute_result",
          "data": {
            "text/plain": [
              "array([1711, 1799, 2741, 3501, 4131, 5013, 5065, 5072, 5074, 5193, 5199,\n",
              "       5451, 5511, 5532, 5533, 5542, 5571, 5599, 5733, 5734, 5816, 5969,\n",
              "       5970, 6010, 6051, 6211, 7338, 7372, 7512, 7538, 7542, 7841, 7995,\n",
              "       9311, 9399])"
            ]
          },
          "metadata": {
            "tags": []
          },
          "execution_count": 32
        }
      ]
    },
    {
      "cell_type": "code",
      "metadata": {
        "colab": {
          "base_uri": "https://localhost:8080/"
        },
        "id": "VH44kTE6eYP2",
        "outputId": "39014526-cf4e-4113-d3aa-a2d1804c6957"
      },
      "source": [
        "data_task_4[data_task_4['mcc_code'].isin(mas_mcc)]['gender'].value_counts()"
      ],
      "execution_count": 33,
      "outputs": [
        {
          "output_type": "execute_result",
          "data": {
            "text/plain": [
              "1.0    73937\n",
              "0.0    21702\n",
              "Name: gender, dtype: int64"
            ]
          },
          "metadata": {
            "tags": []
          },
          "execution_count": 33
        }
      ]
    },
    {
      "cell_type": "code",
      "metadata": {
        "colab": {
          "base_uri": "https://localhost:8080/",
          "height": 419
        },
        "id": "K9BOLHB40eWj",
        "outputId": "29df8f4e-a71b-4e9c-8664-b196d2117797"
      },
      "source": [
        "data_task_4"
      ],
      "execution_count": 34,
      "outputs": [
        {
          "output_type": "execute_result",
          "data": {
            "text/html": [
              "<div>\n",
              "<style scoped>\n",
              "    .dataframe tbody tr th:only-of-type {\n",
              "        vertical-align: middle;\n",
              "    }\n",
              "\n",
              "    .dataframe tbody tr th {\n",
              "        vertical-align: top;\n",
              "    }\n",
              "\n",
              "    .dataframe thead th {\n",
              "        text-align: right;\n",
              "    }\n",
              "</style>\n",
              "<table border=\"1\" class=\"dataframe\">\n",
              "  <thead>\n",
              "    <tr style=\"text-align: right;\">\n",
              "      <th></th>\n",
              "      <th>customer_id</th>\n",
              "      <th>tr_datetime</th>\n",
              "      <th>mcc_code</th>\n",
              "      <th>tr_type</th>\n",
              "      <th>amount</th>\n",
              "      <th>term_id</th>\n",
              "      <th>mcc_description</th>\n",
              "      <th>tr_description</th>\n",
              "      <th>gender</th>\n",
              "      <th>tr_day</th>\n",
              "    </tr>\n",
              "  </thead>\n",
              "  <tbody>\n",
              "    <tr>\n",
              "      <th>6</th>\n",
              "      <td>39026145</td>\n",
              "      <td>13 11:17:34</td>\n",
              "      <td>4814</td>\n",
              "      <td>1030</td>\n",
              "      <td>-2245.92</td>\n",
              "      <td>NaN</td>\n",
              "      <td>Звонки с использованием телефонов, считывающих...</td>\n",
              "      <td>Оплата услуги. Банкоматы СБ РФ</td>\n",
              "      <td>1.0</td>\n",
              "      <td>13</td>\n",
              "    </tr>\n",
              "    <tr>\n",
              "      <th>7</th>\n",
              "      <td>39026145</td>\n",
              "      <td>18 07:39:05</td>\n",
              "      <td>4814</td>\n",
              "      <td>1030</td>\n",
              "      <td>-2245.92</td>\n",
              "      <td>NaN</td>\n",
              "      <td>Звонки с использованием телефонов, считывающих...</td>\n",
              "      <td>Оплата услуги. Банкоматы СБ РФ</td>\n",
              "      <td>1.0</td>\n",
              "      <td>18</td>\n",
              "    </tr>\n",
              "    <tr>\n",
              "      <th>8</th>\n",
              "      <td>39026145</td>\n",
              "      <td>19 13:24:35</td>\n",
              "      <td>4814</td>\n",
              "      <td>1030</td>\n",
              "      <td>-449.18</td>\n",
              "      <td>NaN</td>\n",
              "      <td>Звонки с использованием телефонов, считывающих...</td>\n",
              "      <td>Оплата услуги. Банкоматы СБ РФ</td>\n",
              "      <td>1.0</td>\n",
              "      <td>19</td>\n",
              "    </tr>\n",
              "    <tr>\n",
              "      <th>9</th>\n",
              "      <td>39026145</td>\n",
              "      <td>19 13:25:31</td>\n",
              "      <td>4814</td>\n",
              "      <td>1030</td>\n",
              "      <td>-1122.96</td>\n",
              "      <td>NaN</td>\n",
              "      <td>Звонки с использованием телефонов, считывающих...</td>\n",
              "      <td>Оплата услуги. Банкоматы СБ РФ</td>\n",
              "      <td>1.0</td>\n",
              "      <td>19</td>\n",
              "    </tr>\n",
              "    <tr>\n",
              "      <th>12</th>\n",
              "      <td>39026145</td>\n",
              "      <td>29 11:29:57</td>\n",
              "      <td>4814</td>\n",
              "      <td>1030</td>\n",
              "      <td>-1122.96</td>\n",
              "      <td>NaN</td>\n",
              "      <td>Звонки с использованием телефонов, считывающих...</td>\n",
              "      <td>Оплата услуги. Банкоматы СБ РФ</td>\n",
              "      <td>1.0</td>\n",
              "      <td>29</td>\n",
              "    </tr>\n",
              "    <tr>\n",
              "      <th>...</th>\n",
              "      <td>...</td>\n",
              "      <td>...</td>\n",
              "      <td>...</td>\n",
              "      <td>...</td>\n",
              "      <td>...</td>\n",
              "      <td>...</td>\n",
              "      <td>...</td>\n",
              "      <td>...</td>\n",
              "      <td>...</td>\n",
              "      <td>...</td>\n",
              "    </tr>\n",
              "    <tr>\n",
              "      <th>999576</th>\n",
              "      <td>9055616</td>\n",
              "      <td>270 23:37:21</td>\n",
              "      <td>3000</td>\n",
              "      <td>6000</td>\n",
              "      <td>570417.69</td>\n",
              "      <td>290594</td>\n",
              "      <td>Авиалинии, авиакомпании</td>\n",
              "      <td>Возврат  покупки. ТУ СБ РФ</td>\n",
              "      <td>0.0</td>\n",
              "      <td>270</td>\n",
              "    </tr>\n",
              "    <tr>\n",
              "      <th>999577</th>\n",
              "      <td>14937933</td>\n",
              "      <td>77 23:37:59</td>\n",
              "      <td>3000</td>\n",
              "      <td>6000</td>\n",
              "      <td>75687.36</td>\n",
              "      <td>NaN</td>\n",
              "      <td>Авиалинии, авиакомпании</td>\n",
              "      <td>Возврат  покупки. ТУ СБ РФ</td>\n",
              "      <td>NaN</td>\n",
              "      <td>77</td>\n",
              "    </tr>\n",
              "    <tr>\n",
              "      <th>999578</th>\n",
              "      <td>61463328</td>\n",
              "      <td>275 23:37:29</td>\n",
              "      <td>3000</td>\n",
              "      <td>6000</td>\n",
              "      <td>286601.31</td>\n",
              "      <td>290594</td>\n",
              "      <td>Авиалинии, авиакомпании</td>\n",
              "      <td>Возврат  покупки. ТУ СБ РФ</td>\n",
              "      <td>NaN</td>\n",
              "      <td>275</td>\n",
              "    </tr>\n",
              "    <tr>\n",
              "      <th>999579</th>\n",
              "      <td>36837532</td>\n",
              "      <td>18 23:38:60</td>\n",
              "      <td>3000</td>\n",
              "      <td>6000</td>\n",
              "      <td>1297824.89</td>\n",
              "      <td>NaN</td>\n",
              "      <td>Авиалинии, авиакомпании</td>\n",
              "      <td>Возврат  покупки. ТУ СБ РФ</td>\n",
              "      <td>NaN</td>\n",
              "      <td>18</td>\n",
              "    </tr>\n",
              "    <tr>\n",
              "      <th>999581</th>\n",
              "      <td>83759123</td>\n",
              "      <td>90 22:40:57</td>\n",
              "      <td>3000</td>\n",
              "      <td>6000</td>\n",
              "      <td>218976.79</td>\n",
              "      <td>NaN</td>\n",
              "      <td>Авиалинии, авиакомпании</td>\n",
              "      <td>Возврат  покупки. ТУ СБ РФ</td>\n",
              "      <td>NaN</td>\n",
              "      <td>90</td>\n",
              "    </tr>\n",
              "  </tbody>\n",
              "</table>\n",
              "<p>612366 rows × 10 columns</p>\n",
              "</div>"
            ],
            "text/plain": [
              "        customer_id   tr_datetime  ...  gender  tr_day\n",
              "6          39026145   13 11:17:34  ...     1.0      13\n",
              "7          39026145   18 07:39:05  ...     1.0      18\n",
              "8          39026145   19 13:24:35  ...     1.0      19\n",
              "9          39026145   19 13:25:31  ...     1.0      19\n",
              "12         39026145   29 11:29:57  ...     1.0      29\n",
              "...             ...           ...  ...     ...     ...\n",
              "999576      9055616  270 23:37:21  ...     0.0     270\n",
              "999577     14937933   77 23:37:59  ...     NaN      77\n",
              "999578     61463328  275 23:37:29  ...     NaN     275\n",
              "999579     36837532   18 23:38:60  ...     NaN      18\n",
              "999581     83759123   90 22:40:57  ...     NaN      90\n",
              "\n",
              "[612366 rows x 10 columns]"
            ]
          },
          "metadata": {
            "tags": []
          },
          "execution_count": 34
        }
      ]
    },
    {
      "cell_type": "code",
      "metadata": {
        "colab": {
          "base_uri": "https://localhost:8080/",
          "height": 419
        },
        "id": "SFvJxzPDeGUS",
        "outputId": "a24c764a-4c32-4d8e-cd4b-9c484ace246e"
      },
      "source": [
        "data_task_4[data_task_4['mcc_code'].isin(mas_mcc)]"
      ],
      "execution_count": 35,
      "outputs": [
        {
          "output_type": "execute_result",
          "data": {
            "text/html": [
              "<div>\n",
              "<style scoped>\n",
              "    .dataframe tbody tr th:only-of-type {\n",
              "        vertical-align: middle;\n",
              "    }\n",
              "\n",
              "    .dataframe tbody tr th {\n",
              "        vertical-align: top;\n",
              "    }\n",
              "\n",
              "    .dataframe thead th {\n",
              "        text-align: right;\n",
              "    }\n",
              "</style>\n",
              "<table border=\"1\" class=\"dataframe\">\n",
              "  <thead>\n",
              "    <tr style=\"text-align: right;\">\n",
              "      <th></th>\n",
              "      <th>customer_id</th>\n",
              "      <th>tr_datetime</th>\n",
              "      <th>mcc_code</th>\n",
              "      <th>tr_type</th>\n",
              "      <th>amount</th>\n",
              "      <th>term_id</th>\n",
              "      <th>mcc_description</th>\n",
              "      <th>tr_description</th>\n",
              "      <th>gender</th>\n",
              "      <th>tr_day</th>\n",
              "    </tr>\n",
              "  </thead>\n",
              "  <tbody>\n",
              "    <tr>\n",
              "      <th>121473</th>\n",
              "      <td>29481052</td>\n",
              "      <td>291 00:00:00</td>\n",
              "      <td>5533</td>\n",
              "      <td>1100</td>\n",
              "      <td>-34268.63</td>\n",
              "      <td>778343</td>\n",
              "      <td>Автозапчасти и аксессуары</td>\n",
              "      <td>Покупка. ТУ  Россия</td>\n",
              "      <td>1.0</td>\n",
              "      <td>291</td>\n",
              "    </tr>\n",
              "    <tr>\n",
              "      <th>121474</th>\n",
              "      <td>29481052</td>\n",
              "      <td>335 00:00:00</td>\n",
              "      <td>5533</td>\n",
              "      <td>1100</td>\n",
              "      <td>-3887.68</td>\n",
              "      <td>778343</td>\n",
              "      <td>Автозапчасти и аксессуары</td>\n",
              "      <td>Покупка. ТУ  Россия</td>\n",
              "      <td>1.0</td>\n",
              "      <td>335</td>\n",
              "    </tr>\n",
              "    <tr>\n",
              "      <th>121475</th>\n",
              "      <td>29481052</td>\n",
              "      <td>342 00:00:00</td>\n",
              "      <td>5533</td>\n",
              "      <td>1100</td>\n",
              "      <td>-32004.30</td>\n",
              "      <td>80298001</td>\n",
              "      <td>Автозапчасти и аксессуары</td>\n",
              "      <td>Покупка. ТУ  Россия</td>\n",
              "      <td>1.0</td>\n",
              "      <td>342</td>\n",
              "    </tr>\n",
              "    <tr>\n",
              "      <th>121476</th>\n",
              "      <td>29481052</td>\n",
              "      <td>395 00:00:00</td>\n",
              "      <td>5533</td>\n",
              "      <td>1100</td>\n",
              "      <td>-24844.99</td>\n",
              "      <td>778343</td>\n",
              "      <td>Автозапчасти и аксессуары</td>\n",
              "      <td>Покупка. ТУ  Россия</td>\n",
              "      <td>1.0</td>\n",
              "      <td>395</td>\n",
              "    </tr>\n",
              "    <tr>\n",
              "      <th>121477</th>\n",
              "      <td>97634522</td>\n",
              "      <td>388 00:00:00</td>\n",
              "      <td>5533</td>\n",
              "      <td>1100</td>\n",
              "      <td>-89387.45</td>\n",
              "      <td>80298001</td>\n",
              "      <td>Автозапчасти и аксессуары</td>\n",
              "      <td>Покупка. ТУ  Россия</td>\n",
              "      <td>1.0</td>\n",
              "      <td>388</td>\n",
              "    </tr>\n",
              "    <tr>\n",
              "      <th>...</th>\n",
              "      <td>...</td>\n",
              "      <td>...</td>\n",
              "      <td>...</td>\n",
              "      <td>...</td>\n",
              "      <td>...</td>\n",
              "      <td>...</td>\n",
              "      <td>...</td>\n",
              "      <td>...</td>\n",
              "      <td>...</td>\n",
              "      <td>...</td>\n",
              "    </tr>\n",
              "    <tr>\n",
              "      <th>998324</th>\n",
              "      <td>20297899</td>\n",
              "      <td>393 00:00:00</td>\n",
              "      <td>7995</td>\n",
              "      <td>6210</td>\n",
              "      <td>11229.58</td>\n",
              "      <td>00000000</td>\n",
              "      <td>Транзакции по азартным играм</td>\n",
              "      <td>Возврат покупки.POS Зарубеж. ТУ</td>\n",
              "      <td>NaN</td>\n",
              "      <td>393</td>\n",
              "    </tr>\n",
              "    <tr>\n",
              "      <th>998325</th>\n",
              "      <td>20297899</td>\n",
              "      <td>395 00:00:00</td>\n",
              "      <td>7995</td>\n",
              "      <td>6210</td>\n",
              "      <td>101066.21</td>\n",
              "      <td>00000000</td>\n",
              "      <td>Транзакции по азартным играм</td>\n",
              "      <td>Возврат покупки.POS Зарубеж. ТУ</td>\n",
              "      <td>NaN</td>\n",
              "      <td>395</td>\n",
              "    </tr>\n",
              "    <tr>\n",
              "      <th>998326</th>\n",
              "      <td>5577042</td>\n",
              "      <td>228 00:00:00</td>\n",
              "      <td>7995</td>\n",
              "      <td>6210</td>\n",
              "      <td>8759.07</td>\n",
              "      <td>00000000</td>\n",
              "      <td>Транзакции по азартным играм</td>\n",
              "      <td>Возврат покупки.POS Зарубеж. ТУ</td>\n",
              "      <td>NaN</td>\n",
              "      <td>228</td>\n",
              "    </tr>\n",
              "    <tr>\n",
              "      <th>998327</th>\n",
              "      <td>24436367</td>\n",
              "      <td>86 00:00:00</td>\n",
              "      <td>7995</td>\n",
              "      <td>6210</td>\n",
              "      <td>63829.82</td>\n",
              "      <td>NaN</td>\n",
              "      <td>Транзакции по азартным играм</td>\n",
              "      <td>Возврат покупки.POS Зарубеж. ТУ</td>\n",
              "      <td>NaN</td>\n",
              "      <td>86</td>\n",
              "    </tr>\n",
              "    <tr>\n",
              "      <th>998329</th>\n",
              "      <td>91073908</td>\n",
              "      <td>332 00:00:00</td>\n",
              "      <td>9399</td>\n",
              "      <td>1510</td>\n",
              "      <td>-7212.76</td>\n",
              "      <td>97751525</td>\n",
              "      <td>Правительственные услуги, нигде ранее не класс...</td>\n",
              "      <td>н/д</td>\n",
              "      <td>0.0</td>\n",
              "      <td>332</td>\n",
              "    </tr>\n",
              "  </tbody>\n",
              "</table>\n",
              "<p>126792 rows × 10 columns</p>\n",
              "</div>"
            ],
            "text/plain": [
              "        customer_id   tr_datetime  ...  gender  tr_day\n",
              "121473     29481052  291 00:00:00  ...     1.0     291\n",
              "121474     29481052  335 00:00:00  ...     1.0     335\n",
              "121475     29481052  342 00:00:00  ...     1.0     342\n",
              "121476     29481052  395 00:00:00  ...     1.0     395\n",
              "121477     97634522  388 00:00:00  ...     1.0     388\n",
              "...             ...           ...  ...     ...     ...\n",
              "998324     20297899  393 00:00:00  ...     NaN     393\n",
              "998325     20297899  395 00:00:00  ...     NaN     395\n",
              "998326      5577042  228 00:00:00  ...     NaN     228\n",
              "998327     24436367   86 00:00:00  ...     NaN      86\n",
              "998329     91073908  332 00:00:00  ...     0.0     332\n",
              "\n",
              "[126792 rows x 10 columns]"
            ]
          },
          "metadata": {
            "tags": []
          },
          "execution_count": 35
        }
      ]
    },
    {
      "cell_type": "code",
      "metadata": {
        "colab": {
          "base_uri": "https://localhost:8080/",
          "height": 365
        },
        "id": "Yhy9lM0KHMDi",
        "outputId": "b65d15e4-0594-4d11-a271-5378359ba809"
      },
      "source": [
        "data_mcc_5533 = data_task_4[(data_task_4['mcc_description'] == 'Автозапчасти и аксессуары') & (data_task_4['amount'] < 0)].groupby('gender').count()\r\n",
        "data_mcc_5533.reset_index(inplace=True)\r\n",
        "\r\n",
        "plt.figure(figsize=(10, 5))\r\n",
        "sns.barplot(data=data_mcc_5533, x='gender', y='amount').set_title('Количество трат женщин и мужчин \\n по категории \"Автозапчасти и аксессуары\"');"
      ],
      "execution_count": 36,
      "outputs": [
        {
          "output_type": "display_data",
          "data": {
            "image/png": "[encoded data removed]",
            "text/plain": [
              "<Figure size 720x360 with 1 Axes>"
            ]
          },
          "metadata": {
            "tags": [],
            "needs_background": "light"
          }
        }
      ]
    },
    {
      "cell_type": "code",
      "metadata": {
        "colab": {
          "base_uri": "https://localhost:8080/",
          "height": 365
        },
        "id": "hm_NcRIVJA8n",
        "outputId": "fe0a008a-fccd-4888-cea2-e87afcd9cd88"
      },
      "source": [
        "data_mcc_7230 = data_task_4[(data_task_4['mcc_description'] == 'Салоты красоты и парикмахерские') & (data_task_4['amount'] < 0)].groupby('gender').count()\r\n",
        "data_mcc_7230.reset_index(inplace=True)\r\n",
        "\r\n",
        "plt.figure(figsize=(10, 5))\r\n",
        "sns.barplot(data=data_mcc_7230, x='gender', y='amount').set_title('Количество трат женщин и мужчин \\n по категории \"Салоты красоты и парикмахерские\"');"
      ],
      "execution_count": 37,
      "outputs": [
        {
          "output_type": "display_data",
          "data": {
            "image/png": "[encoded data removed]",
            "text/plain": [
              "<Figure size 720x360 with 1 Axes>"
            ]
          },
          "metadata": {
            "tags": [],
            "needs_background": "light"
          }
        }
      ]
    },
    {
      "cell_type": "code",
      "metadata": {
        "colab": {
          "base_uri": "https://localhost:8080/",
          "height": 350
        },
        "id": "YIHzXojRfOWa",
        "outputId": "744aff77-ee33-42d6-f31b-a6764d4dc1f2"
      },
      "source": [
        "data_mcc_5992 = data_task_4[(data_task_4['mcc_description'] == 'Флористика')].groupby('gender')['amount'].median().abs()\r\n",
        "data_mcc_5992 = data_mcc_5992.to_frame()\r\n",
        "data_mcc_5992.reset_index(inplace=True)\r\n",
        "\r\n",
        "plt.figure(figsize=(10, 5))\r\n",
        "sns.barplot(data=data_mcc_5992, x='gender', y='amount').set_title('Абсолютные значения медиан по категории \"Флористика\" у женщин и мужчин');"
      ],
      "execution_count": 38,
      "outputs": [
        {
          "output_type": "display_data",
          "data": {
            "image/png": "[encoded data removed]",
            "text/plain": [
              "<Figure size 720x360 with 1 Axes>"
            ]
          },
          "metadata": {
            "tags": [],
            "needs_background": "light"
          }
        }
      ]
    },
    {
      "cell_type": "code",
      "metadata": {
        "colab": {
          "base_uri": "https://localhost:8080/",
          "height": 365
        },
        "id": "0e4yFCNwn2RU",
        "outputId": "9904d827-c6a1-45b4-a514-15c4d08bc753"
      },
      "source": [
        "data_task_4[data_task_4['mcc_description'] == 'Ценные бумаги: брокеры/дилеры']\r\n",
        "\r\n",
        "data_mcc_6211 = data_task_4[data_task_4['mcc_description'] == 'Ценные бумаги: брокеры/дилеры'].groupby('gender')['amount'].median().abs()\r\n",
        "data_mcc_6211 = data_mcc_6211.to_frame()\r\n",
        "data_mcc_6211.reset_index(inplace=True)\r\n",
        "\r\n",
        "plt.figure(figsize=(10, 5))\r\n",
        "sns.barplot(data=data_mcc_6211, x='gender', y='amount').set_title('Абсолютные значения медиан по категории \\n \"Ценные бумаги: брокеры/дилеры\" у женщин и мужчин');"
      ],
      "execution_count": 39,
      "outputs": [
        {
          "output_type": "display_data",
          "data": {
            "image/png": "[encoded data removed]",
            "text/plain": [
              "<Figure size 720x360 with 1 Axes>"
            ]
          },
          "metadata": {
            "tags": [],
            "needs_background": "light"
          }
        }
      ]
    },
    {
      "cell_type": "code",
      "metadata": {
        "colab": {
          "base_uri": "https://localhost:8080/",
          "height": 380
        },
        "id": "FbHYpm0jsNSZ",
        "outputId": "c597409c-49f5-40a5-9ec3-a767913432b2"
      },
      "source": [
        "data_mcc_5813 = data_task_4[data_task_4['mcc_description'] == 'Бары, коктейль-бары, дискотеки, ночные клубы и таверны — места продажи алкогольных напитков'].groupby('gender')['amount'].median().abs()\r\n",
        "data_mcc_5813 = data_mcc_5813.to_frame()\r\n",
        "data_mcc_5813.reset_index(inplace=True)\r\n",
        "\r\n",
        "plt.figure(figsize=(10, 5))\r\n",
        "sns.barplot(data=data_mcc_5813, x='gender', y='amount').set_title('Абсолютные значения медиан по категории \\n \"Бары, коктейль-бары, дискотеки, ночные клубы и таверны — места продажи алкогольных напитков\" \\n у женщин и мужчин');"
      ],
      "execution_count": 40,
      "outputs": [
        {
          "output_type": "display_data",
          "data": {
            "image/png": "[encoded data removed]",
            "text/plain": [
              "<Figure size 720x360 with 1 Axes>"
            ]
          },
          "metadata": {
            "tags": [],
            "needs_background": "light"
          }
        }
      ]
    },
    {
      "cell_type": "markdown",
      "metadata": {
        "id": "0L_bHDYGOgr8"
      },
      "source": [
        "### Task 5:"
      ]
    },
    {
      "cell_type": "markdown",
      "metadata": {
        "id": "kssYjSn9WbDu"
      },
      "source": [
        "1. Разбейте расходы (отрицательные значения сумм) на 5 бакетов amount_bucket равного объёма (с помощью pd.qcut), разбив все траты на категории 'Very High', 'High', 'Middle', 'Low', 'Very Low'. (\\*)\r\n",
        "2. Оставшиеся неотрицательные траты отнесите к категории 'Income'.\r\n",
        "(воспользуйтесь функцией .cat.add_categories('Income') для того, чтобы добавить новую категорию 'Income' к категориям 'Very High', 'High', 'Middle', 'Low', 'Very Low', а затем заполните пустые значения новой категорией).\r\n",
        "3. Из поля tr_datetime выделите час tr_hour, в который произошла транзакция, как первые 2 цифры до \":\". (\\**)\r\n",
        "3. После этого постройте сводную таблицу, значениями в которой является пол gender, индексы - tr_hour, столбцы - amount_bucket.\r\n",
        "4. Отрисуйте полученные результаты.\r\n",
        "5. Выберите верные ответы на вопросы ниже.\r\n",
        "\r\n",
        "#### Вопросы:\r\n",
        "    - 1) Ночные поступления денег (01-05 часов) в более чем 85% случаев являются мужскими.\r\n",
        "    - 2) Посмотрев на долю мужчин в поступлениях средств (Income), можно сделать вывод, что количество поступлений средств женщинам в целом больше, чем мужчинам.\r\n",
        "    - 3) Самые низкие траты в 3 часа ночи осуществляются в более 70% случаев женщинами.\r\n",
        "    - 4) Существуют особые часы в мелких тратах, когда женщины тратят намного больше мужчин (>80%)\r\n",
        "    - 5) Посмотрев на долю мужчин в максимальных тратах средств (Very High), можно сделать вывод, что количество высоких трат в каждый возможный час мужчин больше, чем у женщин.\r\n",
        "\r\n",
        "##### Пояснения:\r\n",
        "(\\*) Обратите внимание, что в категории Very High Должны оказаться максимальные по модулю отрицательные транзакции. <br>\r\n",
        "(\\**) Например, для строки \"0 10:23:26\" час будет равен 10, а для строки \"6 07:08:31\"- 07. Можно воспользоваться функциями str.split() или str.find() и \r\n",
        "функцией .apply(lambda x: x[])"
      ]
    },
    {
      "cell_type": "code",
      "metadata": {
        "id": "F2dAwOAgOg5z",
        "colab": {
          "base_uri": "https://localhost:8080/"
        },
        "outputId": "b9d9b9bc-e65d-44b6-d0cb-c219323f258f"
      },
      "source": [
        "data_task_5 = transactions_data.copy()\r\n",
        "data_task_5['amount']"
      ],
      "execution_count": 41,
      "outputs": [
        {
          "output_type": "execute_result",
          "data": {
            "text/plain": [
              "0           -2245.92\n",
              "1           -5614.79\n",
              "2           -1122.96\n",
              "3           -2245.92\n",
              "4           -2245.92\n",
              "             ...    \n",
              "999579    1297824.89\n",
              "999580     124693.24\n",
              "999581     218976.79\n",
              "999582     408307.49\n",
              "999583     204153.74\n",
              "Name: amount, Length: 999584, dtype: float64"
            ]
          },
          "metadata": {
            "tags": []
          },
          "execution_count": 41
        }
      ]
    },
    {
      "cell_type": "code",
      "metadata": {
        "colab": {
          "base_uri": "https://localhost:8080/",
          "height": 419
        },
        "id": "2UOjPP8uxuP_",
        "outputId": "c0f772b8-f833-4f2c-f6fd-b2a853fda8d0"
      },
      "source": [
        "data_task_5.sort_values('amount', inplace=True)\r\n",
        "data_task_5['amount_bucket'] = pd.qcut(data_task_5[data_task_5['amount'] < 0]['amount'].abs(), 5, labels=['Very Low', 'Low','Middle','High','Very High'])\r\n",
        "data_task_5['amount_bucket'] = data_task_5['amount_bucket'].cat.add_categories('Income').fillna('Income') \r\n",
        "data_task_5"
      ],
      "execution_count": 42,
      "outputs": [
        {
          "output_type": "execute_result",
          "data": {
            "text/html": [
              "<div>\n",
              "<style scoped>\n",
              "    .dataframe tbody tr th:only-of-type {\n",
              "        vertical-align: middle;\n",
              "    }\n",
              "\n",
              "    .dataframe tbody tr th {\n",
              "        vertical-align: top;\n",
              "    }\n",
              "\n",
              "    .dataframe thead th {\n",
              "        text-align: right;\n",
              "    }\n",
              "</style>\n",
              "<table border=\"1\" class=\"dataframe\">\n",
              "  <thead>\n",
              "    <tr style=\"text-align: right;\">\n",
              "      <th></th>\n",
              "      <th>customer_id</th>\n",
              "      <th>tr_datetime</th>\n",
              "      <th>mcc_code</th>\n",
              "      <th>tr_type</th>\n",
              "      <th>amount</th>\n",
              "      <th>term_id</th>\n",
              "      <th>mcc_description</th>\n",
              "      <th>tr_description</th>\n",
              "      <th>gender</th>\n",
              "      <th>amount_bucket</th>\n",
              "    </tr>\n",
              "  </thead>\n",
              "  <tbody>\n",
              "    <tr>\n",
              "      <th>746087</th>\n",
              "      <td>26782922</td>\n",
              "      <td>151 11:35:21</td>\n",
              "      <td>4829</td>\n",
              "      <td>2370</td>\n",
              "      <td>-1.459845e+08</td>\n",
              "      <td>NaN</td>\n",
              "      <td>Денежные переводы</td>\n",
              "      <td>Списание с карты на карту по операции &lt;перевод...</td>\n",
              "      <td>1.0</td>\n",
              "      <td>Very High</td>\n",
              "    </tr>\n",
              "    <tr>\n",
              "      <th>733936</th>\n",
              "      <td>19950741</td>\n",
              "      <td>143 14:08:16</td>\n",
              "      <td>4829</td>\n",
              "      <td>2370</td>\n",
              "      <td>-1.347549e+08</td>\n",
              "      <td>NaN</td>\n",
              "      <td>Денежные переводы</td>\n",
              "      <td>Списание с карты на карту по операции &lt;перевод...</td>\n",
              "      <td>1.0</td>\n",
              "      <td>Very High</td>\n",
              "    </tr>\n",
              "    <tr>\n",
              "      <th>735026</th>\n",
              "      <td>40917212</td>\n",
              "      <td>43 17:10:25</td>\n",
              "      <td>4829</td>\n",
              "      <td>2370</td>\n",
              "      <td>-6.737747e+07</td>\n",
              "      <td>NaN</td>\n",
              "      <td>Денежные переводы</td>\n",
              "      <td>Списание с карты на карту по операции &lt;перевод...</td>\n",
              "      <td>0.0</td>\n",
              "      <td>Very High</td>\n",
              "    </tr>\n",
              "    <tr>\n",
              "      <th>763340</th>\n",
              "      <td>77695202</td>\n",
              "      <td>132 14:07:34</td>\n",
              "      <td>4829</td>\n",
              "      <td>2370</td>\n",
              "      <td>-6.094944e+07</td>\n",
              "      <td>NaN</td>\n",
              "      <td>Денежные переводы</td>\n",
              "      <td>Списание с карты на карту по операции &lt;перевод...</td>\n",
              "      <td>0.0</td>\n",
              "      <td>Very High</td>\n",
              "    </tr>\n",
              "    <tr>\n",
              "      <th>733938</th>\n",
              "      <td>19950741</td>\n",
              "      <td>144 10:00:33</td>\n",
              "      <td>4829</td>\n",
              "      <td>2370</td>\n",
              "      <td>-5.176836e+07</td>\n",
              "      <td>NaN</td>\n",
              "      <td>Денежные переводы</td>\n",
              "      <td>Списание с карты на карту по операции &lt;перевод...</td>\n",
              "      <td>1.0</td>\n",
              "      <td>Very High</td>\n",
              "    </tr>\n",
              "    <tr>\n",
              "      <th>...</th>\n",
              "      <td>...</td>\n",
              "      <td>...</td>\n",
              "      <td>...</td>\n",
              "      <td>...</td>\n",
              "      <td>...</td>\n",
              "      <td>...</td>\n",
              "      <td>...</td>\n",
              "      <td>...</td>\n",
              "      <td>...</td>\n",
              "      <td>...</td>\n",
              "    </tr>\n",
              "    <tr>\n",
              "      <th>923980</th>\n",
              "      <td>77695202</td>\n",
              "      <td>132 14:07:18</td>\n",
              "      <td>6010</td>\n",
              "      <td>7070</td>\n",
              "      <td>6.123489e+07</td>\n",
              "      <td>NaN</td>\n",
              "      <td>Финансовые институты — снятие наличности вручную</td>\n",
              "      <td>Перевод на карту (с карты) через Мобильный бан...</td>\n",
              "      <td>0.0</td>\n",
              "      <td>Income</td>\n",
              "    </tr>\n",
              "    <tr>\n",
              "      <th>810165</th>\n",
              "      <td>40917212</td>\n",
              "      <td>43 17:10:40</td>\n",
              "      <td>6010</td>\n",
              "      <td>7070</td>\n",
              "      <td>6.737747e+07</td>\n",
              "      <td>NaN</td>\n",
              "      <td>Финансовые институты — снятие наличности вручную</td>\n",
              "      <td>Перевод на карту (с карты) через Мобильный бан...</td>\n",
              "      <td>0.0</td>\n",
              "      <td>Income</td>\n",
              "    </tr>\n",
              "    <tr>\n",
              "      <th>799288</th>\n",
              "      <td>82581973</td>\n",
              "      <td>192 18:18:17</td>\n",
              "      <td>6010</td>\n",
              "      <td>7020</td>\n",
              "      <td>6.737747e+07</td>\n",
              "      <td>NaN</td>\n",
              "      <td>Финансовые институты — снятие наличности вручную</td>\n",
              "      <td>Взнос наличных через POS</td>\n",
              "      <td>NaN</td>\n",
              "      <td>Income</td>\n",
              "    </tr>\n",
              "    <tr>\n",
              "      <th>809240</th>\n",
              "      <td>19950741</td>\n",
              "      <td>143 14:08:24</td>\n",
              "      <td>6010</td>\n",
              "      <td>7070</td>\n",
              "      <td>1.347549e+08</td>\n",
              "      <td>NaN</td>\n",
              "      <td>Финансовые институты — снятие наличности вручную</td>\n",
              "      <td>Перевод на карту (с карты) через Мобильный бан...</td>\n",
              "      <td>1.0</td>\n",
              "      <td>Income</td>\n",
              "    </tr>\n",
              "    <tr>\n",
              "      <th>816947</th>\n",
              "      <td>26782922</td>\n",
              "      <td>151 11:35:44</td>\n",
              "      <td>6010</td>\n",
              "      <td>7070</td>\n",
              "      <td>1.459845e+08</td>\n",
              "      <td>NaN</td>\n",
              "      <td>Финансовые институты — снятие наличности вручную</td>\n",
              "      <td>Перевод на карту (с карты) через Мобильный бан...</td>\n",
              "      <td>1.0</td>\n",
              "      <td>Income</td>\n",
              "    </tr>\n",
              "  </tbody>\n",
              "</table>\n",
              "<p>999584 rows × 10 columns</p>\n",
              "</div>"
            ],
            "text/plain": [
              "        customer_id   tr_datetime  ...  gender  amount_bucket\n",
              "746087     26782922  151 11:35:21  ...     1.0      Very High\n",
              "733936     19950741  143 14:08:16  ...     1.0      Very High\n",
              "735026     40917212   43 17:10:25  ...     0.0      Very High\n",
              "763340     77695202  132 14:07:34  ...     0.0      Very High\n",
              "733938     19950741  144 10:00:33  ...     1.0      Very High\n",
              "...             ...           ...  ...     ...            ...\n",
              "923980     77695202  132 14:07:18  ...     0.0         Income\n",
              "810165     40917212   43 17:10:40  ...     0.0         Income\n",
              "799288     82581973  192 18:18:17  ...     NaN         Income\n",
              "809240     19950741  143 14:08:24  ...     1.0         Income\n",
              "816947     26782922  151 11:35:44  ...     1.0         Income\n",
              "\n",
              "[999584 rows x 10 columns]"
            ]
          },
          "metadata": {
            "tags": []
          },
          "execution_count": 42
        }
      ]
    },
    {
      "cell_type": "code",
      "metadata": {
        "id": "2R6ko1bdBwvL"
      },
      "source": [
        "data_task_5['tr_hour'] = data_task_5['tr_datetime'].apply(lambda x: (str(x).split()[1]).split(':')[0])"
      ],
      "execution_count": 43,
      "outputs": []
    },
    {
      "cell_type": "markdown",
      "metadata": {
        "id": "8-o3C6eEDp8i"
      },
      "source": [
        "После этого постройте сводную таблицу, значениями в которой является пол gender, индексы - tr_hour, столбцы - amount_bucket."
      ]
    },
    {
      "cell_type": "code",
      "metadata": {
        "colab": {
          "base_uri": "https://localhost:8080/",
          "height": 824
        },
        "id": "pFaJUeBvDqZ7",
        "outputId": "1340c649-e227-49d8-ea0a-0e41b6a172a4"
      },
      "source": [
        "data_pivot = pd.pivot_table(data_task_5, values='gender', index='tr_hour', columns='amount_bucket')\r\n",
        "data_pivot"
      ],
      "execution_count": 44,
      "outputs": [
        {
          "output_type": "execute_result",
          "data": {
            "text/html": [
              "<div>\n",
              "<style scoped>\n",
              "    .dataframe tbody tr th:only-of-type {\n",
              "        vertical-align: middle;\n",
              "    }\n",
              "\n",
              "    .dataframe tbody tr th {\n",
              "        vertical-align: top;\n",
              "    }\n",
              "\n",
              "    .dataframe thead th {\n",
              "        text-align: right;\n",
              "    }\n",
              "</style>\n",
              "<table border=\"1\" class=\"dataframe\">\n",
              "  <thead>\n",
              "    <tr style=\"text-align: right;\">\n",
              "      <th>amount_bucket</th>\n",
              "      <th>Very Low</th>\n",
              "      <th>Low</th>\n",
              "      <th>Middle</th>\n",
              "      <th>High</th>\n",
              "      <th>Very High</th>\n",
              "      <th>Income</th>\n",
              "    </tr>\n",
              "    <tr>\n",
              "      <th>tr_hour</th>\n",
              "      <th></th>\n",
              "      <th></th>\n",
              "      <th></th>\n",
              "      <th></th>\n",
              "      <th></th>\n",
              "      <th></th>\n",
              "    </tr>\n",
              "  </thead>\n",
              "  <tbody>\n",
              "    <tr>\n",
              "      <th>00</th>\n",
              "      <td>0.518077</td>\n",
              "      <td>0.545985</td>\n",
              "      <td>0.529169</td>\n",
              "      <td>0.584530</td>\n",
              "      <td>0.573933</td>\n",
              "      <td>0.737148</td>\n",
              "    </tr>\n",
              "    <tr>\n",
              "      <th>01</th>\n",
              "      <td>0.450237</td>\n",
              "      <td>0.534704</td>\n",
              "      <td>0.600000</td>\n",
              "      <td>0.586207</td>\n",
              "      <td>0.591837</td>\n",
              "      <td>0.965922</td>\n",
              "    </tr>\n",
              "    <tr>\n",
              "      <th>02</th>\n",
              "      <td>0.349099</td>\n",
              "      <td>0.388128</td>\n",
              "      <td>0.511538</td>\n",
              "      <td>0.437276</td>\n",
              "      <td>0.539130</td>\n",
              "      <td>0.965834</td>\n",
              "    </tr>\n",
              "    <tr>\n",
              "      <th>03</th>\n",
              "      <td>0.284333</td>\n",
              "      <td>0.392749</td>\n",
              "      <td>0.403599</td>\n",
              "      <td>0.386091</td>\n",
              "      <td>0.548110</td>\n",
              "      <td>0.945011</td>\n",
              "    </tr>\n",
              "    <tr>\n",
              "      <th>04</th>\n",
              "      <td>0.289447</td>\n",
              "      <td>0.464474</td>\n",
              "      <td>0.404959</td>\n",
              "      <td>0.427002</td>\n",
              "      <td>0.525287</td>\n",
              "      <td>0.914473</td>\n",
              "    </tr>\n",
              "    <tr>\n",
              "      <th>05</th>\n",
              "      <td>0.374408</td>\n",
              "      <td>0.379579</td>\n",
              "      <td>0.444327</td>\n",
              "      <td>0.458654</td>\n",
              "      <td>0.524961</td>\n",
              "      <td>0.880842</td>\n",
              "    </tr>\n",
              "    <tr>\n",
              "      <th>06</th>\n",
              "      <td>0.365524</td>\n",
              "      <td>0.431141</td>\n",
              "      <td>0.416905</td>\n",
              "      <td>0.459900</td>\n",
              "      <td>0.525683</td>\n",
              "      <td>0.815352</td>\n",
              "    </tr>\n",
              "    <tr>\n",
              "      <th>07</th>\n",
              "      <td>0.412671</td>\n",
              "      <td>0.448400</td>\n",
              "      <td>0.476474</td>\n",
              "      <td>0.464253</td>\n",
              "      <td>0.523159</td>\n",
              "      <td>0.757958</td>\n",
              "    </tr>\n",
              "    <tr>\n",
              "      <th>08</th>\n",
              "      <td>0.432481</td>\n",
              "      <td>0.454677</td>\n",
              "      <td>0.456548</td>\n",
              "      <td>0.477457</td>\n",
              "      <td>0.562624</td>\n",
              "      <td>0.725043</td>\n",
              "    </tr>\n",
              "    <tr>\n",
              "      <th>09</th>\n",
              "      <td>0.406236</td>\n",
              "      <td>0.434328</td>\n",
              "      <td>0.447943</td>\n",
              "      <td>0.483321</td>\n",
              "      <td>0.523545</td>\n",
              "      <td>0.728651</td>\n",
              "    </tr>\n",
              "    <tr>\n",
              "      <th>10</th>\n",
              "      <td>0.431076</td>\n",
              "      <td>0.451857</td>\n",
              "      <td>0.446708</td>\n",
              "      <td>0.461718</td>\n",
              "      <td>0.538854</td>\n",
              "      <td>0.725908</td>\n",
              "    </tr>\n",
              "    <tr>\n",
              "      <th>11</th>\n",
              "      <td>0.395282</td>\n",
              "      <td>0.451092</td>\n",
              "      <td>0.441044</td>\n",
              "      <td>0.473327</td>\n",
              "      <td>0.527293</td>\n",
              "      <td>0.722264</td>\n",
              "    </tr>\n",
              "    <tr>\n",
              "      <th>12</th>\n",
              "      <td>0.406751</td>\n",
              "      <td>0.477087</td>\n",
              "      <td>0.449622</td>\n",
              "      <td>0.469460</td>\n",
              "      <td>0.525027</td>\n",
              "      <td>0.749237</td>\n",
              "    </tr>\n",
              "    <tr>\n",
              "      <th>13</th>\n",
              "      <td>0.406658</td>\n",
              "      <td>0.429835</td>\n",
              "      <td>0.435099</td>\n",
              "      <td>0.454638</td>\n",
              "      <td>0.514701</td>\n",
              "      <td>0.763304</td>\n",
              "    </tr>\n",
              "    <tr>\n",
              "      <th>14</th>\n",
              "      <td>0.413432</td>\n",
              "      <td>0.460629</td>\n",
              "      <td>0.450418</td>\n",
              "      <td>0.469821</td>\n",
              "      <td>0.509852</td>\n",
              "      <td>0.770755</td>\n",
              "    </tr>\n",
              "    <tr>\n",
              "      <th>15</th>\n",
              "      <td>0.409697</td>\n",
              "      <td>0.438338</td>\n",
              "      <td>0.444648</td>\n",
              "      <td>0.452015</td>\n",
              "      <td>0.524158</td>\n",
              "      <td>0.761136</td>\n",
              "    </tr>\n",
              "    <tr>\n",
              "      <th>16</th>\n",
              "      <td>0.399594</td>\n",
              "      <td>0.431265</td>\n",
              "      <td>0.453120</td>\n",
              "      <td>0.467530</td>\n",
              "      <td>0.528298</td>\n",
              "      <td>0.735235</td>\n",
              "    </tr>\n",
              "    <tr>\n",
              "      <th>17</th>\n",
              "      <td>0.444328</td>\n",
              "      <td>0.499616</td>\n",
              "      <td>0.499914</td>\n",
              "      <td>0.480714</td>\n",
              "      <td>0.562526</td>\n",
              "      <td>0.631241</td>\n",
              "    </tr>\n",
              "    <tr>\n",
              "      <th>18</th>\n",
              "      <td>0.484196</td>\n",
              "      <td>0.522271</td>\n",
              "      <td>0.512295</td>\n",
              "      <td>0.494899</td>\n",
              "      <td>0.537228</td>\n",
              "      <td>0.547744</td>\n",
              "    </tr>\n",
              "    <tr>\n",
              "      <th>19</th>\n",
              "      <td>0.472654</td>\n",
              "      <td>0.551169</td>\n",
              "      <td>0.538938</td>\n",
              "      <td>0.540511</td>\n",
              "      <td>0.557223</td>\n",
              "      <td>0.507789</td>\n",
              "    </tr>\n",
              "    <tr>\n",
              "      <th>20</th>\n",
              "      <td>0.470762</td>\n",
              "      <td>0.566679</td>\n",
              "      <td>0.559891</td>\n",
              "      <td>0.539670</td>\n",
              "      <td>0.589074</td>\n",
              "      <td>0.492320</td>\n",
              "    </tr>\n",
              "    <tr>\n",
              "      <th>21</th>\n",
              "      <td>0.466604</td>\n",
              "      <td>0.609573</td>\n",
              "      <td>0.581034</td>\n",
              "      <td>0.566899</td>\n",
              "      <td>0.616000</td>\n",
              "      <td>0.515667</td>\n",
              "    </tr>\n",
              "    <tr>\n",
              "      <th>22</th>\n",
              "      <td>0.444025</td>\n",
              "      <td>0.630920</td>\n",
              "      <td>0.642713</td>\n",
              "      <td>0.623608</td>\n",
              "      <td>0.626243</td>\n",
              "      <td>0.612475</td>\n",
              "    </tr>\n",
              "    <tr>\n",
              "      <th>23</th>\n",
              "      <td>0.407650</td>\n",
              "      <td>0.596715</td>\n",
              "      <td>0.687500</td>\n",
              "      <td>0.619385</td>\n",
              "      <td>0.592105</td>\n",
              "      <td>0.763496</td>\n",
              "    </tr>\n",
              "  </tbody>\n",
              "</table>\n",
              "</div>"
            ],
            "text/plain": [
              "amount_bucket  Very Low       Low    Middle      High  Very High    Income\n",
              "tr_hour                                                                   \n",
              "00             0.518077  0.545985  0.529169  0.584530   0.573933  0.737148\n",
              "01             0.450237  0.534704  0.600000  0.586207   0.591837  0.965922\n",
              "02             0.349099  0.388128  0.511538  0.437276   0.539130  0.965834\n",
              "03             0.284333  0.392749  0.403599  0.386091   0.548110  0.945011\n",
              "04             0.289447  0.464474  0.404959  0.427002   0.525287  0.914473\n",
              "05             0.374408  0.379579  0.444327  0.458654   0.524961  0.880842\n",
              "06             0.365524  0.431141  0.416905  0.459900   0.525683  0.815352\n",
              "07             0.412671  0.448400  0.476474  0.464253   0.523159  0.757958\n",
              "08             0.432481  0.454677  0.456548  0.477457   0.562624  0.725043\n",
              "09             0.406236  0.434328  0.447943  0.483321   0.523545  0.728651\n",
              "10             0.431076  0.451857  0.446708  0.461718   0.538854  0.725908\n",
              "11             0.395282  0.451092  0.441044  0.473327   0.527293  0.722264\n",
              "12             0.406751  0.477087  0.449622  0.469460   0.525027  0.749237\n",
              "13             0.406658  0.429835  0.435099  0.454638   0.514701  0.763304\n",
              "14             0.413432  0.460629  0.450418  0.469821   0.509852  0.770755\n",
              "15             0.409697  0.438338  0.444648  0.452015   0.524158  0.761136\n",
              "16             0.399594  0.431265  0.453120  0.467530   0.528298  0.735235\n",
              "17             0.444328  0.499616  0.499914  0.480714   0.562526  0.631241\n",
              "18             0.484196  0.522271  0.512295  0.494899   0.537228  0.547744\n",
              "19             0.472654  0.551169  0.538938  0.540511   0.557223  0.507789\n",
              "20             0.470762  0.566679  0.559891  0.539670   0.589074  0.492320\n",
              "21             0.466604  0.609573  0.581034  0.566899   0.616000  0.515667\n",
              "22             0.444025  0.630920  0.642713  0.623608   0.626243  0.612475\n",
              "23             0.407650  0.596715  0.687500  0.619385   0.592105  0.763496"
            ]
          },
          "metadata": {
            "tags": []
          },
          "execution_count": 44
        }
      ]
    },
    {
      "cell_type": "code",
      "metadata": {
        "id": "2SW7bRz_ECWk"
      },
      "source": [
        "def plot_pivot_table(pivot_table):\r\n",
        "    plt.figure(figsize=(15, 15))\r\n",
        "    sns.heatmap(pivot_table, cmap=\"YlGnBu\", annot=True, \r\n",
        "                fmt='.3g', annot_kws={\"size\": 14, \"fontsize\": 14})\r\n",
        "    plt.xticks(fontsize=15)\r\n",
        "    plt.yticks(rotation=0, fontsize=15)\r\n",
        "    plt.xlabel('Bucket', size=18)\r\n",
        "    plt.ylabel('Hour', fontsize=18)\r\n",
        "    plt.title('Gender analysis per bucket and hour', fontsize=20)\r\n",
        "    plt.show()"
      ],
      "execution_count": 45,
      "outputs": []
    },
    {
      "cell_type": "code",
      "metadata": {
        "colab": {
          "base_uri": "https://localhost:8080/",
          "height": 911
        },
        "id": "p6SKkkZmEL7B",
        "outputId": "86d80b7a-0af8-4765-bd7a-001eb5e197ab"
      },
      "source": [
        "plot_pivot_table(data_pivot)"
      ],
      "execution_count": 46,
      "outputs": [
        {
          "output_type": "display_data",
          "data": {
            "image/png": "[encoded data removed]",
            "text/plain": [
              "<Figure size 1080x1080 with 2 Axes>"
            ]
          },
          "metadata": {
            "tags": [],
            "needs_background": "light"
          }
        }
      ]
    },
    {
      "cell_type": "markdown",
      "metadata": {
        "id": "fN9L22ozOiwi"
      },
      "source": [
        "### Task 6:"
      ]
    },
    {
      "cell_type": "markdown",
      "metadata": {
        "id": "wgKY_sHIWt7L"
      },
      "source": [
        "1. Измените тип поля tr_day на int.\r\n",
        "2. Выберите из transactions все MCC коды, которые встретились в выборке более чем 60000 раз.\r\n",
        "3. Сгруппируйте отфильтрованный датафрейм по дню и MCC-коду, получая средние значения суммы amount.  \r\n",
        "4. Выберите верные ответы на вопросы ниже.\r\n",
        "\r\n",
        "#### Вопросы:\r\n",
        "    - 1) 2 из полученных MCC-кодов связаны с финансовыми институтами +\r\n",
        "    - 2) 2 MCC кода, связанные со снятием наличности имеют в целом разные знаки (в одном случае почти везде - траты, в другом - пополнения) +\r\n",
        "    - 3) Бакалейные магазины обладают максимальными средними тратами среди выбранных MCC-кодов\r\n",
        "    - 4) Денежные переводы имеют как минимум 3 явных минимума средних +\r\n",
        "    - 5) Категория \"Звонки с использованием телефонов, считывающих магнитную ленту\" имеет визуально очень большую дисперсию. "
      ]
    },
    {
      "cell_type": "code",
      "metadata": {
        "id": "t7zoIBW4Ojrm",
        "colab": {
          "base_uri": "https://localhost:8080/",
          "height": 450
        },
        "outputId": "90dccc39-3311-47f9-95de-0dd35185c9e1"
      },
      "source": [
        "data_task_5['tr_day'] = data_task_5['tr_datetime'].apply(lambda x: str(x).split()[0])\r\n",
        "data_task_5['tr_day'] = data_task_5['tr_day'].astype(int)\r\n",
        "mask = (data_task_5['mcc_code'].value_counts() > 60000).index\r\n",
        "data_task_6 = data_task_5[data_task_5['mcc_code'].isin(mask)]\r\n",
        "data_task_6_1 = data_task_6.groupby(['tr_day', 'mcc_code'])['amount'].mean()\r\n",
        "data_task_6_1 = data_task_6_1.to_frame()\r\n",
        "data_task_6_1"
      ],
      "execution_count": 47,
      "outputs": [
        {
          "output_type": "execute_result",
          "data": {
            "text/html": [
              "<div>\n",
              "<style scoped>\n",
              "    .dataframe tbody tr th:only-of-type {\n",
              "        vertical-align: middle;\n",
              "    }\n",
              "\n",
              "    .dataframe tbody tr th {\n",
              "        vertical-align: top;\n",
              "    }\n",
              "\n",
              "    .dataframe thead th {\n",
              "        text-align: right;\n",
              "    }\n",
              "</style>\n",
              "<table border=\"1\" class=\"dataframe\">\n",
              "  <thead>\n",
              "    <tr style=\"text-align: right;\">\n",
              "      <th></th>\n",
              "      <th></th>\n",
              "      <th>amount</th>\n",
              "    </tr>\n",
              "    <tr>\n",
              "      <th>tr_day</th>\n",
              "      <th>mcc_code</th>\n",
              "      <th></th>\n",
              "    </tr>\n",
              "  </thead>\n",
              "  <tbody>\n",
              "    <tr>\n",
              "      <th rowspan=\"5\" valign=\"top\">0</th>\n",
              "      <th>742</th>\n",
              "      <td>-12352.5400</td>\n",
              "    </tr>\n",
              "    <tr>\n",
              "      <th>4112</th>\n",
              "      <td>-39979.5460</td>\n",
              "    </tr>\n",
              "    <tr>\n",
              "      <th>4511</th>\n",
              "      <td>-261568.7800</td>\n",
              "    </tr>\n",
              "    <tr>\n",
              "      <th>4722</th>\n",
              "      <td>-167311.5200</td>\n",
              "    </tr>\n",
              "    <tr>\n",
              "      <th>4789</th>\n",
              "      <td>-8983.6600</td>\n",
              "    </tr>\n",
              "    <tr>\n",
              "      <th>...</th>\n",
              "      <th>...</th>\n",
              "      <td>...</td>\n",
              "    </tr>\n",
              "    <tr>\n",
              "      <th rowspan=\"5\" valign=\"top\">456</th>\n",
              "      <th>7997</th>\n",
              "      <td>-137000.8600</td>\n",
              "    </tr>\n",
              "    <tr>\n",
              "      <th>7999</th>\n",
              "      <td>-15811.2500</td>\n",
              "    </tr>\n",
              "    <tr>\n",
              "      <th>8099</th>\n",
              "      <td>-27737.0600</td>\n",
              "    </tr>\n",
              "    <tr>\n",
              "      <th>8999</th>\n",
              "      <td>-8434.6775</td>\n",
              "    </tr>\n",
              "    <tr>\n",
              "      <th>9399</th>\n",
              "      <td>-663.6700</td>\n",
              "    </tr>\n",
              "  </tbody>\n",
              "</table>\n",
              "<p>35091 rows × 1 columns</p>\n",
              "</div>"
            ],
            "text/plain": [
              "                      amount\n",
              "tr_day mcc_code             \n",
              "0      742       -12352.5400\n",
              "       4112      -39979.5460\n",
              "       4511     -261568.7800\n",
              "       4722     -167311.5200\n",
              "       4789       -8983.6600\n",
              "...                      ...\n",
              "456    7997     -137000.8600\n",
              "       7999      -15811.2500\n",
              "       8099      -27737.0600\n",
              "       8999       -8434.6775\n",
              "       9399        -663.6700\n",
              "\n",
              "[35091 rows x 1 columns]"
            ]
          },
          "metadata": {
            "tags": []
          },
          "execution_count": 47
        }
      ]
    },
    {
      "cell_type": "code",
      "metadata": {
        "colab": {
          "base_uri": "https://localhost:8080/"
        },
        "id": "SFVKHPScSBrD",
        "outputId": "4ea2538f-35ae-473b-a07d-f5d159bf4501"
      },
      "source": [
        "uniq_mcc = data_task_6[data_task_6['mcc_description'].str.contains('Финансовые институты', regex=True)]['mcc_code'].unique()\r\n",
        "data_task_5[data_task_5['mcc_code'].isin(uniq_mcc)]['mcc_code'].value_counts() > 60000"
      ],
      "execution_count": 48,
      "outputs": [
        {
          "output_type": "execute_result",
          "data": {
            "text/plain": [
              "6011     True\n",
              "6010     True\n",
              "6012    False\n",
              "Name: mcc_code, dtype: bool"
            ]
          },
          "metadata": {
            "tags": []
          },
          "execution_count": 48
        }
      ]
    },
    {
      "cell_type": "code",
      "metadata": {
        "colab": {
          "base_uri": "https://localhost:8080/"
        },
        "id": "8p1PdavuFadr",
        "outputId": "09dfe913-a46b-4bbf-d17f-8d17930ba5a8"
      },
      "source": [
        "uniq_mcc = data_task_6[data_task_6['mcc_description'].str.contains('снятие наличности', regex=True)]['mcc_code'].unique()\r\n",
        "data_task_6[data_task_6['mcc_code'].isin(uniq_mcc)].groupby('mcc_code')['amount'].sum()"
      ],
      "execution_count": 49,
      "outputs": [
        {
          "output_type": "execute_result",
          "data": {
            "text/plain": [
              "mcc_code\n",
              "6010    1.472534e+10\n",
              "6011   -1.297048e+10\n",
              "Name: amount, dtype: float64"
            ]
          },
          "metadata": {
            "tags": []
          },
          "execution_count": 49
        }
      ]
    },
    {
      "cell_type": "code",
      "metadata": {
        "colab": {
          "base_uri": "https://localhost:8080/",
          "height": 385
        },
        "id": "IEcyM2vbTIR4",
        "outputId": "2ac20f48-8799-4ec8-d3c3-8373ee526489"
      },
      "source": [
        "uniq_mcc = data_task_6[data_task_6['mcc_description'].str.contains('[Бб]акале', regex=True)]['mcc_code'].unique()\r\n",
        "data_task_6_2 = data_task_6[data_task_6['amount'] < 0].groupby('mcc_code').mean()\r\n",
        "data_task_6_2 = data_task_6_2['amount'].to_frame()\r\n",
        "print('mcc-код категории \"Бакалейные магазины, супермаркеты\": {}'.format(uniq_mcc[0]))\r\n",
        "print()\r\n",
        "\r\n",
        "data_task_6_2.reset_index(inplace=True)\r\n",
        "data_task_6_2.sort_values(by=['amount'], ascending=True)\r\n",
        "plt.figure(figsize=(10, 5))\r\n",
        "sns.barplot(data=data_task_6_2.head(10), x='mcc_code', y='amount').set_title('Средние траты по категориям (топ-10)');"
      ],
      "execution_count": 59,
      "outputs": [
        {
          "output_type": "stream",
          "text": [
            "mcc-код категории \"Бакалейные магазины, супермаркеты\": 5411\n",
            "\n"
          ],
          "name": "stdout"
        },
        {
          "output_type": "display_data",
          "data": {
            "image/png": "[encoded data removed]",
            "text/plain": [
              "<Figure size 720x360 with 1 Axes>"
            ]
          },
          "metadata": {
            "tags": [],
            "needs_background": "light"
          }
        }
      ]
    },
    {
      "cell_type": "code",
      "metadata": {
        "colab": {
          "base_uri": "https://localhost:8080/"
        },
        "id": "a3iwpA7bVRdC",
        "outputId": "0ebe4389-1335-4197-f4ec-064f28811e8b"
      },
      "source": [
        "data_task_6_3 = data_task_6[data_task_6['mcc_description'].str.contains('[Пп]ереводы', regex=True)]\r\n",
        "data_task_6_3['mcc_description'].unique()"
      ],
      "execution_count": 78,
      "outputs": [
        {
          "output_type": "execute_result",
          "data": {
            "text/plain": [
              "array(['Денежные переводы', 'Денежные переводы MasterCard MoneySend',\n",
              "       'Не-финансовые институты — иностранная валюта, денежные переводы (непередаваемые), дорожные чеки, квази-кэш'],\n",
              "      dtype=object)"
            ]
          },
          "metadata": {
            "tags": []
          },
          "execution_count": 78
        }
      ]
    },
    {
      "cell_type": "code",
      "metadata": {
        "id": "B0-BptMSN1gd"
      },
      "source": [
        "data_task_6_3['mcc_description'] = data_task_6_3['mcc_description'].replace(['Денежные переводы', 'Денежные переводы MasterCard MoneySend',\\\r\n",
        "       'Не-финансовые институты — иностранная валюта, денежные переводы (непередаваемые), дорожные чеки, квази-кэш'], [1, 2, 3])"
      ],
      "execution_count": null,
      "outputs": []
    },
    {
      "cell_type": "code",
      "metadata": {
        "colab": {
          "base_uri": "https://localhost:8080/"
        },
        "id": "1rrYzURNQl8N",
        "outputId": "dbf02664-9671-48b8-caec-a8c892a40896"
      },
      "source": [
        "data_task_6_3.groupby('mcc_description')['amount'].mean()"
      ],
      "execution_count": 81,
      "outputs": [
        {
          "output_type": "execute_result",
          "data": {
            "text/plain": [
              "mcc_description\n",
              "1   -199262.084633\n",
              "2     63269.032371\n",
              "3    -68674.367495\n",
              "Name: amount, dtype: float64"
            ]
          },
          "metadata": {
            "tags": []
          },
          "execution_count": 81
        }
      ]
    },
    {
      "cell_type": "code",
      "metadata": {
        "colab": {
          "base_uri": "https://localhost:8080/"
        },
        "id": "0ug_PBjWIvNg",
        "outputId": "bbffa264-10f3-4290-f606-e4124595f060"
      },
      "source": [
        "data_task_5[data_task_5['amount'] < 0].groupby('mcc_code')['amount'].mean()"
      ],
      "execution_count": 67,
      "outputs": [
        {
          "output_type": "execute_result",
          "data": {
            "text/plain": [
              "mcc_code\n",
              "742    -26908.782963\n",
              "1711   -97550.727222\n",
              "1731   -34254.257500\n",
              "1799   -45323.675789\n",
              "2741   -35672.833750\n",
              "            ...     \n",
              "9211    -4491.830000\n",
              "9222   -92212.478936\n",
              "9311   -25174.828649\n",
              "9399   -49722.896579\n",
              "9402    -9825.136667\n",
              "Name: amount, Length: 184, dtype: float64"
            ]
          },
          "metadata": {
            "tags": []
          },
          "execution_count": 67
        }
      ]
    },
    {
      "cell_type": "code",
      "metadata": {
        "colab": {
          "base_uri": "https://localhost:8080/",
          "height": 470
        },
        "id": "EYEAFTQZ9Mse",
        "outputId": "db961260-861e-4037-e8a6-f7ed7929583a"
      },
      "source": [
        "#res = data_task_6.groupby(['tr_day', 'mcc_code'])['amount'].mean().unstack()\r\n",
        "data_pivott = pd.pivot_table(data_task_6, values='amount', index='tr_day', columns='mcc_code')\r\n",
        "data_pivott"
      ],
      "execution_count": 66,
      "outputs": [
        {
          "output_type": "execute_result",
          "data": {
            "text/html": [
              "<div>\n",
              "<style scoped>\n",
              "    .dataframe tbody tr th:only-of-type {\n",
              "        vertical-align: middle;\n",
              "    }\n",
              "\n",
              "    .dataframe tbody tr th {\n",
              "        vertical-align: top;\n",
              "    }\n",
              "\n",
              "    .dataframe thead th {\n",
              "        text-align: right;\n",
              "    }\n",
              "</style>\n",
              "<table border=\"1\" class=\"dataframe\">\n",
              "  <thead>\n",
              "    <tr style=\"text-align: right;\">\n",
              "      <th>mcc_code</th>\n",
              "      <th>742</th>\n",
              "      <th>1711</th>\n",
              "      <th>1731</th>\n",
              "      <th>1799</th>\n",
              "      <th>2741</th>\n",
              "      <th>3000</th>\n",
              "      <th>3351</th>\n",
              "      <th>3501</th>\n",
              "      <th>4111</th>\n",
              "      <th>4112</th>\n",
              "      <th>4121</th>\n",
              "      <th>4131</th>\n",
              "      <th>4214</th>\n",
              "      <th>4215</th>\n",
              "      <th>4411</th>\n",
              "      <th>4511</th>\n",
              "      <th>4722</th>\n",
              "      <th>4784</th>\n",
              "      <th>4789</th>\n",
              "      <th>4812</th>\n",
              "      <th>4814</th>\n",
              "      <th>4816</th>\n",
              "      <th>4829</th>\n",
              "      <th>4899</th>\n",
              "      <th>4900</th>\n",
              "      <th>5013</th>\n",
              "      <th>5039</th>\n",
              "      <th>5044</th>\n",
              "      <th>5045</th>\n",
              "      <th>5047</th>\n",
              "      <th>5065</th>\n",
              "      <th>5072</th>\n",
              "      <th>5074</th>\n",
              "      <th>5085</th>\n",
              "      <th>5094</th>\n",
              "      <th>5099</th>\n",
              "      <th>5111</th>\n",
              "      <th>5122</th>\n",
              "      <th>5131</th>\n",
              "      <th>5137</th>\n",
              "      <th>...</th>\n",
              "      <th>7395</th>\n",
              "      <th>7399</th>\n",
              "      <th>7512</th>\n",
              "      <th>7523</th>\n",
              "      <th>7531</th>\n",
              "      <th>7538</th>\n",
              "      <th>7542</th>\n",
              "      <th>7629</th>\n",
              "      <th>7699</th>\n",
              "      <th>7829</th>\n",
              "      <th>7832</th>\n",
              "      <th>7841</th>\n",
              "      <th>7922</th>\n",
              "      <th>7932</th>\n",
              "      <th>7933</th>\n",
              "      <th>7991</th>\n",
              "      <th>7993</th>\n",
              "      <th>7994</th>\n",
              "      <th>7995</th>\n",
              "      <th>7996</th>\n",
              "      <th>7997</th>\n",
              "      <th>7999</th>\n",
              "      <th>8011</th>\n",
              "      <th>8021</th>\n",
              "      <th>8043</th>\n",
              "      <th>8062</th>\n",
              "      <th>8071</th>\n",
              "      <th>8099</th>\n",
              "      <th>8220</th>\n",
              "      <th>8244</th>\n",
              "      <th>8299</th>\n",
              "      <th>8398</th>\n",
              "      <th>8641</th>\n",
              "      <th>8699</th>\n",
              "      <th>8999</th>\n",
              "      <th>9211</th>\n",
              "      <th>9222</th>\n",
              "      <th>9311</th>\n",
              "      <th>9399</th>\n",
              "      <th>9402</th>\n",
              "    </tr>\n",
              "    <tr>\n",
              "      <th>tr_day</th>\n",
              "      <th></th>\n",
              "      <th></th>\n",
              "      <th></th>\n",
              "      <th></th>\n",
              "      <th></th>\n",
              "      <th></th>\n",
              "      <th></th>\n",
              "      <th></th>\n",
              "      <th></th>\n",
              "      <th></th>\n",
              "      <th></th>\n",
              "      <th></th>\n",
              "      <th></th>\n",
              "      <th></th>\n",
              "      <th></th>\n",
              "      <th></th>\n",
              "      <th></th>\n",
              "      <th></th>\n",
              "      <th></th>\n",
              "      <th></th>\n",
              "      <th></th>\n",
              "      <th></th>\n",
              "      <th></th>\n",
              "      <th></th>\n",
              "      <th></th>\n",
              "      <th></th>\n",
              "      <th></th>\n",
              "      <th></th>\n",
              "      <th></th>\n",
              "      <th></th>\n",
              "      <th></th>\n",
              "      <th></th>\n",
              "      <th></th>\n",
              "      <th></th>\n",
              "      <th></th>\n",
              "      <th></th>\n",
              "      <th></th>\n",
              "      <th></th>\n",
              "      <th></th>\n",
              "      <th></th>\n",
              "      <th></th>\n",
              "      <th></th>\n",
              "      <th></th>\n",
              "      <th></th>\n",
              "      <th></th>\n",
              "      <th></th>\n",
              "      <th></th>\n",
              "      <th></th>\n",
              "      <th></th>\n",
              "      <th></th>\n",
              "      <th></th>\n",
              "      <th></th>\n",
              "      <th></th>\n",
              "      <th></th>\n",
              "      <th></th>\n",
              "      <th></th>\n",
              "      <th></th>\n",
              "      <th></th>\n",
              "      <th></th>\n",
              "      <th></th>\n",
              "      <th></th>\n",
              "      <th></th>\n",
              "      <th></th>\n",
              "      <th></th>\n",
              "      <th></th>\n",
              "      <th></th>\n",
              "      <th></th>\n",
              "      <th></th>\n",
              "      <th></th>\n",
              "      <th></th>\n",
              "      <th></th>\n",
              "      <th></th>\n",
              "      <th></th>\n",
              "      <th></th>\n",
              "      <th></th>\n",
              "      <th></th>\n",
              "      <th></th>\n",
              "      <th></th>\n",
              "      <th></th>\n",
              "      <th></th>\n",
              "      <th></th>\n",
              "    </tr>\n",
              "  </thead>\n",
              "  <tbody>\n",
              "    <tr>\n",
              "      <th>0</th>\n",
              "      <td>-12352.54</td>\n",
              "      <td>NaN</td>\n",
              "      <td>NaN</td>\n",
              "      <td>NaN</td>\n",
              "      <td>NaN</td>\n",
              "      <td>NaN</td>\n",
              "      <td>NaN</td>\n",
              "      <td>NaN</td>\n",
              "      <td>NaN</td>\n",
              "      <td>-39979.546000</td>\n",
              "      <td>NaN</td>\n",
              "      <td>NaN</td>\n",
              "      <td>NaN</td>\n",
              "      <td>NaN</td>\n",
              "      <td>NaN</td>\n",
              "      <td>-261568.780000</td>\n",
              "      <td>-167311.520</td>\n",
              "      <td>NaN</td>\n",
              "      <td>-8983.660000</td>\n",
              "      <td>-265085.440000</td>\n",
              "      <td>-5631.316489</td>\n",
              "      <td>-5671.802857</td>\n",
              "      <td>-214754.866266</td>\n",
              "      <td>-10106.620</td>\n",
              "      <td>-19430.09200</td>\n",
              "      <td>NaN</td>\n",
              "      <td>NaN</td>\n",
              "      <td>NaN</td>\n",
              "      <td>NaN</td>\n",
              "      <td>NaN</td>\n",
              "      <td>NaN</td>\n",
              "      <td>NaN</td>\n",
              "      <td>NaN</td>\n",
              "      <td>NaN</td>\n",
              "      <td>NaN</td>\n",
              "      <td>NaN</td>\n",
              "      <td>NaN</td>\n",
              "      <td>NaN</td>\n",
              "      <td>NaN</td>\n",
              "      <td>-69308.96</td>\n",
              "      <td>...</td>\n",
              "      <td>NaN</td>\n",
              "      <td>-4716.420000</td>\n",
              "      <td>NaN</td>\n",
              "      <td>NaN</td>\n",
              "      <td>NaN</td>\n",
              "      <td>NaN</td>\n",
              "      <td>NaN</td>\n",
              "      <td>NaN</td>\n",
              "      <td>NaN</td>\n",
              "      <td>NaN</td>\n",
              "      <td>-17967.330000</td>\n",
              "      <td>NaN</td>\n",
              "      <td>NaN</td>\n",
              "      <td>NaN</td>\n",
              "      <td>NaN</td>\n",
              "      <td>NaN</td>\n",
              "      <td>NaN</td>\n",
              "      <td>-4916.195000</td>\n",
              "      <td>-1122.960000</td>\n",
              "      <td>NaN</td>\n",
              "      <td>NaN</td>\n",
              "      <td>NaN</td>\n",
              "      <td>NaN</td>\n",
              "      <td>NaN</td>\n",
              "      <td>-11229.58</td>\n",
              "      <td>NaN</td>\n",
              "      <td>NaN</td>\n",
              "      <td>NaN</td>\n",
              "      <td>NaN</td>\n",
              "      <td>NaN</td>\n",
              "      <td>NaN</td>\n",
              "      <td>NaN</td>\n",
              "      <td>NaN</td>\n",
              "      <td>NaN</td>\n",
              "      <td>NaN</td>\n",
              "      <td>NaN</td>\n",
              "      <td>NaN</td>\n",
              "      <td>NaN</td>\n",
              "      <td>NaN</td>\n",
              "      <td>NaN</td>\n",
              "    </tr>\n",
              "    <tr>\n",
              "      <th>1</th>\n",
              "      <td>NaN</td>\n",
              "      <td>NaN</td>\n",
              "      <td>NaN</td>\n",
              "      <td>NaN</td>\n",
              "      <td>NaN</td>\n",
              "      <td>-1512736.570</td>\n",
              "      <td>NaN</td>\n",
              "      <td>NaN</td>\n",
              "      <td>NaN</td>\n",
              "      <td>-45663.209167</td>\n",
              "      <td>NaN</td>\n",
              "      <td>NaN</td>\n",
              "      <td>NaN</td>\n",
              "      <td>NaN</td>\n",
              "      <td>NaN</td>\n",
              "      <td>-559435.160000</td>\n",
              "      <td>-105295.270</td>\n",
              "      <td>-4969.875000</td>\n",
              "      <td>NaN</td>\n",
              "      <td>-22448.715000</td>\n",
              "      <td>-6375.587685</td>\n",
              "      <td>-13340.740000</td>\n",
              "      <td>-158317.573750</td>\n",
              "      <td>NaN</td>\n",
              "      <td>-70936.58000</td>\n",
              "      <td>NaN</td>\n",
              "      <td>NaN</td>\n",
              "      <td>NaN</td>\n",
              "      <td>NaN</td>\n",
              "      <td>NaN</td>\n",
              "      <td>NaN</td>\n",
              "      <td>NaN</td>\n",
              "      <td>NaN</td>\n",
              "      <td>NaN</td>\n",
              "      <td>NaN</td>\n",
              "      <td>NaN</td>\n",
              "      <td>NaN</td>\n",
              "      <td>NaN</td>\n",
              "      <td>NaN</td>\n",
              "      <td>NaN</td>\n",
              "      <td>...</td>\n",
              "      <td>NaN</td>\n",
              "      <td>-52088.400000</td>\n",
              "      <td>NaN</td>\n",
              "      <td>-27310.34</td>\n",
              "      <td>NaN</td>\n",
              "      <td>-105558.04</td>\n",
              "      <td>-5614.790000</td>\n",
              "      <td>NaN</td>\n",
              "      <td>NaN</td>\n",
              "      <td>NaN</td>\n",
              "      <td>-15421.956667</td>\n",
              "      <td>NaN</td>\n",
              "      <td>NaN</td>\n",
              "      <td>NaN</td>\n",
              "      <td>NaN</td>\n",
              "      <td>NaN</td>\n",
              "      <td>NaN</td>\n",
              "      <td>-37852.813333</td>\n",
              "      <td>NaN</td>\n",
              "      <td>NaN</td>\n",
              "      <td>NaN</td>\n",
              "      <td>NaN</td>\n",
              "      <td>NaN</td>\n",
              "      <td>NaN</td>\n",
              "      <td>-34351.28</td>\n",
              "      <td>NaN</td>\n",
              "      <td>NaN</td>\n",
              "      <td>-98820.290000</td>\n",
              "      <td>NaN</td>\n",
              "      <td>NaN</td>\n",
              "      <td>NaN</td>\n",
              "      <td>-17.29</td>\n",
              "      <td>NaN</td>\n",
              "      <td>NaN</td>\n",
              "      <td>-24173.540000</td>\n",
              "      <td>NaN</td>\n",
              "      <td>NaN</td>\n",
              "      <td>NaN</td>\n",
              "      <td>NaN</td>\n",
              "      <td>NaN</td>\n",
              "    </tr>\n",
              "    <tr>\n",
              "      <th>2</th>\n",
              "      <td>NaN</td>\n",
              "      <td>NaN</td>\n",
              "      <td>NaN</td>\n",
              "      <td>NaN</td>\n",
              "      <td>NaN</td>\n",
              "      <td>NaN</td>\n",
              "      <td>NaN</td>\n",
              "      <td>NaN</td>\n",
              "      <td>-2353.500000</td>\n",
              "      <td>-104826.995000</td>\n",
              "      <td>NaN</td>\n",
              "      <td>-2353.500</td>\n",
              "      <td>NaN</td>\n",
              "      <td>NaN</td>\n",
              "      <td>NaN</td>\n",
              "      <td>-762428.516667</td>\n",
              "      <td>-77567.195</td>\n",
              "      <td>-7783.560000</td>\n",
              "      <td>NaN</td>\n",
              "      <td>-62762.115000</td>\n",
              "      <td>-4280.502021</td>\n",
              "      <td>-15154.317500</td>\n",
              "      <td>-311439.224857</td>\n",
              "      <td>NaN</td>\n",
              "      <td>-17012.81000</td>\n",
              "      <td>NaN</td>\n",
              "      <td>NaN</td>\n",
              "      <td>NaN</td>\n",
              "      <td>NaN</td>\n",
              "      <td>NaN</td>\n",
              "      <td>NaN</td>\n",
              "      <td>NaN</td>\n",
              "      <td>NaN</td>\n",
              "      <td>NaN</td>\n",
              "      <td>NaN</td>\n",
              "      <td>NaN</td>\n",
              "      <td>NaN</td>\n",
              "      <td>NaN</td>\n",
              "      <td>NaN</td>\n",
              "      <td>NaN</td>\n",
              "      <td>...</td>\n",
              "      <td>NaN</td>\n",
              "      <td>NaN</td>\n",
              "      <td>NaN</td>\n",
              "      <td>NaN</td>\n",
              "      <td>NaN</td>\n",
              "      <td>-6091.26</td>\n",
              "      <td>-9882.030000</td>\n",
              "      <td>NaN</td>\n",
              "      <td>NaN</td>\n",
              "      <td>NaN</td>\n",
              "      <td>-17068.960000</td>\n",
              "      <td>NaN</td>\n",
              "      <td>-17293.55</td>\n",
              "      <td>NaN</td>\n",
              "      <td>NaN</td>\n",
              "      <td>NaN</td>\n",
              "      <td>NaN</td>\n",
              "      <td>-327.450000</td>\n",
              "      <td>-10106.620000</td>\n",
              "      <td>NaN</td>\n",
              "      <td>NaN</td>\n",
              "      <td>NaN</td>\n",
              "      <td>NaN</td>\n",
              "      <td>NaN</td>\n",
              "      <td>NaN</td>\n",
              "      <td>NaN</td>\n",
              "      <td>NaN</td>\n",
              "      <td>-48062.600000</td>\n",
              "      <td>NaN</td>\n",
              "      <td>NaN</td>\n",
              "      <td>NaN</td>\n",
              "      <td>NaN</td>\n",
              "      <td>-2582.800</td>\n",
              "      <td>NaN</td>\n",
              "      <td>-13403.624000</td>\n",
              "      <td>NaN</td>\n",
              "      <td>NaN</td>\n",
              "      <td>NaN</td>\n",
              "      <td>NaN</td>\n",
              "      <td>NaN</td>\n",
              "    </tr>\n",
              "    <tr>\n",
              "      <th>3</th>\n",
              "      <td>NaN</td>\n",
              "      <td>NaN</td>\n",
              "      <td>NaN</td>\n",
              "      <td>NaN</td>\n",
              "      <td>NaN</td>\n",
              "      <td>-172441.410</td>\n",
              "      <td>-100935.95</td>\n",
              "      <td>NaN</td>\n",
              "      <td>NaN</td>\n",
              "      <td>-9712.359091</td>\n",
              "      <td>-15030.790000</td>\n",
              "      <td>NaN</td>\n",
              "      <td>NaN</td>\n",
              "      <td>NaN</td>\n",
              "      <td>NaN</td>\n",
              "      <td>-391126.230000</td>\n",
              "      <td>-48535.360</td>\n",
              "      <td>-6563.986667</td>\n",
              "      <td>-5693.395000</td>\n",
              "      <td>-11229.580000</td>\n",
              "      <td>-5683.344844</td>\n",
              "      <td>NaN</td>\n",
              "      <td>-267813.727273</td>\n",
              "      <td>NaN</td>\n",
              "      <td>-66096.85000</td>\n",
              "      <td>NaN</td>\n",
              "      <td>NaN</td>\n",
              "      <td>NaN</td>\n",
              "      <td>NaN</td>\n",
              "      <td>NaN</td>\n",
              "      <td>NaN</td>\n",
              "      <td>NaN</td>\n",
              "      <td>-3750.68</td>\n",
              "      <td>NaN</td>\n",
              "      <td>NaN</td>\n",
              "      <td>-12015.65</td>\n",
              "      <td>NaN</td>\n",
              "      <td>NaN</td>\n",
              "      <td>NaN</td>\n",
              "      <td>NaN</td>\n",
              "      <td>...</td>\n",
              "      <td>NaN</td>\n",
              "      <td>-3930.353333</td>\n",
              "      <td>NaN</td>\n",
              "      <td>NaN</td>\n",
              "      <td>NaN</td>\n",
              "      <td>NaN</td>\n",
              "      <td>NaN</td>\n",
              "      <td>NaN</td>\n",
              "      <td>NaN</td>\n",
              "      <td>NaN</td>\n",
              "      <td>NaN</td>\n",
              "      <td>NaN</td>\n",
              "      <td>NaN</td>\n",
              "      <td>NaN</td>\n",
              "      <td>NaN</td>\n",
              "      <td>-8983.66</td>\n",
              "      <td>NaN</td>\n",
              "      <td>-24094.072500</td>\n",
              "      <td>-11229.580000</td>\n",
              "      <td>NaN</td>\n",
              "      <td>NaN</td>\n",
              "      <td>NaN</td>\n",
              "      <td>NaN</td>\n",
              "      <td>NaN</td>\n",
              "      <td>NaN</td>\n",
              "      <td>NaN</td>\n",
              "      <td>NaN</td>\n",
              "      <td>-17742.735000</td>\n",
              "      <td>NaN</td>\n",
              "      <td>NaN</td>\n",
              "      <td>NaN</td>\n",
              "      <td>NaN</td>\n",
              "      <td>NaN</td>\n",
              "      <td>NaN</td>\n",
              "      <td>-61242.380000</td>\n",
              "      <td>NaN</td>\n",
              "      <td>NaN</td>\n",
              "      <td>NaN</td>\n",
              "      <td>NaN</td>\n",
              "      <td>NaN</td>\n",
              "    </tr>\n",
              "    <tr>\n",
              "      <th>4</th>\n",
              "      <td>NaN</td>\n",
              "      <td>NaN</td>\n",
              "      <td>NaN</td>\n",
              "      <td>NaN</td>\n",
              "      <td>NaN</td>\n",
              "      <td>-330306.835</td>\n",
              "      <td>NaN</td>\n",
              "      <td>-240762.17</td>\n",
              "      <td>NaN</td>\n",
              "      <td>-61474.010000</td>\n",
              "      <td>NaN</td>\n",
              "      <td>NaN</td>\n",
              "      <td>NaN</td>\n",
              "      <td>NaN</td>\n",
              "      <td>NaN</td>\n",
              "      <td>-201728.155000</td>\n",
              "      <td>-957658.490</td>\n",
              "      <td>NaN</td>\n",
              "      <td>-24312.035000</td>\n",
              "      <td>-16095.726667</td>\n",
              "      <td>-7071.730388</td>\n",
              "      <td>-8172.103333</td>\n",
              "      <td>-351382.308480</td>\n",
              "      <td>NaN</td>\n",
              "      <td>NaN</td>\n",
              "      <td>NaN</td>\n",
              "      <td>NaN</td>\n",
              "      <td>NaN</td>\n",
              "      <td>NaN</td>\n",
              "      <td>NaN</td>\n",
              "      <td>-3681.73</td>\n",
              "      <td>NaN</td>\n",
              "      <td>NaN</td>\n",
              "      <td>NaN</td>\n",
              "      <td>NaN</td>\n",
              "      <td>NaN</td>\n",
              "      <td>NaN</td>\n",
              "      <td>NaN</td>\n",
              "      <td>NaN</td>\n",
              "      <td>NaN</td>\n",
              "      <td>...</td>\n",
              "      <td>NaN</td>\n",
              "      <td>-3985.526667</td>\n",
              "      <td>NaN</td>\n",
              "      <td>NaN</td>\n",
              "      <td>NaN</td>\n",
              "      <td>-104648.45</td>\n",
              "      <td>-11229.580000</td>\n",
              "      <td>NaN</td>\n",
              "      <td>NaN</td>\n",
              "      <td>NaN</td>\n",
              "      <td>NaN</td>\n",
              "      <td>NaN</td>\n",
              "      <td>NaN</td>\n",
              "      <td>NaN</td>\n",
              "      <td>NaN</td>\n",
              "      <td>-7598.16</td>\n",
              "      <td>NaN</td>\n",
              "      <td>-65940.090000</td>\n",
              "      <td>-9039.812500</td>\n",
              "      <td>NaN</td>\n",
              "      <td>-62885.64</td>\n",
              "      <td>NaN</td>\n",
              "      <td>NaN</td>\n",
              "      <td>-254013.075000</td>\n",
              "      <td>-1192029.90</td>\n",
              "      <td>NaN</td>\n",
              "      <td>NaN</td>\n",
              "      <td>-22035.641429</td>\n",
              "      <td>NaN</td>\n",
              "      <td>NaN</td>\n",
              "      <td>NaN</td>\n",
              "      <td>NaN</td>\n",
              "      <td>NaN</td>\n",
              "      <td>NaN</td>\n",
              "      <td>-48096.285000</td>\n",
              "      <td>NaN</td>\n",
              "      <td>NaN</td>\n",
              "      <td>NaN</td>\n",
              "      <td>NaN</td>\n",
              "      <td>NaN</td>\n",
              "    </tr>\n",
              "    <tr>\n",
              "      <th>...</th>\n",
              "      <td>...</td>\n",
              "      <td>...</td>\n",
              "      <td>...</td>\n",
              "      <td>...</td>\n",
              "      <td>...</td>\n",
              "      <td>...</td>\n",
              "      <td>...</td>\n",
              "      <td>...</td>\n",
              "      <td>...</td>\n",
              "      <td>...</td>\n",
              "      <td>...</td>\n",
              "      <td>...</td>\n",
              "      <td>...</td>\n",
              "      <td>...</td>\n",
              "      <td>...</td>\n",
              "      <td>...</td>\n",
              "      <td>...</td>\n",
              "      <td>...</td>\n",
              "      <td>...</td>\n",
              "      <td>...</td>\n",
              "      <td>...</td>\n",
              "      <td>...</td>\n",
              "      <td>...</td>\n",
              "      <td>...</td>\n",
              "      <td>...</td>\n",
              "      <td>...</td>\n",
              "      <td>...</td>\n",
              "      <td>...</td>\n",
              "      <td>...</td>\n",
              "      <td>...</td>\n",
              "      <td>...</td>\n",
              "      <td>...</td>\n",
              "      <td>...</td>\n",
              "      <td>...</td>\n",
              "      <td>...</td>\n",
              "      <td>...</td>\n",
              "      <td>...</td>\n",
              "      <td>...</td>\n",
              "      <td>...</td>\n",
              "      <td>...</td>\n",
              "      <td>...</td>\n",
              "      <td>...</td>\n",
              "      <td>...</td>\n",
              "      <td>...</td>\n",
              "      <td>...</td>\n",
              "      <td>...</td>\n",
              "      <td>...</td>\n",
              "      <td>...</td>\n",
              "      <td>...</td>\n",
              "      <td>...</td>\n",
              "      <td>...</td>\n",
              "      <td>...</td>\n",
              "      <td>...</td>\n",
              "      <td>...</td>\n",
              "      <td>...</td>\n",
              "      <td>...</td>\n",
              "      <td>...</td>\n",
              "      <td>...</td>\n",
              "      <td>...</td>\n",
              "      <td>...</td>\n",
              "      <td>...</td>\n",
              "      <td>...</td>\n",
              "      <td>...</td>\n",
              "      <td>...</td>\n",
              "      <td>...</td>\n",
              "      <td>...</td>\n",
              "      <td>...</td>\n",
              "      <td>...</td>\n",
              "      <td>...</td>\n",
              "      <td>...</td>\n",
              "      <td>...</td>\n",
              "      <td>...</td>\n",
              "      <td>...</td>\n",
              "      <td>...</td>\n",
              "      <td>...</td>\n",
              "      <td>...</td>\n",
              "      <td>...</td>\n",
              "      <td>...</td>\n",
              "      <td>...</td>\n",
              "      <td>...</td>\n",
              "      <td>...</td>\n",
              "    </tr>\n",
              "    <tr>\n",
              "      <th>452</th>\n",
              "      <td>NaN</td>\n",
              "      <td>NaN</td>\n",
              "      <td>NaN</td>\n",
              "      <td>NaN</td>\n",
              "      <td>NaN</td>\n",
              "      <td>-1319812.400</td>\n",
              "      <td>NaN</td>\n",
              "      <td>NaN</td>\n",
              "      <td>-21111.610000</td>\n",
              "      <td>-16067.732000</td>\n",
              "      <td>NaN</td>\n",
              "      <td>-41880.155</td>\n",
              "      <td>NaN</td>\n",
              "      <td>NaN</td>\n",
              "      <td>NaN</td>\n",
              "      <td>-219182.510000</td>\n",
              "      <td>NaN</td>\n",
              "      <td>-1796.730000</td>\n",
              "      <td>-8494.803333</td>\n",
              "      <td>-30113.242000</td>\n",
              "      <td>-5084.165513</td>\n",
              "      <td>-22459.160000</td>\n",
              "      <td>-215973.976904</td>\n",
              "      <td>NaN</td>\n",
              "      <td>NaN</td>\n",
              "      <td>NaN</td>\n",
              "      <td>NaN</td>\n",
              "      <td>NaN</td>\n",
              "      <td>NaN</td>\n",
              "      <td>NaN</td>\n",
              "      <td>NaN</td>\n",
              "      <td>NaN</td>\n",
              "      <td>NaN</td>\n",
              "      <td>NaN</td>\n",
              "      <td>-82593.55</td>\n",
              "      <td>NaN</td>\n",
              "      <td>-20217.955</td>\n",
              "      <td>NaN</td>\n",
              "      <td>NaN</td>\n",
              "      <td>NaN</td>\n",
              "      <td>...</td>\n",
              "      <td>-6737.75</td>\n",
              "      <td>-4193.570000</td>\n",
              "      <td>NaN</td>\n",
              "      <td>-673.77</td>\n",
              "      <td>NaN</td>\n",
              "      <td>-242558.90</td>\n",
              "      <td>NaN</td>\n",
              "      <td>NaN</td>\n",
              "      <td>NaN</td>\n",
              "      <td>NaN</td>\n",
              "      <td>-10331.210000</td>\n",
              "      <td>NaN</td>\n",
              "      <td>NaN</td>\n",
              "      <td>NaN</td>\n",
              "      <td>NaN</td>\n",
              "      <td>NaN</td>\n",
              "      <td>NaN</td>\n",
              "      <td>NaN</td>\n",
              "      <td>-5614.790000</td>\n",
              "      <td>NaN</td>\n",
              "      <td>-25004.53</td>\n",
              "      <td>NaN</td>\n",
              "      <td>-272130.126667</td>\n",
              "      <td>NaN</td>\n",
              "      <td>-89126.92</td>\n",
              "      <td>NaN</td>\n",
              "      <td>NaN</td>\n",
              "      <td>-182966.737143</td>\n",
              "      <td>NaN</td>\n",
              "      <td>NaN</td>\n",
              "      <td>NaN</td>\n",
              "      <td>NaN</td>\n",
              "      <td>-1602.090</td>\n",
              "      <td>NaN</td>\n",
              "      <td>-23859.920769</td>\n",
              "      <td>NaN</td>\n",
              "      <td>NaN</td>\n",
              "      <td>NaN</td>\n",
              "      <td>NaN</td>\n",
              "      <td>NaN</td>\n",
              "    </tr>\n",
              "    <tr>\n",
              "      <th>453</th>\n",
              "      <td>NaN</td>\n",
              "      <td>NaN</td>\n",
              "      <td>NaN</td>\n",
              "      <td>NaN</td>\n",
              "      <td>NaN</td>\n",
              "      <td>-351485.820</td>\n",
              "      <td>NaN</td>\n",
              "      <td>NaN</td>\n",
              "      <td>-7467.670000</td>\n",
              "      <td>-34883.002500</td>\n",
              "      <td>-7931.291429</td>\n",
              "      <td>-13900.870</td>\n",
              "      <td>NaN</td>\n",
              "      <td>NaN</td>\n",
              "      <td>NaN</td>\n",
              "      <td>-128466.380000</td>\n",
              "      <td>NaN</td>\n",
              "      <td>-2101.280000</td>\n",
              "      <td>-13982.175000</td>\n",
              "      <td>NaN</td>\n",
              "      <td>-5684.247016</td>\n",
              "      <td>-11229.580000</td>\n",
              "      <td>-190370.376239</td>\n",
              "      <td>NaN</td>\n",
              "      <td>-6715.29000</td>\n",
              "      <td>NaN</td>\n",
              "      <td>NaN</td>\n",
              "      <td>NaN</td>\n",
              "      <td>NaN</td>\n",
              "      <td>NaN</td>\n",
              "      <td>NaN</td>\n",
              "      <td>NaN</td>\n",
              "      <td>NaN</td>\n",
              "      <td>NaN</td>\n",
              "      <td>NaN</td>\n",
              "      <td>NaN</td>\n",
              "      <td>NaN</td>\n",
              "      <td>NaN</td>\n",
              "      <td>NaN</td>\n",
              "      <td>NaN</td>\n",
              "      <td>...</td>\n",
              "      <td>NaN</td>\n",
              "      <td>-8264.970000</td>\n",
              "      <td>NaN</td>\n",
              "      <td>-1347.55</td>\n",
              "      <td>NaN</td>\n",
              "      <td>NaN</td>\n",
              "      <td>-21830.300000</td>\n",
              "      <td>NaN</td>\n",
              "      <td>NaN</td>\n",
              "      <td>NaN</td>\n",
              "      <td>-49410.145000</td>\n",
              "      <td>NaN</td>\n",
              "      <td>NaN</td>\n",
              "      <td>NaN</td>\n",
              "      <td>NaN</td>\n",
              "      <td>NaN</td>\n",
              "      <td>NaN</td>\n",
              "      <td>-5008.320000</td>\n",
              "      <td>-43264.506364</td>\n",
              "      <td>NaN</td>\n",
              "      <td>NaN</td>\n",
              "      <td>NaN</td>\n",
              "      <td>NaN</td>\n",
              "      <td>-114541.703333</td>\n",
              "      <td>-22908.34</td>\n",
              "      <td>NaN</td>\n",
              "      <td>NaN</td>\n",
              "      <td>-150604.824000</td>\n",
              "      <td>NaN</td>\n",
              "      <td>NaN</td>\n",
              "      <td>NaN</td>\n",
              "      <td>NaN</td>\n",
              "      <td>-4087.565</td>\n",
              "      <td>NaN</td>\n",
              "      <td>-2426.961000</td>\n",
              "      <td>NaN</td>\n",
              "      <td>NaN</td>\n",
              "      <td>NaN</td>\n",
              "      <td>-1021.89</td>\n",
              "      <td>NaN</td>\n",
              "    </tr>\n",
              "    <tr>\n",
              "      <th>454</th>\n",
              "      <td>NaN</td>\n",
              "      <td>NaN</td>\n",
              "      <td>NaN</td>\n",
              "      <td>NaN</td>\n",
              "      <td>NaN</td>\n",
              "      <td>NaN</td>\n",
              "      <td>NaN</td>\n",
              "      <td>0.00</td>\n",
              "      <td>-10611.950000</td>\n",
              "      <td>-40360.854444</td>\n",
              "      <td>-5757.854000</td>\n",
              "      <td>-39347.545</td>\n",
              "      <td>NaN</td>\n",
              "      <td>NaN</td>\n",
              "      <td>NaN</td>\n",
              "      <td>NaN</td>\n",
              "      <td>NaN</td>\n",
              "      <td>NaN</td>\n",
              "      <td>NaN</td>\n",
              "      <td>-18184.433333</td>\n",
              "      <td>-4786.101095</td>\n",
              "      <td>-7063.405000</td>\n",
              "      <td>-177081.530909</td>\n",
              "      <td>NaN</td>\n",
              "      <td>-5776.27000</td>\n",
              "      <td>NaN</td>\n",
              "      <td>NaN</td>\n",
              "      <td>NaN</td>\n",
              "      <td>NaN</td>\n",
              "      <td>NaN</td>\n",
              "      <td>NaN</td>\n",
              "      <td>NaN</td>\n",
              "      <td>NaN</td>\n",
              "      <td>NaN</td>\n",
              "      <td>NaN</td>\n",
              "      <td>NaN</td>\n",
              "      <td>NaN</td>\n",
              "      <td>NaN</td>\n",
              "      <td>NaN</td>\n",
              "      <td>NaN</td>\n",
              "      <td>...</td>\n",
              "      <td>NaN</td>\n",
              "      <td>-188194.908571</td>\n",
              "      <td>NaN</td>\n",
              "      <td>-1796.73</td>\n",
              "      <td>NaN</td>\n",
              "      <td>-33688.74</td>\n",
              "      <td>NaN</td>\n",
              "      <td>NaN</td>\n",
              "      <td>NaN</td>\n",
              "      <td>NaN</td>\n",
              "      <td>NaN</td>\n",
              "      <td>NaN</td>\n",
              "      <td>-111172.83</td>\n",
              "      <td>NaN</td>\n",
              "      <td>-8759.07</td>\n",
              "      <td>-9208.25</td>\n",
              "      <td>NaN</td>\n",
              "      <td>NaN</td>\n",
              "      <td>-20662.426000</td>\n",
              "      <td>NaN</td>\n",
              "      <td>-134754.95</td>\n",
              "      <td>NaN</td>\n",
              "      <td>NaN</td>\n",
              "      <td>NaN</td>\n",
              "      <td>NaN</td>\n",
              "      <td>NaN</td>\n",
              "      <td>NaN</td>\n",
              "      <td>-20211.201818</td>\n",
              "      <td>NaN</td>\n",
              "      <td>NaN</td>\n",
              "      <td>NaN</td>\n",
              "      <td>NaN</td>\n",
              "      <td>-2526.655</td>\n",
              "      <td>NaN</td>\n",
              "      <td>-26209.838571</td>\n",
              "      <td>-4491.83</td>\n",
              "      <td>NaN</td>\n",
              "      <td>NaN</td>\n",
              "      <td>NaN</td>\n",
              "      <td>NaN</td>\n",
              "    </tr>\n",
              "    <tr>\n",
              "      <th>455</th>\n",
              "      <td>NaN</td>\n",
              "      <td>NaN</td>\n",
              "      <td>NaN</td>\n",
              "      <td>NaN</td>\n",
              "      <td>NaN</td>\n",
              "      <td>-522175.420</td>\n",
              "      <td>-84959.85</td>\n",
              "      <td>NaN</td>\n",
              "      <td>-5974.135000</td>\n",
              "      <td>-55126.452000</td>\n",
              "      <td>-7074.635000</td>\n",
              "      <td>NaN</td>\n",
              "      <td>NaN</td>\n",
              "      <td>-26726.4</td>\n",
              "      <td>NaN</td>\n",
              "      <td>-116338.440000</td>\n",
              "      <td>NaN</td>\n",
              "      <td>NaN</td>\n",
              "      <td>NaN</td>\n",
              "      <td>-28294.047143</td>\n",
              "      <td>-5007.255934</td>\n",
              "      <td>-11117.280000</td>\n",
              "      <td>-243267.887869</td>\n",
              "      <td>NaN</td>\n",
              "      <td>-31132.43625</td>\n",
              "      <td>NaN</td>\n",
              "      <td>NaN</td>\n",
              "      <td>NaN</td>\n",
              "      <td>NaN</td>\n",
              "      <td>NaN</td>\n",
              "      <td>NaN</td>\n",
              "      <td>NaN</td>\n",
              "      <td>NaN</td>\n",
              "      <td>NaN</td>\n",
              "      <td>NaN</td>\n",
              "      <td>NaN</td>\n",
              "      <td>NaN</td>\n",
              "      <td>NaN</td>\n",
              "      <td>NaN</td>\n",
              "      <td>NaN</td>\n",
              "      <td>...</td>\n",
              "      <td>NaN</td>\n",
              "      <td>9185.720000</td>\n",
              "      <td>NaN</td>\n",
              "      <td>NaN</td>\n",
              "      <td>NaN</td>\n",
              "      <td>NaN</td>\n",
              "      <td>-18266.780000</td>\n",
              "      <td>-10488.43</td>\n",
              "      <td>NaN</td>\n",
              "      <td>NaN</td>\n",
              "      <td>NaN</td>\n",
              "      <td>NaN</td>\n",
              "      <td>NaN</td>\n",
              "      <td>NaN</td>\n",
              "      <td>NaN</td>\n",
              "      <td>NaN</td>\n",
              "      <td>NaN</td>\n",
              "      <td>-18311.290000</td>\n",
              "      <td>-8167.011667</td>\n",
              "      <td>NaN</td>\n",
              "      <td>-244804.82</td>\n",
              "      <td>-13475.49</td>\n",
              "      <td>-213249.700000</td>\n",
              "      <td>NaN</td>\n",
              "      <td>NaN</td>\n",
              "      <td>NaN</td>\n",
              "      <td>NaN</td>\n",
              "      <td>-225377.647500</td>\n",
              "      <td>NaN</td>\n",
              "      <td>NaN</td>\n",
              "      <td>NaN</td>\n",
              "      <td>NaN</td>\n",
              "      <td>NaN</td>\n",
              "      <td>NaN</td>\n",
              "      <td>-30584.382222</td>\n",
              "      <td>NaN</td>\n",
              "      <td>NaN</td>\n",
              "      <td>NaN</td>\n",
              "      <td>-11341.87</td>\n",
              "      <td>NaN</td>\n",
              "    </tr>\n",
              "    <tr>\n",
              "      <th>456</th>\n",
              "      <td>NaN</td>\n",
              "      <td>NaN</td>\n",
              "      <td>NaN</td>\n",
              "      <td>NaN</td>\n",
              "      <td>NaN</td>\n",
              "      <td>NaN</td>\n",
              "      <td>NaN</td>\n",
              "      <td>NaN</td>\n",
              "      <td>-8459.616667</td>\n",
              "      <td>-25766.044000</td>\n",
              "      <td>-10495.913333</td>\n",
              "      <td>NaN</td>\n",
              "      <td>NaN</td>\n",
              "      <td>NaN</td>\n",
              "      <td>NaN</td>\n",
              "      <td>NaN</td>\n",
              "      <td>NaN</td>\n",
              "      <td>NaN</td>\n",
              "      <td>-25032.750000</td>\n",
              "      <td>-7336.660000</td>\n",
              "      <td>-5945.182500</td>\n",
              "      <td>-35373.170000</td>\n",
              "      <td>-274049.766409</td>\n",
              "      <td>-19865.125</td>\n",
              "      <td>-20275.38000</td>\n",
              "      <td>-34227.756667</td>\n",
              "      <td>NaN</td>\n",
              "      <td>NaN</td>\n",
              "      <td>NaN</td>\n",
              "      <td>NaN</td>\n",
              "      <td>NaN</td>\n",
              "      <td>NaN</td>\n",
              "      <td>NaN</td>\n",
              "      <td>NaN</td>\n",
              "      <td>NaN</td>\n",
              "      <td>NaN</td>\n",
              "      <td>NaN</td>\n",
              "      <td>NaN</td>\n",
              "      <td>NaN</td>\n",
              "      <td>NaN</td>\n",
              "      <td>...</td>\n",
              "      <td>NaN</td>\n",
              "      <td>-4083.261667</td>\n",
              "      <td>NaN</td>\n",
              "      <td>NaN</td>\n",
              "      <td>NaN</td>\n",
              "      <td>-284379.20</td>\n",
              "      <td>-9432.846667</td>\n",
              "      <td>NaN</td>\n",
              "      <td>NaN</td>\n",
              "      <td>NaN</td>\n",
              "      <td>-17020.296667</td>\n",
              "      <td>-25154.26</td>\n",
              "      <td>NaN</td>\n",
              "      <td>NaN</td>\n",
              "      <td>NaN</td>\n",
              "      <td>NaN</td>\n",
              "      <td>NaN</td>\n",
              "      <td>-5693.397500</td>\n",
              "      <td>-12989.464545</td>\n",
              "      <td>NaN</td>\n",
              "      <td>-137000.86</td>\n",
              "      <td>-15811.25</td>\n",
              "      <td>NaN</td>\n",
              "      <td>NaN</td>\n",
              "      <td>NaN</td>\n",
              "      <td>NaN</td>\n",
              "      <td>NaN</td>\n",
              "      <td>-27737.060000</td>\n",
              "      <td>NaN</td>\n",
              "      <td>NaN</td>\n",
              "      <td>NaN</td>\n",
              "      <td>NaN</td>\n",
              "      <td>NaN</td>\n",
              "      <td>NaN</td>\n",
              "      <td>-8434.677500</td>\n",
              "      <td>NaN</td>\n",
              "      <td>NaN</td>\n",
              "      <td>NaN</td>\n",
              "      <td>-663.67</td>\n",
              "      <td>NaN</td>\n",
              "    </tr>\n",
              "  </tbody>\n",
              "</table>\n",
              "<p>457 rows × 184 columns</p>\n",
              "</div>"
            ],
            "text/plain": [
              "mcc_code      742   1711  1731  1799  2741  ...     9211  9222  9311      9399  9402\n",
              "tr_day                                      ...                                     \n",
              "0        -12352.54   NaN   NaN   NaN   NaN  ...      NaN   NaN   NaN       NaN   NaN\n",
              "1              NaN   NaN   NaN   NaN   NaN  ...      NaN   NaN   NaN       NaN   NaN\n",
              "2              NaN   NaN   NaN   NaN   NaN  ...      NaN   NaN   NaN       NaN   NaN\n",
              "3              NaN   NaN   NaN   NaN   NaN  ...      NaN   NaN   NaN       NaN   NaN\n",
              "4              NaN   NaN   NaN   NaN   NaN  ...      NaN   NaN   NaN       NaN   NaN\n",
              "...            ...   ...   ...   ...   ...  ...      ...   ...   ...       ...   ...\n",
              "452            NaN   NaN   NaN   NaN   NaN  ...      NaN   NaN   NaN       NaN   NaN\n",
              "453            NaN   NaN   NaN   NaN   NaN  ...      NaN   NaN   NaN  -1021.89   NaN\n",
              "454            NaN   NaN   NaN   NaN   NaN  ... -4491.83   NaN   NaN       NaN   NaN\n",
              "455            NaN   NaN   NaN   NaN   NaN  ...      NaN   NaN   NaN -11341.87   NaN\n",
              "456            NaN   NaN   NaN   NaN   NaN  ...      NaN   NaN   NaN   -663.67   NaN\n",
              "\n",
              "[457 rows x 184 columns]"
            ]
          },
          "metadata": {
            "tags": []
          },
          "execution_count": 66
        }
      ]
    },
    {
      "cell_type": "code",
      "metadata": {
        "colab": {
          "base_uri": "https://localhost:8080/"
        },
        "id": "QL2Mk1o4Dkrg",
        "outputId": "6f5c6385-881a-4b23-96d7-61c89310015b"
      },
      "source": [
        "data_task_6[data_task_6['mcc_description'].str.contains('[Зз]вонки с использованием телефонов', regex=True)]['mcc_code'].unique()"
      ],
      "execution_count": 54,
      "outputs": [
        {
          "output_type": "execute_result",
          "data": {
            "text/plain": [
              "array([4814])"
            ]
          },
          "metadata": {
            "tags": []
          },
          "execution_count": 54
        }
      ]
    },
    {
      "cell_type": "code",
      "metadata": {
        "colab": {
          "base_uri": "https://localhost:8080/",
          "height": 972
        },
        "id": "gnkbXst994IR",
        "outputId": "b7d961f7-9236-4193-dfcd-b69136175769"
      },
      "source": [
        "plt.figure(figsize=(15, 17))\r\n",
        "data_pivott[4814].plot(kind='kde')\r\n",
        "plt.show()"
      ],
      "execution_count": 55,
      "outputs": [
        {
          "output_type": "display_data",
          "data": {
            "image/png": "[encoded data removed]",
            "text/plain": [
              "<Figure size 1080x1224 with 1 Axes>"
            ]
          },
          "metadata": {
            "tags": [],
            "needs_background": "light"
          }
        }
      ]
    }
  ]
}